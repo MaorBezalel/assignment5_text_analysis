{
 "cells": [
  {
   "cell_type": "markdown",
   "metadata": {},
   "source": [
    "# Assignment 5 - Text Analysis\n",
    "An explanation this assignment could be found in the .pdf explanation document"
   ]
  },
  {
   "cell_type": "markdown",
   "metadata": {},
   "source": [
    "\n",
    "## Materials to review for this assignment\n",
    "<h4>From Moodle:</h4> \n",
    "<h5><u>Review the notebooks regarding the following python topics</u>:</h5>\n",
    "<div class=\"alert alert-info\">\n",
    "&#x2714; <b>Working with strings</b> (tutorial notebook)<br/>\n",
    "&#x2714; <b>Text Analysis</b> (tutorial notebook)<br/>\n",
    "&#x2714; <b>Hebrew text analysis tools (tokenizer, wordnet)</b> (moodle example)<br/>\n",
    "&#x2714; <b>(brief review) All previous notebooks</b><br/>\n",
    "</div> \n",
    "<h5><u>Review the presentations regarding the following topics</u>:</h5>\n",
    "<div class=\"alert alert-info\">\n",
    "&#x2714; <b>Text Analysis</b> (lecture presentation)<br/>\n",
    "&#x2714; <b>(brief review) All other presentations</b><br/>\n",
    "</div>"
   ]
  },
  {
   "cell_type": "markdown",
   "metadata": {},
   "source": [
    "## Preceding Step - import modules (packages)\n",
    "This step is necessary in order to use external modules (packages). <br/>"
   ]
  },
  {
   "cell_type": "code",
   "execution_count": 338,
   "metadata": {},
   "outputs": [],
   "source": [
    "# --------------------------------------\n",
    "import pandas as pd\n",
    "import numpy as np\n",
    "# --------------------------------------\n",
    "\n",
    "\n",
    "# --------------------------------------\n",
    "# ------------- visualizations:\n",
    "import seaborn as sns\n",
    "import matplotlib.pyplot as plt\n",
    "from matplotlib.colors import ListedColormap\n",
    "# --------------------------------------\n",
    "\n",
    "\n",
    "# ---------------------------------------\n",
    "import sklearn\n",
    "from sklearn import preprocessing, metrics, pipeline, model_selection, feature_extraction \n",
    "from sklearn import naive_bayes, linear_model, svm, neural_network, neighbors, tree\n",
    "from sklearn import decomposition, cluster\n",
    "\n",
    "from sklearn.model_selection import train_test_split, cross_val_score, GridSearchCV \n",
    "from sklearn.pipeline import Pipeline\n",
    "from sklearn.metrics import accuracy_score, confusion_matrix\n",
    "from sklearn.metrics import precision_score, recall_score, f1_score\n",
    "from sklearn.metrics import mean_squared_error, r2_score, silhouette_score\n",
    "from sklearn.preprocessing import MinMaxScaler, StandardScaler, LabelEncoder\n",
    "\n",
    "from sklearn.svm import LinearSVC\n",
    "from sklearn.neural_network import MLPClassifier\n",
    "from sklearn.linear_model import Perceptron, SGDClassifier\n",
    "from sklearn.decomposition import PCA\n",
    "from sklearn.cluster import KMeans\n",
    "from sklearn.naive_bayes import MultinomialNB, GaussianNB\n",
    "from sklearn.neighbors import KNeighborsClassifier\n",
    "from sklearn.tree import DecisionTreeClassifier\n",
    "# ---------------------------------------\n",
    "\n",
    "# ----------------- additional imports from sklrean: \n",
    "from sklearn.linear_model import LogisticRegression\n",
    "\n",
    "# ----------------- output and visualizations: \n",
    "import warnings\n",
    "from sklearn.exceptions import ConvergenceWarning\n",
    "warnings.simplefilter(\"ignore\")\n",
    "warnings.simplefilter(action='ignore', category=FutureWarning)\n",
    "warnings.simplefilter(\"ignore\", category=ConvergenceWarning)\n",
    "# show several prints in one cell. This will allow us to condence every trick in one cell.\n",
    "from IPython.core.interactiveshell import InteractiveShell\n",
    "InteractiveShell.ast_node_interactivity = \"all\"\n",
    "%matplotlib inline\n",
    "pd.pandas.set_option('display.max_columns', None)\n",
    "pd.set_option('display.float_format', lambda x: '%.3f' % x)\n",
    "# ---------------------------------------"
   ]
  },
  {
   "cell_type": "markdown",
   "metadata": {},
   "source": [
    "### Text analysis and String manipulation imports:"
   ]
  },
  {
   "cell_type": "code",
   "execution_count": 339,
   "metadata": {},
   "outputs": [],
   "source": [
    "# --------------------------------------\n",
    "# --------- Text analysis and Hebrew text analysis imports:\n",
    "# vectorizers:\n",
    "from sklearn.feature_extraction import text\n",
    "from sklearn.feature_extraction.text import CountVectorizer, TfidfVectorizer\n",
    "\n",
    "# regular expressions:\n",
    "import re\n",
    "# --------------------------------------"
   ]
  },
  {
   "cell_type": "markdown",
   "metadata": {},
   "source": [
    "### (optional) Hebrew text analysis - WordNet (for Hebrew)\n",
    "Note: the WordNet is not a must"
   ]
  },
  {
   "cell_type": "markdown",
   "metadata": {},
   "source": [
    "#### (optional) Only if you didn't install Wordnet (for Hebrew) use:"
   ]
  },
  {
   "cell_type": "code",
   "execution_count": 340,
   "metadata": {},
   "outputs": [
    {
     "name": "stdout",
     "output_type": "stream",
     "text": [
      "Requirement already satisfied: wn in c:\\users\\maor\\appdata\\local\\programs\\python\\python310\\lib\\site-packages (0.9.3)\n",
      "Requirement already satisfied: requests in c:\\users\\maor\\appdata\\local\\programs\\python\\python310\\lib\\site-packages (from wn) (2.28.1)\n",
      "Requirement already satisfied: tomli in c:\\users\\maor\\appdata\\local\\programs\\python\\python310\\lib\\site-packages (from wn) (2.0.1)\n",
      "Requirement already satisfied: charset-normalizer<3,>=2 in c:\\users\\maor\\appdata\\local\\programs\\python\\python310\\lib\\site-packages (from requests->wn) (2.1.1)\n",
      "Requirement already satisfied: idna<4,>=2.5 in c:\\users\\maor\\appdata\\local\\programs\\python\\python310\\lib\\site-packages (from requests->wn) (3.4)\n",
      "Requirement already satisfied: urllib3<1.27,>=1.21.1 in c:\\users\\maor\\appdata\\local\\programs\\python\\python310\\lib\\site-packages (from requests->wn) (1.26.12)\n",
      "Requirement already satisfied: certifi>=2017.4.17 in c:\\users\\maor\\appdata\\local\\programs\\python\\python310\\lib\\site-packages (from requests->wn) (2022.9.14)\n"
     ]
    },
    {
     "name": "stderr",
     "output_type": "stream",
     "text": [
      "\n",
      "[notice] A new release of pip is available: 23.1 -> 23.1.1\n",
      "[notice] To update, run: python.exe -m pip install --upgrade pip\n",
      "\n",
      "\u001b[KCached file found: C:\\Users\\Maor\\.wn_data\\downloads\\7ecf10e89326bc0ac26ad94b40fe60a7b6ac3302\n",
      "\n",
      "\u001b[KChecking C:\\Users\\Maor\\AppData\\Local\\Temp\\tmpofvdv4o_\\omw-he\\omw-he.xml\n",
      "\u001b[KSkipping omw-he:1.4 (Hebrew Wordnet); already added\n",
      "\n"
     ]
    }
   ],
   "source": [
    "# word net installation:\n",
    "\n",
    "# unmark if you want to use and need to install\n",
    "!pip install wn\n",
    "!python -m wn download omw-he:1.4"
   ]
  },
  {
   "cell_type": "code",
   "execution_count": 341,
   "metadata": {},
   "outputs": [],
   "source": [
    "# word net import:\n",
    "\n",
    "# unmark if you want to use:\n",
    "#import wn"
   ]
  },
  {
   "cell_type": "markdown",
   "metadata": {},
   "source": [
    "### (optional) Hebrew text analysis - hebrew_tokenizer (Tokenizer for Hebrew)\n",
    "Note: the hebrew_tokenizer is not a must"
   ]
  },
  {
   "cell_type": "markdown",
   "metadata": {},
   "source": [
    "#### (optional) Only if you didn't install hebrew_tokenizer use:"
   ]
  },
  {
   "cell_type": "code",
   "execution_count": 342,
   "metadata": {},
   "outputs": [],
   "source": [
    "# Hebrew tokenizer installation:\n",
    "\n",
    "# unmark if you want to use and need to install:\n",
    "#!pip install hebrew_tokenizer"
   ]
  },
  {
   "cell_type": "code",
   "execution_count": 343,
   "metadata": {},
   "outputs": [],
   "source": [
    "# Hebrew tokenizer import:\n",
    "\n",
    "# unmark if you want to use:\n",
    "import hebrew_tokenizer as ht"
   ]
  },
  {
   "cell_type": "markdown",
   "metadata": {},
   "source": [
    "### Reading input files\n",
    "Reading input files for train annotated corpus (raw text data) corpus and for the test corpus"
   ]
  },
  {
   "cell_type": "code",
   "execution_count": 344,
   "metadata": {},
   "outputs": [],
   "source": [
    "train_filename = 'annotated_corpus_for_train.csv'\n",
    "test_filename  = 'corpus_for_test.csv'\n",
    "df_train = pd.read_csv(train_filename, index_col=None, encoding='utf-8')\n",
    "df_test  = pd.read_csv(test_filename, index_col=None, encoding='utf-8')"
   ]
  },
  {
   "cell_type": "code",
   "execution_count": 345,
   "metadata": {},
   "outputs": [
    {
     "data": {
      "text/html": [
       "<div>\n",
       "<style scoped>\n",
       "    .dataframe tbody tr th:only-of-type {\n",
       "        vertical-align: middle;\n",
       "    }\n",
       "\n",
       "    .dataframe tbody tr th {\n",
       "        vertical-align: top;\n",
       "    }\n",
       "\n",
       "    .dataframe thead th {\n",
       "        text-align: right;\n",
       "    }\n",
       "</style>\n",
       "<table border=\"1\" class=\"dataframe\">\n",
       "  <thead>\n",
       "    <tr style=\"text-align: right;\">\n",
       "      <th></th>\n",
       "      <th>story</th>\n",
       "      <th>gender</th>\n",
       "    </tr>\n",
       "  </thead>\n",
       "  <tbody>\n",
       "    <tr>\n",
       "      <th>0</th>\n",
       "      <td>כשחבר הזמין אותי לחול, לא באמת חשבתי שזה יקרה,...</td>\n",
       "      <td>m</td>\n",
       "    </tr>\n",
       "    <tr>\n",
       "      <th>1</th>\n",
       "      <td>לפני שהתגייסתי לצבא עשיתי כל מני מיונים ליחידו...</td>\n",
       "      <td>m</td>\n",
       "    </tr>\n",
       "    <tr>\n",
       "      <th>2</th>\n",
       "      <td>מאז שהתחילו הלימודים חלומו של כל סטודנט זה הפנ...</td>\n",
       "      <td>f</td>\n",
       "    </tr>\n",
       "    <tr>\n",
       "      <th>3</th>\n",
       "      <td>כשהייתי ילד, מטוסים היה הדבר שהכי ריתק אותי. ב...</td>\n",
       "      <td>m</td>\n",
       "    </tr>\n",
       "    <tr>\n",
       "      <th>4</th>\n",
       "      <td>‏הייתי מדריכה בכפר נוער ומתאם הכפר היינו צריכי...</td>\n",
       "      <td>f</td>\n",
       "    </tr>\n",
       "    <tr>\n",
       "      <th>5</th>\n",
       "      <td>לפני כ3 חודשים טסתי לרומא למשך שבוע. טסתי במטו...</td>\n",
       "      <td>f</td>\n",
       "    </tr>\n",
       "    <tr>\n",
       "      <th>6</th>\n",
       "      <td>אני כבר שנתיים נשוי והשנה אני ואישתי סוף סוף י...</td>\n",
       "      <td>m</td>\n",
       "    </tr>\n",
       "    <tr>\n",
       "      <th>7</th>\n",
       "      <td>השנה התחלנו שיפוץ בדירה שלנו בתל אביב. הדירה ה...</td>\n",
       "      <td>f</td>\n",
       "    </tr>\n",
       "  </tbody>\n",
       "</table>\n",
       "</div>"
      ],
      "text/plain": [
       "                                               story gender\n",
       "0  כשחבר הזמין אותי לחול, לא באמת חשבתי שזה יקרה,...      m\n",
       "1  לפני שהתגייסתי לצבא עשיתי כל מני מיונים ליחידו...      m\n",
       "2  מאז שהתחילו הלימודים חלומו של כל סטודנט זה הפנ...      f\n",
       "3  כשהייתי ילד, מטוסים היה הדבר שהכי ריתק אותי. ב...      m\n",
       "4  ‏הייתי מדריכה בכפר נוער ומתאם הכפר היינו צריכי...      f\n",
       "5  לפני כ3 חודשים טסתי לרומא למשך שבוע. טסתי במטו...      f\n",
       "6  אני כבר שנתיים נשוי והשנה אני ואישתי סוף סוף י...      m\n",
       "7  השנה התחלנו שיפוץ בדירה שלנו בתל אביב. הדירה ה...      f"
      ]
     },
     "execution_count": 345,
     "metadata": {},
     "output_type": "execute_result"
    },
    {
     "data": {
      "text/plain": [
       "(753, 2)"
      ]
     },
     "execution_count": 345,
     "metadata": {},
     "output_type": "execute_result"
    }
   ],
   "source": [
    "df_train.head(8)\n",
    "df_train.shape"
   ]
  },
  {
   "cell_type": "code",
   "execution_count": 346,
   "metadata": {},
   "outputs": [
    {
     "data": {
      "text/html": [
       "<div>\n",
       "<style scoped>\n",
       "    .dataframe tbody tr th:only-of-type {\n",
       "        vertical-align: middle;\n",
       "    }\n",
       "\n",
       "    .dataframe tbody tr th {\n",
       "        vertical-align: top;\n",
       "    }\n",
       "\n",
       "    .dataframe thead th {\n",
       "        text-align: right;\n",
       "    }\n",
       "</style>\n",
       "<table border=\"1\" class=\"dataframe\">\n",
       "  <thead>\n",
       "    <tr style=\"text-align: right;\">\n",
       "      <th></th>\n",
       "      <th>test_example_id</th>\n",
       "      <th>story</th>\n",
       "    </tr>\n",
       "  </thead>\n",
       "  <tbody>\n",
       "    <tr>\n",
       "      <th>0</th>\n",
       "      <td>0</td>\n",
       "      <td>כל קיץ אני והמשפחה נוסעים לארצות הברית לוס אנג...</td>\n",
       "    </tr>\n",
       "    <tr>\n",
       "      <th>1</th>\n",
       "      <td>1</td>\n",
       "      <td>הגעתי לשירות המדינה אחרי שנתיים כפעיל בתנועת \"...</td>\n",
       "    </tr>\n",
       "    <tr>\n",
       "      <th>2</th>\n",
       "      <td>2</td>\n",
       "      <td>אחת האהבות הגדולות שלי אלו הכלבים שלי ושל אישת...</td>\n",
       "    </tr>\n",
       "  </tbody>\n",
       "</table>\n",
       "</div>"
      ],
      "text/plain": [
       "   test_example_id                                              story\n",
       "0                0  כל קיץ אני והמשפחה נוסעים לארצות הברית לוס אנג...\n",
       "1                1  הגעתי לשירות המדינה אחרי שנתיים כפעיל בתנועת \"...\n",
       "2                2  אחת האהבות הגדולות שלי אלו הכלבים שלי ושל אישת..."
      ]
     },
     "execution_count": 346,
     "metadata": {},
     "output_type": "execute_result"
    },
    {
     "data": {
      "text/plain": [
       "(323, 2)"
      ]
     },
     "execution_count": 346,
     "metadata": {},
     "output_type": "execute_result"
    }
   ],
   "source": [
    "df_test.head(3)\n",
    "df_test.shape"
   ]
  },
  {
   "cell_type": "markdown",
   "metadata": {},
   "source": [
    "### Your implementation:\n",
    "Write your code solution in the following code-cells"
   ]
  },
  {
   "attachments": {},
   "cell_type": "markdown",
   "metadata": {},
   "source": [
    "# <u>Introduction</u>\n",
    "\n",
    "This mini-project aims to develop a gender classification model based on the textual data of stories.<br>\n",
    "The model will classify a given story into either male or female category based on the gender of the protagonist/writer.\n",
    "\n",
    "The project follows five main steps:\n",
    "\n",
    "1. **Tokenization**\n",
    "2. **Prep-Evaluation**\n",
    "3. **Evaluation**\n",
    "4. **Evaluation Conclusion**\n",
    "5. **Prediction**\n",
    "\n",
    "**In the first step, Tokenization**,<br>\n",
    "we will preprocess the textual data by splitting it into individual words.\n",
    "\n",
    "**In the second step, the Prep-Evaluation** phase,<br>\n",
    "we will define several key-functions that will be used during the evaluation phase.\n",
    "\n",
    "**In the third step, the Evaluation** phase,<br>\n",
    "we will train several models using different combinations of classifiers and vectorizers.<br>\n",
    "We will then use <code>GridSearchCV</code> to tune the models and select the best hyperparameters.<br>\n",
    "Finally, with the best hyperparameters, we will evaluate the models performance (<code>Average_f1</code>).\n",
    "\n",
    "**In the fourth step, the Evaluation Conclusion**,<br>\n",
    "we will analyze the results of our evaluations using <code>table and EDA representations</code>.\n",
    "\n",
    "**In the fifth and final step, Prediction**,<br>\n",
    "we will find the best-performing model based on their <code>Average_f1</code> value.\n",
    "We will then use the best-performing model to predict the gender of a new story.<br>\n",
    "Finally, we will preprocess the story using the same tokenization technique used in the evaluation phase and pass it to the model to get its predicted gender."
   ]
  },
  {
   "attachments": {},
   "cell_type": "markdown",
   "metadata": {},
   "source": [
    "# <u>Step 1: Tokenization</u>\n",
    "\n",
    "This is the first stage of our mini-project. Our goal is to preprocess each story in the corpus.<br/>\n",
    "We are going to divide each story into tokens, consisting of only one Hebrew word,<br>\n",
    "with each word/token separated from the other by a single whitespace.<br/>\n",
    "\n",
    "<u><b>For Example:</b></u>\n",
    "* ב.ע.מ. -> בעמ\n",
    "* דוא\"ל -> דואל\n",
    "* שלום, עולם. -> שלום עולם"
   ]
  },
  {
   "attachments": {},
   "cell_type": "markdown",
   "metadata": {},
   "source": [
    "## Step 1.1: Define Preprocessing Function\n",
    "\n",
    "<u>function name</u>: <b>preprocess_text</b><br/>\n",
    "\n",
    "------------\n",
    "\n",
    "<u><b>input parameters</b></u>:\n",
    "- hebrew_text - a text/story written in <code>Hebrew</code>\n",
    "------------\n",
    "The function is going to return a regulated version of the <code>hebrew_text</code>,<br>\n",
    "    that contains only Hebrew words, seperated by a single whitespace.\n",
    "    \n",
    "------------\n"
   ]
  },
  {
   "cell_type": "code",
   "execution_count": 347,
   "metadata": {},
   "outputs": [],
   "source": [
    "def preprocess_text(hebrew_text):\n",
    "    tokens = ht.tokenize(hebrew_text)\n",
    "    return ' '.join([token[1] for token in tokens if (token[0] == 'HEBREW') and (len(token[1]) > 1)])"
   ]
  },
  {
   "attachments": {},
   "cell_type": "markdown",
   "metadata": {},
   "source": [
    "## Step 1.2: Apply The Preprocessing Function Onto <code>df_train and df_test</code>\n",
    "\n"
   ]
  },
  {
   "cell_type": "code",
   "execution_count": 348,
   "metadata": {},
   "outputs": [],
   "source": [
    "df_train_tokenized = df_train.copy()\n",
    "df_train_tokenized['story'] = df_train_tokenized['story'].apply(preprocess_text)"
   ]
  },
  {
   "attachments": {},
   "cell_type": "markdown",
   "metadata": {},
   "source": [
    "# <u>Step 2: Prep-Evaluation</u>\n",
    "\n",
    "This phase is going to mostly consist of functions and variables definition<br>\n",
    "which we will be used during the model Evaluation phase."
   ]
  },
  {
   "attachments": {},
   "cell_type": "markdown",
   "metadata": {},
   "source": [
    "## Step 2.1: Define Vectorizer Parameters Functions\n",
    "\n",
    "<u><b>The following vectorizer parameters functions are defined as:</b></u>\n",
    "\n",
    "* CountVectorizer_params\n",
    "* TfidfVectorizer_params\n",
    "\n",
    "------------\n",
    "\n",
    "<u><b>Input:</b></u>\n",
    "\n",
    "* None\n",
    "\n",
    "------------\n",
    "\n",
    "<u><b>Output:</b></u>\n",
    "\n",
    "* a dictionary of hyperparameters for the respective vectorizer\n",
    "\n",
    "------------\n",
    "<u><b>Description:</b></u>\n",
    "\n",
    "These functions return dictionaries of hyperparameters for two different vectorizers:\n",
    "\n",
    "* CountVectorizer \n",
    "* TfidfVectorizer \n",
    "\n",
    "which will be used in machine learning pipelines for text classification alongside various various machine learning classifier.\n",
    "    \n",
    "------------"
   ]
  },
  {
   "cell_type": "code",
   "execution_count": 349,
   "metadata": {},
   "outputs": [],
   "source": [
    "def CountVectorizer_params() -> dict[str, list]:\n",
    "    return {\n",
    "        'vec': [CountVectorizer()],\n",
    "        'vec__max_features': [10_000, 30_000, 40_000],\n",
    "        'vec__ngram_range': [(1,1), (1,2)],\n",
    "        'vec__min_df': [1, 3],\n",
    "        'vec__max_df': [0.7, 0.9]\n",
    "    }\n",
    "\n",
    "def TfidfVectorizer_params() -> dict[str, list]:\n",
    "    return {\n",
    "        'vec': [TfidfVectorizer()],\n",
    "        'vec__max_features': [10_000, 30_000, 40_000],\n",
    "        'vec__ngram_range': [(1,1), (1,2)],\n",
    "        'vec__min_df': [1, 3],\n",
    "        'vec__max_df': [0.7, 0.9],\n",
    "        'vec__sublinear_tf': [True]\n",
    "    }"
   ]
  },
  {
   "attachments": {},
   "cell_type": "markdown",
   "metadata": {},
   "source": [
    "\n",
    "## Step 2.2: Define Classifier Parameters Functions\n",
    "<u><b>The following classifier parameters functions are defined as:</b></u>\n",
    "\n",
    "* MultinomialNB_params\n",
    "* LinearSVC_params\n",
    "* SGDClassifier_params\n",
    "* Perceptron_params\n",
    "* LogisticRegression_params\n",
    "* DecisionTree_params\n",
    "* KNN_params\n",
    "\n",
    "------------\n",
    "\n",
    "<u><b>Input:</b></u>\n",
    "\n",
    "* None\n",
    "\n",
    "------------\n",
    "\n",
    "<u><b>Output:</b></u>\n",
    "\n",
    "a dictionary of hyperparameters for the respective classifier\n",
    "\n",
    "------------\n",
    "\n",
    "<u><b>Description:</b></u>\n",
    "\n",
    "These functions return dictionaries of hyperparameters for different classifiers:\n",
    "\n",
    "* Multinomial Naive Bayes\n",
    "* Linear Support Vector Classification\n",
    "* Stochastic Gradient Descent Classification\n",
    "* Perceptron\n",
    "* Logistic Regression\n",
    "* Decision Tree\n",
    "* K-Nearest Neighbors\n",
    "\n",
    "which will be used in machine learning pipelines for text classification alongside various vectorizers.\n",
    "\n",
    "------------"
   ]
  },
  {
   "cell_type": "code",
   "execution_count": 350,
   "metadata": {},
   "outputs": [],
   "source": [
    "def MultinomialNB_params() -> dict[str, list]:\n",
    "    return {\n",
    "        'clf': [MultinomialNB()],\n",
    "        'clf__alpha': [0.1, 0.5, 1, 10]\n",
    "    }\n",
    "\n",
    "def LinearSVC_params() -> dict[str, list]:\n",
    "    return {\n",
    "        'clf': [LinearSVC()],\n",
    "        'clf__C': [0.1, 0.5, 1],\n",
    "        'clf__penalty': ['l2'],\n",
    "        'clf__loss': ['squared_hinge']\n",
    "    }\n",
    "\n",
    "def SGDClassifier_params() -> dict[str, list]:\n",
    "    return {\n",
    "        'clf': [SGDClassifier()],\n",
    "        'clf__alpha': [0.001, 0.05, 0.1],\n",
    "        'clf__loss': ['hinge', 'squared_hinge']\n",
    "    }\n",
    "\n",
    "def Perceptron_params() -> dict[str, list]:\n",
    "    return {\n",
    "        'clf': [Perceptron()],\n",
    "        'clf__alpha': [0.001, 0.05, 0.1],\n",
    "        'clf__penalty': [None, 'l2', 'l1', 'elasticnet']\n",
    "    }\n",
    "\n",
    "def LogisticRegression_params() -> dict[str, list]:\n",
    "    return {\n",
    "        'clf': [LogisticRegression()],\n",
    "        'clf__C': [0.01, 0.1, 1],\n",
    "        'clf__max_iter': [100, 500, 1000]\n",
    "    }\n",
    "\n",
    "def DecisionTree_params() -> dict[str, list]:\n",
    "    return {\n",
    "        'clf': [DecisionTreeClassifier()],\n",
    "        'clf__max_depth': [3, 5, 7],\n",
    "        'clf__criterion': ['gini', 'entropy']\n",
    "    }\n",
    "\n",
    "def KNN_params() -> dict[str, list]:\n",
    "    return {\n",
    "        'clf': [KNeighborsClassifier()],\n",
    "        'clf__n_neighbors': [3, 5, 7],\n",
    "        'clf__weights': ['uniform', 'distance'],\n",
    "        'clf__metric': ['cosine', 'euclidean']\n",
    "    }"
   ]
  },
  {
   "attachments": {},
   "cell_type": "markdown",
   "metadata": {},
   "source": [
    "## Step 2.3: Define Vectorizers and Classifiers Reference Dictionaries\n",
    "<u><b>The following reference dictionaries functions for vectorizers and classifiers are defined as:</b></u>\n",
    "\n",
    "* vectorizers_ref_dict\n",
    "* classifiers_ref_dict\n",
    "\n",
    "------------\n",
    "\n",
    "<u><b>Input:</b></u>\n",
    "\n",
    "* None\n",
    "\n",
    "------------\n",
    "\n",
    "<u><b>Output:</b></u>\n",
    "\n",
    "* A dictionary of dictionaries containing the respective vectorizer & classifier object and their hyperparameters\n",
    "\n",
    "------------\n",
    "\n",
    "<u><b>Description:</b></u>\n",
    "\n",
    "These two functions create two dictionaries that are defined to store the respective vectorizer & classifier:\n",
    "\n",
    "* object\n",
    "* hyperparameters\n",
    "\n",
    "These dictionaries will be used to create machine learning pipelines with various machine learning classifiers.\n",
    "\n",
    "vectorizers_ref_dict stores the following vectorizers:\n",
    "\n",
    "* CountVectorizer\n",
    "* TfidfVectorizer\n",
    "\n",
    "classifier_ref_dict stores the following machine learning algorithms/models:\n",
    "\n",
    "* MultinomialNB\n",
    "* LinearSVC\n",
    "* SGDClassifier\n",
    "* Perceptron\n",
    "* LogisticRegression\n",
    "* DecisionTree\n",
    "* KNN\n",
    "\n",
    "Both the dictionaries contain a dictionary for each vectorizer/model with two keys:\n",
    "\n",
    "* object: stores the object of the respective vectorizer/model\n",
    "* params: stores the dictionary of hyperparameters for the respective vectorizer/model\n",
    "\n",
    "------------"
   ]
  },
  {
   "cell_type": "code",
   "execution_count": 351,
   "metadata": {},
   "outputs": [],
   "source": [
    "def vectorizers_ref_dict() -> dict[str, dict[str, object]]:\n",
    "    return {\n",
    "        'CountVectorizer': {'object': CountVectorizer(), 'params': CountVectorizer_params()},\n",
    "        'TfidfVectorizer': {'object': TfidfVectorizer(), 'params': TfidfVectorizer_params()}\n",
    "    }\n",
    "\n",
    "def classifiers_ref_dict() -> dict[str, dict[str, object]]:\n",
    "    return {\n",
    "        'MultinomialNB': {'object': MultinomialNB(), 'params': MultinomialNB_params()},\n",
    "        'LinearSVC': {'object': LinearSVC(), 'params': LinearSVC_params()},\n",
    "        'SGD': {'object': SGDClassifier(), 'params': SGDClassifier_params()},\n",
    "        'Perceptron': {'object': Perceptron(), 'params': Perceptron_params()},\n",
    "        'LogisticRegression': {'object': LogisticRegression(), 'params': LogisticRegression_params()},\n",
    "        'DecisionTree': {'object': DecisionTreeClassifier(), 'params': DecisionTree_params()},\n",
    "        'KNN': {'object': KNeighborsClassifier(), 'params': KNN_params()}\n",
    "    }"
   ]
  },
  {
   "attachments": {},
   "cell_type": "markdown",
   "metadata": {},
   "source": [
    "## Step 2.4: Define Function to Create Machine Learning Pipelines\n",
    "\n",
    "<u><b>The following function is defined as:</b></u>\n",
    "\n",
    "* create_classifier_vectorizer_pipeline\n",
    "\n",
    "------------\n",
    "\n",
    "<u><b>Input:</b></u>\n",
    "\n",
    "* <b>classifier_object</b>: object of the machine learning model\n",
    "* <b>vectorizer_object</b>: object of the text vectorizer\n",
    "\n",
    "------------\n",
    "\n",
    "<u><b>Output:</b></u>\n",
    "\n",
    "* A pipeline object\n",
    "\n",
    "------------\n",
    "\n",
    "<u><b>Description:</b></u>\n",
    "\n",
    "The function creates a pipeline object with two components:\n",
    "\n",
    "* Vectorizer: The text vectorizer object\n",
    "* Classifier: The machine learning classifier object\n",
    "\n",
    "The function takes two objects as input:\n",
    "\n",
    "* the machine learning classifier object \n",
    "* text vectorizer object\n",
    "\n",
    "It returns a pipeline object with two components: \n",
    "\n",
    "* the vectorizer \n",
    "* the classifier\n",
    "\n",
    "The pipeline object will be used to fit the training data and make predictions on the test data.\n",
    "\n",
    "------------"
   ]
  },
  {
   "cell_type": "code",
   "execution_count": 352,
   "metadata": {},
   "outputs": [],
   "source": [
    "def create_classifier_vectorizer_pipeline(classifier_object: object, vectorizer_object: object) -> Pipeline:\n",
    "    return Pipeline([('vec', vectorizer_object), ('clf', classifier_object)])"
   ]
  },
  {
   "attachments": {},
   "cell_type": "markdown",
   "metadata": {},
   "source": [
    "## Step 2.5: Define Function to Create Parameter Grid\n",
    "\n",
    "<u><b>The following function is defined as:</b></u>\n",
    "\n",
    "* create_param_grid\n",
    "\n",
    "------------\n",
    "\n",
    "<u><b>Input:</b></u>\n",
    "\n",
    "* <b>classifier_params</b>: A dictionary containing the hyperparameter values for the machine learning classifier\n",
    "* <b>vectorizer_params</b>: A dictionary containing the hyperparameter values for the text vectorizer\n",
    "\n",
    "------------\n",
    "\n",
    "<u><b>Output:</b></u>\n",
    "\n",
    "* A dictionary of hyperparameters wrapped in a list\n",
    "\n",
    "------------\n",
    "\n",
    "<u><b>Description:</b></u>\n",
    "\n",
    "The function creates a list of dictionaries, where each dictionary contains hyperparameters for the text vectorizer and the machine learning classifier.\n",
    "\n",
    "The function takes two dictionaries as input:\n",
    "\n",
    "* <b>classifier_params</b>: A dictionary containing the hyperparameter values for the machine learning model\n",
    "* <b>vectorizer_params</b>: A dictionary containing the hyperparameter values for the text vectorizer\n",
    "\n",
    "It returns a dictionary of the hyperparameter values for the text vectorizer and the machine learning classifier wrapped in a list.\n",
    "\n",
    "This list of dictionaries is used to perform a grid search to find the best combination of hyperparameters for the given machine learning classifier and text vectorizer.\n",
    "\n",
    "------------"
   ]
  },
  {
   "cell_type": "code",
   "execution_count": 353,
   "metadata": {},
   "outputs": [],
   "source": [
    "def create_param_grid(classifier_params: dict[str, list], vectorizer_params: dict[str, list]) -> list[dict[str, list]]:\n",
    "    return [dict(vectorizer_params, **classifier_params)] # ≡ [classifier_params ∪ vectorizer_params]"
   ]
  },
  {
   "attachments": {},
   "cell_type": "markdown",
   "metadata": {},
   "source": [
    "## Step 2.6: Define Function to Find Best Parameters\n",
    "\n",
    "<u><b>The following function is defined as:</b></u>\n",
    "\n",
    "* find_best_params\n",
    "\n",
    "------------\n",
    "\n",
    "<u><b>Input:</b></u>\n",
    "\n",
    "* <b>pipeline_grid</b>: A pipeline object containing both the vectorizer and classifier\n",
    "* <b>param_grid</b>: A list of dictionaries containing hyperparameters for the text vectorizer and machine learning classifier\n",
    "* <b>df_train_tokenized</b>: A pandas dataframe representing our training set.\n",
    "\n",
    "------------\n",
    "\n",
    "<u><b>Output:</b></u>\n",
    "\n",
    "* A dictionary containing the best hyperparameters for the vectorizer and classifier\n",
    "\n",
    "------------\n",
    "\n",
    "<u><b>Description:</b></u>\n",
    "\n",
    "The function performs a grid search over a list of hyperparameters for both the text vectorizer and the machine learning classifier.\n",
    "\n",
    "\n",
    "The function then uses the <code>GridSearchCV</code> function from scikit-learn to search over the parameter grid,<br>\n",
    "using cross-validation (<code>cv = 5</code>) to evaluate each combination of hyperparameters.\n",
    "\n",
    "Finaly, the function returns a dictionary containing the best hyperparameters for the text vectorizer and machine learning classifier,<br>\n",
    "as determined by the grid search.\n",
    "\n",
    "------------"
   ]
  },
  {
   "cell_type": "code",
   "execution_count": 354,
   "metadata": {},
   "outputs": [],
   "source": [
    "def find_best_params(pipeline_grid: Pipeline, param_grid: list[dict[str, list]], df_train_tokenized: pd.DataFrame) -> dict:\n",
    "    grid_search = GridSearchCV(\n",
    "        estimator=pipeline_grid, \n",
    "        param_grid=param_grid,\n",
    "        scoring='f1_macro',\n",
    "        cv=5,\n",
    "        n_jobs=-1,\n",
    "        return_train_score=False\n",
    "    )   \n",
    "    grid_search.fit(df_train_tokenized['story'], df_train_tokenized['gender'])\n",
    "    best_params = grid_search.best_params_\n",
    "    return {\n",
    "        'vec': best_params['vec'],\n",
    "        'clf': best_params['clf']\n",
    "    }"
   ]
  },
  {
   "attachments": {},
   "cell_type": "markdown",
   "metadata": {},
   "source": [
    "## Step 2.7: Define Function to Evaluate the Model\n",
    "\n",
    "<u><b>The following function is defined as:</b></u>\n",
    "\n",
    "* evaluate_model\n",
    "\n",
    "------------\n",
    "\n",
    "<u><b>Input:</b></u>\n",
    "\n",
    "* <b>best_params</b>: A dictionary containing the best hyperparameters for the text vectorizer and machine learning classifier\n",
    "* <b>df_train_tokenized</b>: A pandas dataframe representing our training set.\n",
    "\n",
    "------------\n",
    "\n",
    "<u><b>Output:</b></u>\n",
    "\n",
    "* A float that represents the <code>Average_f1</code>.\n",
    "\n",
    "------------\n",
    "\n",
    "<u><b>Description:</b></u>\n",
    "\n",
    "The function evaluates the performance of the machine learning model using the best hyperparameters obtained from the grid search that was performed<br>\n",
    "in the <code>find_best_params</code> function.\n",
    "\n",
    "The function does the following:\n",
    "\n",
    "* It creates a pipeline object using the best hyperparameters for the text vectorizer and machine learning classifier.\n",
    "* It fits the pipeline object on the training data.\n",
    "* It calculates the f1 macro score for males and females separately using cross validtion on <code>df_train_tokenized['is_male']</code> and <code>df_train_tokenized['is_female']</code>.\n",
    "* It calculates the average f1 score by taking the mean of the f1 macro scores for males and females.\n",
    "\n",
    "At the end, the function returns a float that represents the <code>Average_f1</code>.\n",
    "\n",
    "------------"
   ]
  },
  {
   "cell_type": "code",
   "execution_count": 355,
   "metadata": {},
   "outputs": [],
   "source": [
    "def evaluate_model(best_params: dict, df_train_tokenized: pd.DataFrame) -> float:\n",
    "    # fit\n",
    "    pipeline_train = Pipeline(list(zip(best_params.keys(), best_params.values())))\n",
    "    pipeline_train.fit(df_train_tokenized['story'], df_train_tokenized['gender'])\n",
    "    \n",
    "    # evaluation of f1_male and f1_female scores & Average_f1\n",
    "    f1_macro_male = cross_val_score(pipeline_train, df_train_tokenized['story'], df_train_tokenized['is_male'], scoring='f1_macro', cv=5, n_jobs=-1).mean()\n",
    "    f1_macro_female = cross_val_score(pipeline_train, df_train_tokenized['story'], df_train_tokenized['is_female'], scoring='f1_macro', cv=5, n_jobs=-1).mean()\n",
    "    average_f1 = (f1_macro_male + f1_macro_female) / 2\n",
    "\n",
    "    return average_f1"
   ]
  },
  {
   "attachments": {},
   "cell_type": "markdown",
   "metadata": {},
   "source": [
    "## Step 2.8: Define a Single Model Training --> Tuning --> Evaluation Flow\n",
    "\n",
    "<u><b>The following function is defined as:</b></u>\n",
    "\n",
    "* model_evaluation_flow\n",
    "\n",
    "------------\n",
    "\n",
    "<u><b>Input:</b></u>\n",
    "\n",
    "* <b>clf_name</b>: A string name of the model's classifier.\n",
    "* <b>classifiers</b>: The dictionary returned from <classifiers_ref_dict> function.\n",
    "* <b>vectorizers</b>: The dictionary returned from <vectorizers_ref_dict> function.\n",
    "* <b>results_ref</b>: The dictionary returned from <models_result> function.\n",
    "* <b>df_train_tokenized</b>: A pandas dataframe representing our training set.\n",
    "\n",
    "\n",
    "------------\n",
    "\n",
    "<u><b>Output:</b></u>\n",
    "\n",
    "* None\n",
    "\n",
    "------------\n",
    "\n",
    "<u><b>Description:</b></u>\n",
    "\n",
    "The function perform the evaluation flow using most the functions defined in <code>Step 2</code>.\n",
    "\n",
    "The function:\n",
    "\n",
    "1. Creates a pipeline with the classifier and vectorizer specified \n",
    "2. Creates a parameter grid to tune the pipeline's hyperparameters\n",
    "3. Finds the best hyperparameters using grid search with cross-validation on the training data\n",
    "4. Evaluates the model on the training and testing data\n",
    "5. Prints out the f1 scores for males, females, and the average f1 score\n",
    "6. Saves the results to the results reference dictionary **(by reference)**\n",
    "\n",
    "The function performs the above using most of functions that are defined in <code>Step 2</code>.\n",
    "\n",
    "------------"
   ]
  },
  {
   "cell_type": "code",
   "execution_count": 356,
   "metadata": {},
   "outputs": [],
   "source": [
    "def model_evaluation_flow(clf_name: str, classifiers: dict[dict[str, list]], vectorizers: dict[dict[str, list]], results_ref: dict, df_train_tokenized: pd.DataFrame):\n",
    "    for vec_name in vectorizers.keys():\n",
    "        print(\"-----------------------------------------------\")\n",
    "        print(f'({clf_name}, {vec_name}) -> Started\\n')\n",
    "\n",
    "        pipeline_grid = create_classifier_vectorizer_pipeline(classifiers[clf_name]['object'], vectorizers[vec_name]['object'])\n",
    "        param_grid = create_param_grid(classifiers[clf_name]['params'], vectorizers[vec_name]['params'])\n",
    "            \n",
    "        best_params = find_best_params(pipeline_grid, param_grid, df_train_tokenized)\n",
    "\n",
    "        average_f1 = evaluate_model(best_params, df_train_tokenized)\n",
    "        print('Average_f1: ', round(average_f1, 3), '\\n')\n",
    "\n",
    "        results_ref['Classifier'].append(clf_name)\n",
    "        results_ref['Vectorizer'].append(vec_name)\n",
    "        results_ref['Classifier Best Parameters'].append(best_params['clf'])\n",
    "        results_ref['Vectorizer Best Parameters'].append(best_params['vec'])\n",
    "        results_ref['Average_f1'].append(average_f1)\n",
    "\n",
    "        print(f'({clf_name}, {vec_name}) -> Finished')\n",
    "        print(\"-----------------------------------------------\\n\\n\")"
   ]
  },
  {
   "attachments": {},
   "cell_type": "markdown",
   "metadata": {},
   "source": [
    "## Step 2.9: Define Function to Save The Results of Each Model\n",
    "\n",
    "<u><b>The following function is defined as:</b></u>\n",
    "\n",
    "* models_result_dict\n",
    "\n",
    "------------\n",
    "\n",
    "<u><b>Input:</b></u>\n",
    "\n",
    "* None\n",
    "\n",
    "------------\n",
    "\n",
    "<u><b>Output:</b></u>\n",
    "\n",
    "* A dictionary containing empty lists for the following keys: \n",
    "    * 'Classifier'\n",
    "    * 'Vectorizer'\n",
    "    * 'Classifier Best Parameters'\n",
    "    * 'Vectorizer Best Parameters'\n",
    "    * 'f1_male score'\n",
    "    * 'f1_female score'\n",
    "    * 'Average_f1'\n",
    "\n",
    "------------\n",
    "\n",
    "<u><b>Description:</b></u>\n",
    "\n",
    "The function creates an empty dictionary of empty lists, which will be used to store the results<br>\n",
    "of each model that will be tested throughout the training phase.\n",
    "\n",
    "(<code>model</code> ≡ combination of <code>vectorizer</code> and <code>machine learning classifier</code>)\n",
    "\n",
    "------------"
   ]
  },
  {
   "cell_type": "code",
   "execution_count": 357,
   "metadata": {},
   "outputs": [],
   "source": [
    "def models_result_dict() -> dict[str, list]:\n",
    "    return {\n",
    "        'Classifier': [],\n",
    "        'Vectorizer': [],\n",
    "        'Classifier Best Parameters': [],\n",
    "        'Vectorizer Best Parameters': [],\n",
    "        'Average_f1': []\n",
    "    }"
   ]
  },
  {
   "attachments": {},
   "cell_type": "markdown",
   "metadata": {},
   "source": [
    "# <u>Step 3: Evaluation</u>\n",
    "\n",
    "In this phase, we will train our machine learning models on the preprocessed data to classify the stories into male or female categories.<br>\n",
    "\n",
    "We will make considerable use of the functions we defined in <code>Step 2</code>.\n",
    "\n",
    "The goal of this step is to find for each combination of vectorizer and classifier (each combination is considered a model), the best hyperparameters,<br>\n",
    "and with the best hyperparameters to estimate the model (calculate and display the f1 score for male and female and their average).\n",
    "\n",
    "At the end of this phase, we will have trained <code>14 machine learning models</code>, and evaluated their performance.<br>\n",
    "We will record the results of each model in a dictionary that we defined in <code>Step 2.9</code>.<br>\n",
    "This dictionary will contain all the relevant attributes for examining the results and presenting them in differents way in <code>Step 4</code>,<br>\n",
    "in order to find the best vectorizer and classifier for the prediction phase.\n",
    "\n",
    "<u>**Important Notes:**</u>\n",
    "\n",
    "1. The <code>run time</code> should be between **20-40 minutes**\n",
    "2. Because the <code>run time</code> of the grid search is long, instead of performing it in one code section,<br>\n",
    "I decided to divide it into 7 different code sections for each classifier & two different vectorizers.\n",
    "    - This was done because running a single code section for 20-40 minutes might end up getting terminated midway,<br>\n",
    "    which will force the runner to run the code all over again."
   ]
  },
  {
   "attachments": {},
   "cell_type": "markdown",
   "metadata": {},
   "source": [
    "## Step 3.1: Preparations"
   ]
  },
  {
   "attachments": {},
   "cell_type": "markdown",
   "metadata": {},
   "source": [
    "### Step 3.1.1: Add Binary <code>is_male column</code> and <code>is_female column</code> to <code>df_train_tokenized</code>"
   ]
  },
  {
   "cell_type": "code",
   "execution_count": 358,
   "metadata": {},
   "outputs": [],
   "source": [
    "df_train_tokenized['is_male'] = df_train_tokenized['gender'].apply(lambda gender: 1 if gender=='m' else 0)\n",
    "df_train_tokenized['is_female'] = df_train_tokenized['gender'].apply(lambda gender: 1 if gender=='f' else 0)"
   ]
  },
  {
   "attachments": {},
   "cell_type": "markdown",
   "metadata": {},
   "source": [
    "### Step 3.1.2: Initialize Key-Important Variables"
   ]
  },
  {
   "cell_type": "code",
   "execution_count": 359,
   "metadata": {},
   "outputs": [],
   "source": [
    "# dictionaries\n",
    "classifiers = classifiers_ref_dict()\n",
    "vectorizers = vectorizers_ref_dict()\n",
    "models_result = models_result_dict()\n",
    "\n",
    "# list of classifiers names:\n",
    "classifiers_names = list(classifiers.keys())\n",
    "\n",
    "# an indicator\n",
    "clf_no = 0"
   ]
  },
  {
   "attachments": {},
   "cell_type": "markdown",
   "metadata": {},
   "source": [
    "## Step 3.2: Start Evaluating"
   ]
  },
  {
   "attachments": {},
   "cell_type": "markdown",
   "metadata": {},
   "source": [
    "### Step 3.2.1: Evaluate <code>MultinomialNB</code> Models"
   ]
  },
  {
   "cell_type": "code",
   "execution_count": 360,
   "metadata": {},
   "outputs": [
    {
     "name": "stdout",
     "output_type": "stream",
     "text": [
      "-----------------------------------------------\n",
      "(MultinomialNB, CountVectorizer) -> Started\n",
      "\n",
      "Average_f1:  0.683 \n",
      "\n",
      "(MultinomialNB, CountVectorizer) -> Finished\n",
      "-----------------------------------------------\n",
      "\n",
      "\n",
      "-----------------------------------------------\n",
      "(MultinomialNB, TfidfVectorizer) -> Started\n",
      "\n",
      "Average_f1:  0.518 \n",
      "\n",
      "(MultinomialNB, TfidfVectorizer) -> Finished\n",
      "-----------------------------------------------\n",
      "\n",
      "\n"
     ]
    }
   ],
   "source": [
    "clf_name = classifiers_names[clf_no]\n",
    "model_evaluation_flow(clf_name, classifiers, vectorizers, models_result, df_train_tokenized)\n",
    "clf_no += 1"
   ]
  },
  {
   "attachments": {},
   "cell_type": "markdown",
   "metadata": {},
   "source": [
    "### Step 3.2.2: Evaluate <code>LinearSVC</code> Models"
   ]
  },
  {
   "cell_type": "code",
   "execution_count": 361,
   "metadata": {},
   "outputs": [
    {
     "name": "stdout",
     "output_type": "stream",
     "text": [
      "-----------------------------------------------\n",
      "(LinearSVC, CountVectorizer) -> Started\n",
      "\n",
      "Average_f1:  0.705 \n",
      "\n",
      "(LinearSVC, CountVectorizer) -> Finished\n",
      "-----------------------------------------------\n",
      "\n",
      "\n",
      "-----------------------------------------------\n",
      "(LinearSVC, TfidfVectorizer) -> Started\n",
      "\n",
      "Average_f1:  0.565 \n",
      "\n",
      "(LinearSVC, TfidfVectorizer) -> Finished\n",
      "-----------------------------------------------\n",
      "\n",
      "\n"
     ]
    }
   ],
   "source": [
    "clf_name = classifiers_names[clf_no]\n",
    "model_evaluation_flow(clf_name, classifiers, vectorizers, models_result, df_train_tokenized)\n",
    "clf_no = 2"
   ]
  },
  {
   "attachments": {},
   "cell_type": "markdown",
   "metadata": {},
   "source": [
    "### Step 3.2.3: Evaluate <code>SGDClassifier</code> Models"
   ]
  },
  {
   "cell_type": "code",
   "execution_count": 364,
   "metadata": {},
   "outputs": [
    {
     "name": "stdout",
     "output_type": "stream",
     "text": [
      "-----------------------------------------------\n",
      "(SGD, CountVectorizer) -> Started\n",
      "\n",
      "Average_f1:  0.687 \n",
      "\n",
      "(SGD, CountVectorizer) -> Finished\n",
      "-----------------------------------------------\n",
      "\n",
      "\n",
      "-----------------------------------------------\n",
      "(SGD, TfidfVectorizer) -> Started\n",
      "\n",
      "Average_f1:  0.64 \n",
      "\n",
      "(SGD, TfidfVectorizer) -> Finished\n",
      "-----------------------------------------------\n",
      "\n",
      "\n"
     ]
    }
   ],
   "source": [
    "clf_name = classifiers_names[clf_no]\n",
    "model_evaluation_flow(clf_name, classifiers, vectorizers, models_result, df_train_tokenized)\n",
    "clf_no = 3"
   ]
  },
  {
   "attachments": {},
   "cell_type": "markdown",
   "metadata": {},
   "source": [
    "### Step 3.2.4: Evaluate <code>Perceptron</code> Models"
   ]
  },
  {
   "cell_type": "code",
   "execution_count": 368,
   "metadata": {},
   "outputs": [
    {
     "name": "stdout",
     "output_type": "stream",
     "text": [
      "-----------------------------------------------\n",
      "(Perceptron, CountVectorizer) -> Started\n",
      "\n",
      "Average_f1:  0.675 \n",
      "\n",
      "(Perceptron, CountVectorizer) -> Finished\n",
      "-----------------------------------------------\n",
      "\n",
      "\n",
      "-----------------------------------------------\n",
      "(Perceptron, TfidfVectorizer) -> Started\n",
      "\n",
      "Average_f1:  0.696 \n",
      "\n",
      "(Perceptron, TfidfVectorizer) -> Finished\n",
      "-----------------------------------------------\n",
      "\n",
      "\n"
     ]
    }
   ],
   "source": [
    "clf_name = classifiers_names[clf_no]\n",
    "model_evaluation_flow(clf_name, classifiers, vectorizers, models_result, df_train_tokenized)\n",
    "clf_no = 4"
   ]
  },
  {
   "attachments": {},
   "cell_type": "markdown",
   "metadata": {},
   "source": [
    "### Step 3.2.5: Evaluate <code>LogisticRegression</code> Models"
   ]
  },
  {
   "cell_type": "code",
   "execution_count": 373,
   "metadata": {},
   "outputs": [
    {
     "name": "stdout",
     "output_type": "stream",
     "text": [
      "-----------------------------------------------\n",
      "(LogisticRegression, CountVectorizer) -> Started\n",
      "\n",
      "Average_f1:  0.679 \n",
      "\n",
      "(LogisticRegression, CountVectorizer) -> Finished\n",
      "-----------------------------------------------\n",
      "\n",
      "\n",
      "-----------------------------------------------\n",
      "(LogisticRegression, TfidfVectorizer) -> Started\n",
      "\n",
      "Average_f1:  0.433 \n",
      "\n",
      "(LogisticRegression, TfidfVectorizer) -> Finished\n",
      "-----------------------------------------------\n",
      "\n",
      "\n"
     ]
    }
   ],
   "source": [
    "clf_name = classifiers_names[clf_no]\n",
    "model_evaluation_flow(clf_name, classifiers, vectorizers, models_result, df_train_tokenized)\n",
    "clf_no = 5"
   ]
  },
  {
   "attachments": {},
   "cell_type": "markdown",
   "metadata": {},
   "source": [
    "### Step 3.2.6: Evaluate <code>DecisionTree</code> Models"
   ]
  },
  {
   "cell_type": "code",
   "execution_count": 377,
   "metadata": {},
   "outputs": [
    {
     "name": "stdout",
     "output_type": "stream",
     "text": [
      "-----------------------------------------------\n",
      "(DecisionTree, CountVectorizer) -> Started\n",
      "\n",
      "Average_f1:  0.547 \n",
      "\n",
      "(DecisionTree, CountVectorizer) -> Finished\n",
      "-----------------------------------------------\n",
      "\n",
      "\n",
      "-----------------------------------------------\n",
      "(DecisionTree, TfidfVectorizer) -> Started\n",
      "\n",
      "Average_f1:  0.597 \n",
      "\n",
      "(DecisionTree, TfidfVectorizer) -> Finished\n",
      "-----------------------------------------------\n",
      "\n",
      "\n"
     ]
    }
   ],
   "source": [
    "clf_name = classifiers_names[clf_no]\n",
    "model_evaluation_flow(clf_name, classifiers, vectorizers, models_result, df_train_tokenized)\n",
    "clf_no = 6"
   ]
  },
  {
   "attachments": {},
   "cell_type": "markdown",
   "metadata": {},
   "source": [
    "### Step 3.2.7: Evaluate <code>KNN</code> Models"
   ]
  },
  {
   "cell_type": "code",
   "execution_count": 381,
   "metadata": {},
   "outputs": [
    {
     "name": "stdout",
     "output_type": "stream",
     "text": [
      "-----------------------------------------------\n",
      "(KNN, CountVectorizer) -> Started\n",
      "\n",
      "Average_f1:  0.618 \n",
      "\n",
      "(KNN, CountVectorizer) -> Finished\n",
      "-----------------------------------------------\n",
      "\n",
      "\n",
      "-----------------------------------------------\n",
      "(KNN, TfidfVectorizer) -> Started\n",
      "\n",
      "Average_f1:  0.644 \n",
      "\n",
      "(KNN, TfidfVectorizer) -> Finished\n",
      "-----------------------------------------------\n",
      "\n",
      "\n"
     ]
    }
   ],
   "source": [
    "clf_name = classifiers_names[clf_no]\n",
    "model_evaluation_flow(clf_name, classifiers, vectorizers, models_result, df_train_tokenized)"
   ]
  },
  {
   "attachments": {},
   "cell_type": "markdown",
   "metadata": {},
   "source": [
    "# <u>Step 4: Evaluation Conclusion:</u>\n",
    "\n",
    "At this stage we will examine the different results we received from the different models.<br>\n",
    "The model & vectorizer with the highest <code>Average_f1</code> will be used on the <code>test dataframe</code> for prediction."
   ]
  },
  {
   "attachments": {},
   "cell_type": "markdown",
   "metadata": {},
   "source": [
    "## Step 4.1: Table:"
   ]
  },
  {
   "cell_type": "code",
   "execution_count": 386,
   "metadata": {},
   "outputs": [
    {
     "data": {
      "text/html": [
       "<div>\n",
       "<style scoped>\n",
       "    .dataframe tbody tr th:only-of-type {\n",
       "        vertical-align: middle;\n",
       "    }\n",
       "\n",
       "    .dataframe tbody tr th {\n",
       "        vertical-align: top;\n",
       "    }\n",
       "\n",
       "    .dataframe thead th {\n",
       "        text-align: right;\n",
       "    }\n",
       "</style>\n",
       "<table border=\"1\" class=\"dataframe\">\n",
       "  <thead>\n",
       "    <tr style=\"text-align: right;\">\n",
       "      <th></th>\n",
       "      <th>Classifier</th>\n",
       "      <th>Vectorizer</th>\n",
       "      <th>Classifier Best Parameters</th>\n",
       "      <th>Vectorizer Best Parameters</th>\n",
       "      <th>Average_f1</th>\n",
       "    </tr>\n",
       "  </thead>\n",
       "  <tbody>\n",
       "    <tr>\n",
       "      <th>0</th>\n",
       "      <td>MultinomialNB</td>\n",
       "      <td>CountVectorizer</td>\n",
       "      <td>MultinomialNB(alpha=0.1)</td>\n",
       "      <td>CountVectorizer(max_df=0.9, max_features=30000...</td>\n",
       "      <td>0.683</td>\n",
       "    </tr>\n",
       "    <tr>\n",
       "      <th>1</th>\n",
       "      <td>MultinomialNB</td>\n",
       "      <td>TfidfVectorizer</td>\n",
       "      <td>MultinomialNB(alpha=0.1)</td>\n",
       "      <td>TfidfVectorizer(max_df=0.9, max_features=30000...</td>\n",
       "      <td>0.518</td>\n",
       "    </tr>\n",
       "    <tr>\n",
       "      <th>2</th>\n",
       "      <td>LinearSVC</td>\n",
       "      <td>CountVectorizer</td>\n",
       "      <td>LinearSVC(C=1)</td>\n",
       "      <td>CountVectorizer(max_df=0.9, max_features=30000...</td>\n",
       "      <td>0.705</td>\n",
       "    </tr>\n",
       "    <tr>\n",
       "      <th>3</th>\n",
       "      <td>LinearSVC</td>\n",
       "      <td>TfidfVectorizer</td>\n",
       "      <td>LinearSVC(C=1)</td>\n",
       "      <td>TfidfVectorizer(max_df=0.9, max_features=30000...</td>\n",
       "      <td>0.565</td>\n",
       "    </tr>\n",
       "    <tr>\n",
       "      <th>4</th>\n",
       "      <td>SGD</td>\n",
       "      <td>CountVectorizer</td>\n",
       "      <td>SGDClassifier(alpha=0.001)</td>\n",
       "      <td>CountVectorizer(max_df=0.9, max_features=30000...</td>\n",
       "      <td>0.687</td>\n",
       "    </tr>\n",
       "    <tr>\n",
       "      <th>5</th>\n",
       "      <td>SGD</td>\n",
       "      <td>TfidfVectorizer</td>\n",
       "      <td>SGDClassifier(alpha=0.001)</td>\n",
       "      <td>TfidfVectorizer(max_df=0.9, max_features=30000...</td>\n",
       "      <td>0.640</td>\n",
       "    </tr>\n",
       "    <tr>\n",
       "      <th>6</th>\n",
       "      <td>Perceptron</td>\n",
       "      <td>CountVectorizer</td>\n",
       "      <td>Perceptron(alpha=0.001)</td>\n",
       "      <td>CountVectorizer(max_df=0.9, max_features=30000...</td>\n",
       "      <td>0.675</td>\n",
       "    </tr>\n",
       "    <tr>\n",
       "      <th>7</th>\n",
       "      <td>Perceptron</td>\n",
       "      <td>TfidfVectorizer</td>\n",
       "      <td>Perceptron(alpha=0.001)</td>\n",
       "      <td>TfidfVectorizer(max_df=0.9, max_features=30000...</td>\n",
       "      <td>0.696</td>\n",
       "    </tr>\n",
       "    <tr>\n",
       "      <th>8</th>\n",
       "      <td>LogisticRegression</td>\n",
       "      <td>CountVectorizer</td>\n",
       "      <td>LogisticRegression(C=0.01)</td>\n",
       "      <td>CountVectorizer(max_df=0.9, max_features=30000...</td>\n",
       "      <td>0.679</td>\n",
       "    </tr>\n",
       "    <tr>\n",
       "      <th>9</th>\n",
       "      <td>LogisticRegression</td>\n",
       "      <td>TfidfVectorizer</td>\n",
       "      <td>LogisticRegression(C=0.01)</td>\n",
       "      <td>TfidfVectorizer(max_df=0.9, max_features=30000...</td>\n",
       "      <td>0.433</td>\n",
       "    </tr>\n",
       "    <tr>\n",
       "      <th>10</th>\n",
       "      <td>DecisionTree</td>\n",
       "      <td>CountVectorizer</td>\n",
       "      <td>DecisionTreeClassifier(max_depth=7)</td>\n",
       "      <td>CountVectorizer(max_df=0.9, max_features=30000...</td>\n",
       "      <td>0.547</td>\n",
       "    </tr>\n",
       "    <tr>\n",
       "      <th>11</th>\n",
       "      <td>DecisionTree</td>\n",
       "      <td>TfidfVectorizer</td>\n",
       "      <td>DecisionTreeClassifier(max_depth=7)</td>\n",
       "      <td>TfidfVectorizer(max_df=0.9, max_features=30000...</td>\n",
       "      <td>0.597</td>\n",
       "    </tr>\n",
       "    <tr>\n",
       "      <th>12</th>\n",
       "      <td>KNN</td>\n",
       "      <td>CountVectorizer</td>\n",
       "      <td>KNeighborsClassifier(metric='cosine', n_neighb...</td>\n",
       "      <td>CountVectorizer(max_df=0.9, max_features=30000...</td>\n",
       "      <td>0.618</td>\n",
       "    </tr>\n",
       "    <tr>\n",
       "      <th>13</th>\n",
       "      <td>KNN</td>\n",
       "      <td>TfidfVectorizer</td>\n",
       "      <td>KNeighborsClassifier(metric='cosine', n_neighb...</td>\n",
       "      <td>TfidfVectorizer(max_df=0.9, max_features=30000...</td>\n",
       "      <td>0.644</td>\n",
       "    </tr>\n",
       "  </tbody>\n",
       "</table>\n",
       "</div>"
      ],
      "text/plain": [
       "            Classifier       Vectorizer  \\\n",
       "0        MultinomialNB  CountVectorizer   \n",
       "1        MultinomialNB  TfidfVectorizer   \n",
       "2            LinearSVC  CountVectorizer   \n",
       "3            LinearSVC  TfidfVectorizer   \n",
       "4                  SGD  CountVectorizer   \n",
       "5                  SGD  TfidfVectorizer   \n",
       "6           Perceptron  CountVectorizer   \n",
       "7           Perceptron  TfidfVectorizer   \n",
       "8   LogisticRegression  CountVectorizer   \n",
       "9   LogisticRegression  TfidfVectorizer   \n",
       "10        DecisionTree  CountVectorizer   \n",
       "11        DecisionTree  TfidfVectorizer   \n",
       "12                 KNN  CountVectorizer   \n",
       "13                 KNN  TfidfVectorizer   \n",
       "\n",
       "                           Classifier Best Parameters  \\\n",
       "0                            MultinomialNB(alpha=0.1)   \n",
       "1                            MultinomialNB(alpha=0.1)   \n",
       "2                                      LinearSVC(C=1)   \n",
       "3                                      LinearSVC(C=1)   \n",
       "4                          SGDClassifier(alpha=0.001)   \n",
       "5                          SGDClassifier(alpha=0.001)   \n",
       "6                             Perceptron(alpha=0.001)   \n",
       "7                             Perceptron(alpha=0.001)   \n",
       "8                          LogisticRegression(C=0.01)   \n",
       "9                          LogisticRegression(C=0.01)   \n",
       "10                DecisionTreeClassifier(max_depth=7)   \n",
       "11                DecisionTreeClassifier(max_depth=7)   \n",
       "12  KNeighborsClassifier(metric='cosine', n_neighb...   \n",
       "13  KNeighborsClassifier(metric='cosine', n_neighb...   \n",
       "\n",
       "                           Vectorizer Best Parameters  Average_f1  \n",
       "0   CountVectorizer(max_df=0.9, max_features=30000...       0.683  \n",
       "1   TfidfVectorizer(max_df=0.9, max_features=30000...       0.518  \n",
       "2   CountVectorizer(max_df=0.9, max_features=30000...       0.705  \n",
       "3   TfidfVectorizer(max_df=0.9, max_features=30000...       0.565  \n",
       "4   CountVectorizer(max_df=0.9, max_features=30000...       0.687  \n",
       "5   TfidfVectorizer(max_df=0.9, max_features=30000...       0.640  \n",
       "6   CountVectorizer(max_df=0.9, max_features=30000...       0.675  \n",
       "7   TfidfVectorizer(max_df=0.9, max_features=30000...       0.696  \n",
       "8   CountVectorizer(max_df=0.9, max_features=30000...       0.679  \n",
       "9   TfidfVectorizer(max_df=0.9, max_features=30000...       0.433  \n",
       "10  CountVectorizer(max_df=0.9, max_features=30000...       0.547  \n",
       "11  TfidfVectorizer(max_df=0.9, max_features=30000...       0.597  \n",
       "12  CountVectorizer(max_df=0.9, max_features=30000...       0.618  \n",
       "13  TfidfVectorizer(max_df=0.9, max_features=30000...       0.644  "
      ]
     },
     "execution_count": 386,
     "metadata": {},
     "output_type": "execute_result"
    }
   ],
   "source": [
    "results_df = pd.DataFrame(models_result)\n",
    "\n",
    "results_df"
   ]
  },
  {
   "attachments": {},
   "cell_type": "markdown",
   "metadata": {},
   "source": [
    "## Step 4.2: EDA:"
   ]
  },
  {
   "cell_type": "code",
   "execution_count": 400,
   "metadata": {},
   "outputs": [
    {
     "data": {
      "text/plain": [
       "<seaborn.axisgrid.FacetGrid at 0x2aecb932620>"
      ]
     },
     "execution_count": 400,
     "metadata": {},
     "output_type": "execute_result"
    },
    {
     "data": {
      "text/plain": [
       "<seaborn.axisgrid.FacetGrid at 0x2aecb932620>"
      ]
     },
     "execution_count": 400,
     "metadata": {},
     "output_type": "execute_result"
    },
    {
     "data": {
      "text/plain": [
       "Text(0.5, 1.0, 'Average_f1 for Text Classification Models')"
      ]
     },
     "execution_count": 400,
     "metadata": {},
     "output_type": "execute_result"
    },
    {
     "data": {
      "text/plain": [
       "<matplotlib.legend.Legend at 0x2aecb933b20>"
      ]
     },
     "execution_count": 400,
     "metadata": {},
     "output_type": "execute_result"
    },
    {
     "data": {
      "image/png": "[encoded data removed]",
      "text/plain": [
       "<Figure size 1380x600 with 1 Axes>"
      ]
     },
     "metadata": {},
     "output_type": "display_data"
    }
   ],
   "source": [
    "import seaborn as sns\n",
    "\n",
    "# set the style for the plot\n",
    "sns.set_style('darkgrid')\n",
    "sns.set_context(\"notebook\", font_scale=1.5, rc={\"lines.linewidth\": 2.5})\n",
    "\n",
    "# create the bar plot\n",
    "best_results_bar = sns.catplot(\n",
    "    x='Classifier', \n",
    "    y='Average_f1', \n",
    "    hue='Vectorizer', \n",
    "    data=results_df, \n",
    "    kind='bar', \n",
    "    legend=False, \n",
    "    palette='deep', \n",
    "    alpha=1, \n",
    "    height=6, \n",
    "    aspect=2.3\n",
    ")\n",
    "\n",
    "# set the labels for the plot\n",
    "best_results_bar.set_xlabels(\"Classifiers\", fontsize=15)\n",
    "best_results_bar.set_ylabels(\"Average_f1\", fontsize=15)\n",
    "\n",
    "# set the title for the plot\n",
    "plt.title('Average_f1 for Text Classification Models', fontsize=18)\n",
    "\n",
    "# adjust the legend position\n",
    "plt.legend(title=\"Vectorizer\", bbox_to_anchor=(1.05, 1), loc='upper left', borderaxespad=0)\n",
    "        \n",
    "# show the plot\n",
    "plt.show()"
   ]
  },
  {
   "attachments": {},
   "cell_type": "markdown",
   "metadata": {},
   "source": [
    "# <u>Step 5: Prediction:</u>\n",
    "\n",
    "In this phase we are going to take the model that produced the highest <code>Average_f1</code> value and use it to predict <code>df_test</code>.<br>\n",
    "At the end of the predicition we'll display the first and last 5 rows of the predicted dataframe."
   ]
  },
  {
   "attachments": {},
   "cell_type": "markdown",
   "metadata": {},
   "source": [
    "## Step 5.1: Tokenization"
   ]
  },
  {
   "cell_type": "code",
   "execution_count": 392,
   "metadata": {},
   "outputs": [],
   "source": [
    "df_test_tokenized = df_test.copy()\n",
    "df_test_tokenized['story'] = df_test_tokenized['story'].apply(preprocess_text)"
   ]
  },
  {
   "attachments": {},
   "cell_type": "markdown",
   "metadata": {},
   "source": [
    "## Step 5.2: Find The Model With The Highest <code>Average_f1</code>"
   ]
  },
  {
   "cell_type": "code",
   "execution_count": 394,
   "metadata": {},
   "outputs": [
    {
     "data": {
      "text/plain": [
       "Classifier                                                            LinearSVC\n",
       "Vectorizer                                                      CountVectorizer\n",
       "Classifier Best Parameters                                       LinearSVC(C=1)\n",
       "Vectorizer Best Parameters    CountVectorizer(max_df=0.9, max_features=30000...\n",
       "Average_f1                                                                0.705\n",
       "Name: 2, dtype: object"
      ]
     },
     "execution_count": 394,
     "metadata": {},
     "output_type": "execute_result"
    }
   ],
   "source": [
    "best_model_series = results_df.loc[results_df['Average_f1'].idxmax()]\n",
    "\n",
    "best_model_series"
   ]
  },
  {
   "attachments": {},
   "cell_type": "markdown",
   "metadata": {},
   "source": [
    "## Step 5.3: Create & Fit Model's <code>Pipeline</code>"
   ]
  },
  {
   "cell_type": "code",
   "execution_count": 396,
   "metadata": {},
   "outputs": [
    {
     "data": {
      "text/html": [
       "<style>#sk-container-id-5 {color: black;background-color: white;}#sk-container-id-5 pre{padding: 0;}#sk-container-id-5 div.sk-toggleable {background-color: white;}#sk-container-id-5 label.sk-toggleable__label {cursor: pointer;display: block;width: 100%;margin-bottom: 0;padding: 0.3em;box-sizing: border-box;text-align: center;}#sk-container-id-5 label.sk-toggleable__label-arrow:before {content: \"▸\";float: left;margin-right: 0.25em;color: #696969;}#sk-container-id-5 label.sk-toggleable__label-arrow:hover:before {color: black;}#sk-container-id-5 div.sk-estimator:hover label.sk-toggleable__label-arrow:before {color: black;}#sk-container-id-5 div.sk-toggleable__content {max-height: 0;max-width: 0;overflow: hidden;text-align: left;background-color: #f0f8ff;}#sk-container-id-5 div.sk-toggleable__content pre {margin: 0.2em;color: black;border-radius: 0.25em;background-color: #f0f8ff;}#sk-container-id-5 input.sk-toggleable__control:checked~div.sk-toggleable__content {max-height: 200px;max-width: 100%;overflow: auto;}#sk-container-id-5 input.sk-toggleable__control:checked~label.sk-toggleable__label-arrow:before {content: \"▾\";}#sk-container-id-5 div.sk-estimator input.sk-toggleable__control:checked~label.sk-toggleable__label {background-color: #d4ebff;}#sk-container-id-5 div.sk-label input.sk-toggleable__control:checked~label.sk-toggleable__label {background-color: #d4ebff;}#sk-container-id-5 input.sk-hidden--visually {border: 0;clip: rect(1px 1px 1px 1px);clip: rect(1px, 1px, 1px, 1px);height: 1px;margin: -1px;overflow: hidden;padding: 0;position: absolute;width: 1px;}#sk-container-id-5 div.sk-estimator {font-family: monospace;background-color: #f0f8ff;border: 1px dotted black;border-radius: 0.25em;box-sizing: border-box;margin-bottom: 0.5em;}#sk-container-id-5 div.sk-estimator:hover {background-color: #d4ebff;}#sk-container-id-5 div.sk-parallel-item::after {content: \"\";width: 100%;border-bottom: 1px solid gray;flex-grow: 1;}#sk-container-id-5 div.sk-label:hover label.sk-toggleable__label {background-color: #d4ebff;}#sk-container-id-5 div.sk-serial::before {content: \"\";position: absolute;border-left: 1px solid gray;box-sizing: border-box;top: 0;bottom: 0;left: 50%;z-index: 0;}#sk-container-id-5 div.sk-serial {display: flex;flex-direction: column;align-items: center;background-color: white;padding-right: 0.2em;padding-left: 0.2em;position: relative;}#sk-container-id-5 div.sk-item {position: relative;z-index: 1;}#sk-container-id-5 div.sk-parallel {display: flex;align-items: stretch;justify-content: center;background-color: white;position: relative;}#sk-container-id-5 div.sk-item::before, #sk-container-id-5 div.sk-parallel-item::before {content: \"\";position: absolute;border-left: 1px solid gray;box-sizing: border-box;top: 0;bottom: 0;left: 50%;z-index: -1;}#sk-container-id-5 div.sk-parallel-item {display: flex;flex-direction: column;z-index: 1;position: relative;background-color: white;}#sk-container-id-5 div.sk-parallel-item:first-child::after {align-self: flex-end;width: 50%;}#sk-container-id-5 div.sk-parallel-item:last-child::after {align-self: flex-start;width: 50%;}#sk-container-id-5 div.sk-parallel-item:only-child::after {width: 0;}#sk-container-id-5 div.sk-dashed-wrapped {border: 1px dashed gray;margin: 0 0.4em 0.5em 0.4em;box-sizing: border-box;padding-bottom: 0.4em;background-color: white;}#sk-container-id-5 div.sk-label label {font-family: monospace;font-weight: bold;display: inline-block;line-height: 1.2em;}#sk-container-id-5 div.sk-label-container {text-align: center;}#sk-container-id-5 div.sk-container {/* jupyter's `normalize.less` sets `[hidden] { display: none; }` but bootstrap.min.css set `[hidden] { display: none !important; }` so we also need the `!important` here to be able to override the default hidden behavior on the sphinx rendered scikit-learn.org. See: https://github.com/scikit-learn/scikit-learn/issues/21755 */display: inline-block !important;position: relative;}#sk-container-id-5 div.sk-text-repr-fallback {display: none;}</style><div id=\"sk-container-id-5\" class=\"sk-top-container\"><div class=\"sk-text-repr-fallback\"><pre>Pipeline(steps=[(&#x27;vectorizer&#x27;,\n",
       "                 CountVectorizer(max_df=0.9, max_features=30000,\n",
       "                                 ngram_range=(1, 2))),\n",
       "                (&#x27;classifier&#x27;, LinearSVC(C=1))])</pre><b>In a Jupyter environment, please rerun this cell to show the HTML representation or trust the notebook. <br />On GitHub, the HTML representation is unable to render, please try loading this page with nbviewer.org.</b></div><div class=\"sk-container\" hidden><div class=\"sk-item sk-dashed-wrapped\"><div class=\"sk-label-container\"><div class=\"sk-label sk-toggleable\"><input class=\"sk-toggleable__control sk-hidden--visually\" id=\"sk-estimator-id-7\" type=\"checkbox\" ><label for=\"sk-estimator-id-7\" class=\"sk-toggleable__label sk-toggleable__label-arrow\">Pipeline</label><div class=\"sk-toggleable__content\"><pre>Pipeline(steps=[(&#x27;vectorizer&#x27;,\n",
       "                 CountVectorizer(max_df=0.9, max_features=30000,\n",
       "                                 ngram_range=(1, 2))),\n",
       "                (&#x27;classifier&#x27;, LinearSVC(C=1))])</pre></div></div></div><div class=\"sk-serial\"><div class=\"sk-item\"><div class=\"sk-estimator sk-toggleable\"><input class=\"sk-toggleable__control sk-hidden--visually\" id=\"sk-estimator-id-8\" type=\"checkbox\" ><label for=\"sk-estimator-id-8\" class=\"sk-toggleable__label sk-toggleable__label-arrow\">CountVectorizer</label><div class=\"sk-toggleable__content\"><pre>CountVectorizer(max_df=0.9, max_features=30000, ngram_range=(1, 2))</pre></div></div></div><div class=\"sk-item\"><div class=\"sk-estimator sk-toggleable\"><input class=\"sk-toggleable__control sk-hidden--visually\" id=\"sk-estimator-id-9\" type=\"checkbox\" ><label for=\"sk-estimator-id-9\" class=\"sk-toggleable__label sk-toggleable__label-arrow\">LinearSVC</label><div class=\"sk-toggleable__content\"><pre>LinearSVC(C=1)</pre></div></div></div></div></div></div></div>"
      ],
      "text/plain": [
       "Pipeline(steps=[('vectorizer',\n",
       "                 CountVectorizer(max_df=0.9, max_features=30000,\n",
       "                                 ngram_range=(1, 2))),\n",
       "                ('classifier', LinearSVC(C=1))])"
      ]
     },
     "execution_count": 396,
     "metadata": {},
     "output_type": "execute_result"
    }
   ],
   "source": [
    "pipeline_train = Pipeline([\n",
    "    ('vectorizer', best_model_series['Vectorizer Best Parameters']),\n",
    "    ('classifier', best_model_series['Classifier Best Parameters'])\n",
    "])\n",
    "\n",
    "pipeline_train.fit(df_train_tokenized['story'], df_train_tokenized['gender'])"
   ]
  },
  {
   "attachments": {},
   "cell_type": "markdown",
   "metadata": {},
   "source": [
    "## Step 5.3: It's Time To Predict!"
   ]
  },
  {
   "cell_type": "code",
   "execution_count": 397,
   "metadata": {},
   "outputs": [],
   "source": [
    "prediction = pipeline_train.predict(df_test_tokenized['story'])"
   ]
  },
  {
   "attachments": {},
   "cell_type": "markdown",
   "metadata": {},
   "source": [
    "## Step 5.4: Display The First and Last 5 Rows"
   ]
  },
  {
   "cell_type": "code",
   "execution_count": 398,
   "metadata": {},
   "outputs": [
    {
     "data": {
      "text/html": [
       "<div>\n",
       "<style scoped>\n",
       "    .dataframe tbody tr th:only-of-type {\n",
       "        vertical-align: middle;\n",
       "    }\n",
       "\n",
       "    .dataframe tbody tr th {\n",
       "        vertical-align: top;\n",
       "    }\n",
       "\n",
       "    .dataframe thead th {\n",
       "        text-align: right;\n",
       "    }\n",
       "</style>\n",
       "<table border=\"1\" class=\"dataframe\">\n",
       "  <thead>\n",
       "    <tr style=\"text-align: right;\">\n",
       "      <th></th>\n",
       "      <th>test_example_id</th>\n",
       "      <th>predicted_gender</th>\n",
       "    </tr>\n",
       "  </thead>\n",
       "  <tbody>\n",
       "    <tr>\n",
       "      <th>0</th>\n",
       "      <td>0</td>\n",
       "      <td>m</td>\n",
       "    </tr>\n",
       "    <tr>\n",
       "      <th>1</th>\n",
       "      <td>1</td>\n",
       "      <td>m</td>\n",
       "    </tr>\n",
       "    <tr>\n",
       "      <th>2</th>\n",
       "      <td>2</td>\n",
       "      <td>m</td>\n",
       "    </tr>\n",
       "    <tr>\n",
       "      <th>3</th>\n",
       "      <td>3</td>\n",
       "      <td>m</td>\n",
       "    </tr>\n",
       "    <tr>\n",
       "      <th>4</th>\n",
       "      <td>4</td>\n",
       "      <td>m</td>\n",
       "    </tr>\n",
       "    <tr>\n",
       "      <th>318</th>\n",
       "      <td>318</td>\n",
       "      <td>m</td>\n",
       "    </tr>\n",
       "    <tr>\n",
       "      <th>319</th>\n",
       "      <td>319</td>\n",
       "      <td>m</td>\n",
       "    </tr>\n",
       "    <tr>\n",
       "      <th>320</th>\n",
       "      <td>320</td>\n",
       "      <td>m</td>\n",
       "    </tr>\n",
       "    <tr>\n",
       "      <th>321</th>\n",
       "      <td>321</td>\n",
       "      <td>m</td>\n",
       "    </tr>\n",
       "    <tr>\n",
       "      <th>322</th>\n",
       "      <td>322</td>\n",
       "      <td>m</td>\n",
       "    </tr>\n",
       "  </tbody>\n",
       "</table>\n",
       "</div>"
      ],
      "text/plain": [
       "     test_example_id predicted_gender\n",
       "0                  0                m\n",
       "1                  1                m\n",
       "2                  2                m\n",
       "3                  3                m\n",
       "4                  4                m\n",
       "318              318                m\n",
       "319              319                m\n",
       "320              320                m\n",
       "321              321                m\n",
       "322              322                m"
      ]
     },
     "execution_count": 398,
     "metadata": {},
     "output_type": "execute_result"
    }
   ],
   "source": [
    "df_predicted = pd.DataFrame({\n",
    "    'test_example_id': df_test_tokenized['test_example_id'],\n",
    "    'predicted_gender': prediction\n",
    "})\n",
    "\n",
    "pd.concat([df_predicted.head(5), df_predicted.tail(5)])"
   ]
  },
  {
   "cell_type": "markdown",
   "metadata": {},
   "source": [
    "### Save output to csv (optional)\n",
    "After you're done save your output to the 'classification_results.csv' csv file.<br/>\n",
    "We assume that the dataframe with your results contain the following columns:\n",
    "* column 1 (left column): 'test_example_id'  - the same id associated to each of the test stories to be predicted.\n",
    "* column 2 (right column): 'predicted_category' - the predicted gender value for each of the associated story. \n",
    "\n",
    "Assuming your predicted values are in the `df_predicted` dataframe, you should save you're results as following:"
   ]
  },
  {
   "cell_type": "code",
   "execution_count": 399,
   "metadata": {},
   "outputs": [],
   "source": [
    "df_predicted.to_csv('classification_results.csv',index=False)"
   ]
  }
 ],
 "metadata": {
  "celltoolbar": "Create Assignment",
  "kernelspec": {
   "display_name": "Python 3 (ipykernel)",
   "language": "python",
   "name": "python3"
  },
  "language_info": {
   "codemirror_mode": {
    "name": "ipython",
    "version": 3
   },
   "file_extension": ".py",
   "mimetype": "text/x-python",
   "name": "python",
   "nbconvert_exporter": "python",
   "pygments_lexer": "ipython3",
   "version": "3.10.6"
  }
 },
 "nbformat": 4,
 "nbformat_minor": 4
}
