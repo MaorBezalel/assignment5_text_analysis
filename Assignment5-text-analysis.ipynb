{
 "cells": [
  {
   "cell_type": "markdown",
   "metadata": {},
   "source": [
    "# Assignment 5 - Text Analysis\n",
    "An explanation this assignment could be found in the .pdf explanation document"
   ]
  },
  {
   "cell_type": "markdown",
   "metadata": {},
   "source": [
    "\n",
    "## Materials to review for this assignment\n",
    "<h4>From Moodle:</h4> \n",
    "<h5><u>Review the notebooks regarding the following python topics</u>:</h5>\n",
    "<div class=\"alert alert-info\">\n",
    "&#x2714; <b>Working with strings</b> (tutorial notebook)<br/>\n",
    "&#x2714; <b>Text Analysis</b> (tutorial notebook)<br/>\n",
    "&#x2714; <b>Hebrew text analysis tools (tokenizer, wordnet)</b> (moodle example)<br/>\n",
    "&#x2714; <b>(brief review) All previous notebooks</b><br/>\n",
    "</div> \n",
    "<h5><u>Review the presentations regarding the following topics</u>:</h5>\n",
    "<div class=\"alert alert-info\">\n",
    "&#x2714; <b>Text Analysis</b> (lecture presentation)<br/>\n",
    "&#x2714; <b>(brief review) All other presentations</b><br/>\n",
    "</div>"
   ]
  },
  {
   "cell_type": "markdown",
   "metadata": {},
   "source": [
    "## Preceding Step - import modules (packages)\n",
    "This step is necessary in order to use external modules (packages). <br/>"
   ]
  },
  {
   "cell_type": "code",
   "execution_count": 1,
   "metadata": {},
   "outputs": [],
   "source": [
    "# --------------------------------------\n",
    "import pandas as pd\n",
    "import numpy as np\n",
    "# --------------------------------------\n",
    "\n",
    "\n",
    "# --------------------------------------\n",
    "# ------------- visualizations:\n",
    "import seaborn as sns\n",
    "import matplotlib.pyplot as plt\n",
    "from matplotlib.colors import ListedColormap\n",
    "# --------------------------------------\n",
    "\n",
    "\n",
    "# ---------------------------------------\n",
    "import sklearn\n",
    "from sklearn import preprocessing, metrics, pipeline, model_selection, feature_extraction \n",
    "from sklearn import naive_bayes, linear_model, svm, neural_network, neighbors, tree\n",
    "from sklearn import decomposition, cluster\n",
    "\n",
    "from sklearn.model_selection import train_test_split, cross_val_score, GridSearchCV \n",
    "from sklearn.pipeline import Pipeline\n",
    "from sklearn.metrics import accuracy_score, confusion_matrix\n",
    "from sklearn.metrics import precision_score, recall_score, f1_score\n",
    "from sklearn.metrics import mean_squared_error, r2_score, silhouette_score\n",
    "from sklearn.preprocessing import MinMaxScaler, StandardScaler, LabelEncoder\n",
    "\n",
    "from sklearn.svm import LinearSVC\n",
    "from sklearn.neural_network import MLPClassifier\n",
    "from sklearn.linear_model import Perceptron, SGDClassifier\n",
    "from sklearn.decomposition import PCA\n",
    "from sklearn.cluster import KMeans\n",
    "from sklearn.naive_bayes import MultinomialNB, GaussianNB\n",
    "from sklearn.neighbors import KNeighborsClassifier\n",
    "from sklearn.tree import DecisionTreeClassifier\n",
    "# ---------------------------------------\n",
    "\n",
    "\n",
    "# ----------------- output and visualizations: \n",
    "import warnings\n",
    "from sklearn.exceptions import ConvergenceWarning\n",
    "warnings.simplefilter(\"ignore\")\n",
    "warnings.simplefilter(action='ignore', category=FutureWarning)\n",
    "warnings.simplefilter(\"ignore\", category=ConvergenceWarning)\n",
    "# show several prints in one cell. This will allow us to condence every trick in one cell.\n",
    "from IPython.core.interactiveshell import InteractiveShell\n",
    "InteractiveShell.ast_node_interactivity = \"all\"\n",
    "%matplotlib inline\n",
    "pd.pandas.set_option('display.max_columns', None)\n",
    "pd.set_option('display.float_format', lambda x: '%.3f' % x)\n",
    "# ---------------------------------------"
   ]
  },
  {
   "cell_type": "markdown",
   "metadata": {},
   "source": [
    "### Text analysis and String manipulation imports:"
   ]
  },
  {
   "cell_type": "code",
   "execution_count": 2,
   "metadata": {},
   "outputs": [],
   "source": [
    "# --------------------------------------\n",
    "# --------- Text analysis and Hebrew text analysis imports:\n",
    "# vectorizers:\n",
    "from sklearn.feature_extraction import text\n",
    "from sklearn.feature_extraction.text import CountVectorizer, TfidfVectorizer\n",
    "\n",
    "# regular expressions:\n",
    "import re\n",
    "# --------------------------------------"
   ]
  },
  {
   "cell_type": "markdown",
   "metadata": {},
   "source": [
    "### (optional) Hebrew text analysis - WordNet (for Hebrew)\n",
    "Note: the WordNet is not a must"
   ]
  },
  {
   "cell_type": "markdown",
   "metadata": {},
   "source": [
    "#### (optional) Only if you didn't install Wordnet (for Hebrew) use:"
   ]
  },
  {
   "cell_type": "code",
   "execution_count": 3,
   "metadata": {},
   "outputs": [
    {
     "name": "stdout",
     "output_type": "stream",
     "text": [
      "Requirement already satisfied: wn in c:\\users\\maor\\appdata\\local\\programs\\python\\python310\\lib\\site-packages (0.9.3)\n",
      "Requirement already satisfied: requests in c:\\users\\maor\\appdata\\local\\programs\\python\\python310\\lib\\site-packages (from wn) (2.28.1)\n",
      "Requirement already satisfied: tomli in c:\\users\\maor\\appdata\\local\\programs\\python\\python310\\lib\\site-packages (from wn) (2.0.1)\n",
      "Requirement already satisfied: charset-normalizer<3,>=2 in c:\\users\\maor\\appdata\\local\\programs\\python\\python310\\lib\\site-packages (from requests->wn) (2.1.1)\n",
      "Requirement already satisfied: idna<4,>=2.5 in c:\\users\\maor\\appdata\\local\\programs\\python\\python310\\lib\\site-packages (from requests->wn) (3.4)\n",
      "Requirement already satisfied: urllib3<1.27,>=1.21.1 in c:\\users\\maor\\appdata\\local\\programs\\python\\python310\\lib\\site-packages (from requests->wn) (1.26.12)\n",
      "Requirement already satisfied: certifi>=2017.4.17 in c:\\users\\maor\\appdata\\local\\programs\\python\\python310\\lib\\site-packages (from requests->wn) (2022.9.14)\n"
     ]
    },
    {
     "name": "stderr",
     "output_type": "stream",
     "text": [
      "\n",
      "[notice] A new release of pip is available: 23.1 -> 23.1.1\n",
      "[notice] To update, run: python.exe -m pip install --upgrade pip\n",
      "\n",
      "\u001b[KCached file found: C:\\Users\\Maor\\.wn_data\\downloads\\7ecf10e89326bc0ac26ad94b40fe60a7b6ac3302\n",
      "\n",
      "\u001b[KChecking C:\\Users\\Maor\\AppData\\Local\\Temp\\tmp_7i8cme1\\omw-he\\omw-he.xml\n",
      "\u001b[KSkipping omw-he:1.4 (Hebrew Wordnet); already added\n",
      "\n"
     ]
    }
   ],
   "source": [
    "# word net installation:\n",
    "\n",
    "# unmark if you want to use and need to install\n",
    "!pip install wn\n",
    "!python -m wn download omw-he:1.4"
   ]
  },
  {
   "cell_type": "code",
   "execution_count": 4,
   "metadata": {},
   "outputs": [],
   "source": [
    "# word net import:\n",
    "\n",
    "# unmark if you want to use:\n",
    "#import wn"
   ]
  },
  {
   "cell_type": "markdown",
   "metadata": {},
   "source": [
    "### (optional) Hebrew text analysis - hebrew_tokenizer (Tokenizer for Hebrew)\n",
    "Note: the hebrew_tokenizer is not a must"
   ]
  },
  {
   "cell_type": "markdown",
   "metadata": {},
   "source": [
    "#### (optional) Only if you didn't install hebrew_tokenizer use:"
   ]
  },
  {
   "cell_type": "code",
   "execution_count": 5,
   "metadata": {},
   "outputs": [],
   "source": [
    "# Hebrew tokenizer installation:\n",
    "\n",
    "# unmark if you want to use and need to install:\n",
    "#!pip install hebrew_tokenizer"
   ]
  },
  {
   "cell_type": "code",
   "execution_count": 6,
   "metadata": {},
   "outputs": [
    {
     "name": "stdout",
     "output_type": "stream",
     "text": [
      "c:\\Users\\Maor\\Desktop\\HIT - לימודים\\'קורסים שנה ב\\'סמסטר ב\\למידת מכונה\\תרגילי הגשה (למידת מכונה)\\תרגיל הגשה 5 (למידת מכונה)\n"
     ]
    }
   ],
   "source": [
    "# Hebrew tokenizer import:\n",
    "\n",
    "# unmark if you want to use:\n",
    "import hebrew_tokenizer as ht"
   ]
  },
  {
   "cell_type": "markdown",
   "metadata": {},
   "source": [
    "### Reading input files\n",
    "Reading input files for train annotated corpus (raw text data) corpus and for the test corpus"
   ]
  },
  {
   "cell_type": "code",
   "execution_count": 7,
   "metadata": {},
   "outputs": [],
   "source": [
    "train_filename = 'annotated_corpus_for_train.csv'\n",
    "test_filename  = 'corpus_for_test.csv'\n",
    "df_train = pd.read_csv(train_filename, index_col=None, encoding='utf-8')\n",
    "df_test  = pd.read_csv(test_filename, index_col=None, encoding='utf-8')"
   ]
  },
  {
   "cell_type": "code",
   "execution_count": 8,
   "metadata": {},
   "outputs": [
    {
     "data": {
      "text/html": [
       "<div>\n",
       "<style scoped>\n",
       "    .dataframe tbody tr th:only-of-type {\n",
       "        vertical-align: middle;\n",
       "    }\n",
       "\n",
       "    .dataframe tbody tr th {\n",
       "        vertical-align: top;\n",
       "    }\n",
       "\n",
       "    .dataframe thead th {\n",
       "        text-align: right;\n",
       "    }\n",
       "</style>\n",
       "<table border=\"1\" class=\"dataframe\">\n",
       "  <thead>\n",
       "    <tr style=\"text-align: right;\">\n",
       "      <th></th>\n",
       "      <th>story</th>\n",
       "      <th>gender</th>\n",
       "    </tr>\n",
       "  </thead>\n",
       "  <tbody>\n",
       "    <tr>\n",
       "      <th>0</th>\n",
       "      <td>כשחבר הזמין אותי לחול, לא באמת חשבתי שזה יקרה,...</td>\n",
       "      <td>m</td>\n",
       "    </tr>\n",
       "    <tr>\n",
       "      <th>1</th>\n",
       "      <td>לפני שהתגייסתי לצבא עשיתי כל מני מיונים ליחידו...</td>\n",
       "      <td>m</td>\n",
       "    </tr>\n",
       "    <tr>\n",
       "      <th>2</th>\n",
       "      <td>מאז שהתחילו הלימודים חלומו של כל סטודנט זה הפנ...</td>\n",
       "      <td>f</td>\n",
       "    </tr>\n",
       "    <tr>\n",
       "      <th>3</th>\n",
       "      <td>כשהייתי ילד, מטוסים היה הדבר שהכי ריתק אותי. ב...</td>\n",
       "      <td>m</td>\n",
       "    </tr>\n",
       "    <tr>\n",
       "      <th>4</th>\n",
       "      <td>‏הייתי מדריכה בכפר נוער ומתאם הכפר היינו צריכי...</td>\n",
       "      <td>f</td>\n",
       "    </tr>\n",
       "    <tr>\n",
       "      <th>5</th>\n",
       "      <td>לפני כ3 חודשים טסתי לרומא למשך שבוע. טסתי במטו...</td>\n",
       "      <td>f</td>\n",
       "    </tr>\n",
       "    <tr>\n",
       "      <th>6</th>\n",
       "      <td>אני כבר שנתיים נשוי והשנה אני ואישתי סוף סוף י...</td>\n",
       "      <td>m</td>\n",
       "    </tr>\n",
       "    <tr>\n",
       "      <th>7</th>\n",
       "      <td>השנה התחלנו שיפוץ בדירה שלנו בתל אביב. הדירה ה...</td>\n",
       "      <td>f</td>\n",
       "    </tr>\n",
       "  </tbody>\n",
       "</table>\n",
       "</div>"
      ],
      "text/plain": [
       "                                               story gender\n",
       "0  כשחבר הזמין אותי לחול, לא באמת חשבתי שזה יקרה,...      m\n",
       "1  לפני שהתגייסתי לצבא עשיתי כל מני מיונים ליחידו...      m\n",
       "2  מאז שהתחילו הלימודים חלומו של כל סטודנט זה הפנ...      f\n",
       "3  כשהייתי ילד, מטוסים היה הדבר שהכי ריתק אותי. ב...      m\n",
       "4  ‏הייתי מדריכה בכפר נוער ומתאם הכפר היינו צריכי...      f\n",
       "5  לפני כ3 חודשים טסתי לרומא למשך שבוע. טסתי במטו...      f\n",
       "6  אני כבר שנתיים נשוי והשנה אני ואישתי סוף סוף י...      m\n",
       "7  השנה התחלנו שיפוץ בדירה שלנו בתל אביב. הדירה ה...      f"
      ]
     },
     "execution_count": 8,
     "metadata": {},
     "output_type": "execute_result"
    },
    {
     "data": {
      "text/plain": [
       "(753, 2)"
      ]
     },
     "execution_count": 8,
     "metadata": {},
     "output_type": "execute_result"
    }
   ],
   "source": [
    "df_train.head(8)\n",
    "df_train.shape"
   ]
  },
  {
   "cell_type": "code",
   "execution_count": 9,
   "metadata": {},
   "outputs": [
    {
     "data": {
      "text/html": [
       "<div>\n",
       "<style scoped>\n",
       "    .dataframe tbody tr th:only-of-type {\n",
       "        vertical-align: middle;\n",
       "    }\n",
       "\n",
       "    .dataframe tbody tr th {\n",
       "        vertical-align: top;\n",
       "    }\n",
       "\n",
       "    .dataframe thead th {\n",
       "        text-align: right;\n",
       "    }\n",
       "</style>\n",
       "<table border=\"1\" class=\"dataframe\">\n",
       "  <thead>\n",
       "    <tr style=\"text-align: right;\">\n",
       "      <th></th>\n",
       "      <th>test_example_id</th>\n",
       "      <th>story</th>\n",
       "    </tr>\n",
       "  </thead>\n",
       "  <tbody>\n",
       "    <tr>\n",
       "      <th>0</th>\n",
       "      <td>0</td>\n",
       "      <td>כל קיץ אני והמשפחה נוסעים לארצות הברית לוס אנג...</td>\n",
       "    </tr>\n",
       "    <tr>\n",
       "      <th>1</th>\n",
       "      <td>1</td>\n",
       "      <td>הגעתי לשירות המדינה אחרי שנתיים כפעיל בתנועת \"...</td>\n",
       "    </tr>\n",
       "    <tr>\n",
       "      <th>2</th>\n",
       "      <td>2</td>\n",
       "      <td>אחת האהבות הגדולות שלי אלו הכלבים שלי ושל אישת...</td>\n",
       "    </tr>\n",
       "  </tbody>\n",
       "</table>\n",
       "</div>"
      ],
      "text/plain": [
       "   test_example_id                                              story\n",
       "0                0  כל קיץ אני והמשפחה נוסעים לארצות הברית לוס אנג...\n",
       "1                1  הגעתי לשירות המדינה אחרי שנתיים כפעיל בתנועת \"...\n",
       "2                2  אחת האהבות הגדולות שלי אלו הכלבים שלי ושל אישת..."
      ]
     },
     "execution_count": 9,
     "metadata": {},
     "output_type": "execute_result"
    },
    {
     "data": {
      "text/plain": [
       "(323, 2)"
      ]
     },
     "execution_count": 9,
     "metadata": {},
     "output_type": "execute_result"
    }
   ],
   "source": [
    "df_test.head(3)\n",
    "df_test.shape"
   ]
  },
  {
   "cell_type": "markdown",
   "metadata": {},
   "source": [
    "### Your implementation:\n",
    "Write your code solution in the following code-cells"
   ]
  },
  {
   "attachments": {},
   "cell_type": "markdown",
   "metadata": {},
   "source": [
    "# <u>Step 1: Tokenization</u>\n",
    "\n",
    "This is the first stage of our mini-project. Our goal is to preprocess each story in the corpus.<br/>\n",
    "We are going to normalize each story and divide it into tokens in Hebrew only, with each word/token separated from the other by a single whitespace.<br/>\n",
    "It is done to ease the vectorization process.\n",
    "\n",
    "<u><b>For Example:</b></u>\n",
    "* ב.ע.מ. -> בעמ\n",
    "* דוא\"ל -> דואל\n",
    "* שלום, עולם. -> שלום עולם"
   ]
  },
  {
   "attachments": {},
   "cell_type": "markdown",
   "metadata": {},
   "source": [
    "## Step 1.1: Define A Preprocessing Function\n",
    "\n",
    "<u>function name</u>: <b>preprocess_text</b><br/>\n",
    "\n",
    "------------\n",
    "\n",
    "<pre>\n",
    "input parameters:\n",
    "- hebrew_text - a text/story written in <code>Hebrew</code>\n",
    "------------\n",
    "The function is going to return a regulated version of the <code>hebrew_text</code>, \n",
    "    that contains only Hebrew words, seperated by a single whitespace. </pre>\n",
    "    \n",
    "------------\n"
   ]
  },
  {
   "cell_type": "code",
   "execution_count": 10,
   "metadata": {},
   "outputs": [],
   "source": [
    "def preprocess_text(hebrew_text):\n",
    "    tokens = ht.tokenize(hebrew_text)\n",
    "    return ' '.join([token[1] for token in tokens if (token[0] == 'HEBREW') and (len(token[1]) > 1)])"
   ]
  },
  {
   "attachments": {},
   "cell_type": "markdown",
   "metadata": {},
   "source": [
    "## Step 1.2: Apply The Preprocessing Function Onto <code>df_train</code>\n",
    "\n"
   ]
  },
  {
   "cell_type": "code",
   "execution_count": 11,
   "metadata": {},
   "outputs": [],
   "source": [
    "df_train_tokenized = df_train.copy()\n",
    "df_train_tokenized['story'] = df_train_tokenized['story'].apply(preprocess_text)"
   ]
  },
  {
   "attachments": {},
   "cell_type": "markdown",
   "metadata": {},
   "source": [
    "## Step 1.3: Observe Changes"
   ]
  },
  {
   "cell_type": "code",
   "execution_count": 12,
   "metadata": {},
   "outputs": [
    {
     "data": {
      "text/html": [
       "<div>\n",
       "<style scoped>\n",
       "    .dataframe tbody tr th:only-of-type {\n",
       "        vertical-align: middle;\n",
       "    }\n",
       "\n",
       "    .dataframe tbody tr th {\n",
       "        vertical-align: top;\n",
       "    }\n",
       "\n",
       "    .dataframe thead th {\n",
       "        text-align: right;\n",
       "    }\n",
       "</style>\n",
       "<table border=\"1\" class=\"dataframe\">\n",
       "  <thead>\n",
       "    <tr style=\"text-align: right;\">\n",
       "      <th></th>\n",
       "      <th>original_story</th>\n",
       "      <th>tokenized_story</th>\n",
       "    </tr>\n",
       "  </thead>\n",
       "  <tbody>\n",
       "    <tr>\n",
       "      <th>0</th>\n",
       "      <td>כשחבר הזמין אותי לחול, לא באמת חשבתי שזה יקרה,...</td>\n",
       "      <td>כשחבר הזמין אותי לחול לא באמת חשבתי שזה יקרה פ...</td>\n",
       "    </tr>\n",
       "    <tr>\n",
       "      <th>1</th>\n",
       "      <td>לפני שהתגייסתי לצבא עשיתי כל מני מיונים ליחידו...</td>\n",
       "      <td>לפני שהתגייסתי לצבא עשיתי כל מני מיונים ליחידו...</td>\n",
       "    </tr>\n",
       "    <tr>\n",
       "      <th>2</th>\n",
       "      <td>מאז שהתחילו הלימודים חלומו של כל סטודנט זה הפנ...</td>\n",
       "      <td>מאז שהתחילו הלימודים חלומו של כל סטודנט זה הפנ...</td>\n",
       "    </tr>\n",
       "    <tr>\n",
       "      <th>3</th>\n",
       "      <td>כשהייתי ילד, מטוסים היה הדבר שהכי ריתק אותי. ב...</td>\n",
       "      <td>כשהייתי ילד מטוסים היה הדבר שהכי ריתק אותי בתו...</td>\n",
       "    </tr>\n",
       "    <tr>\n",
       "      <th>4</th>\n",
       "      <td>‏הייתי מדריכה בכפר נוער ומתאם הכפר היינו צריכי...</td>\n",
       "      <td>הייתי מדריכה בכפר נוער ומתאם הכפר היינו צריכים...</td>\n",
       "    </tr>\n",
       "    <tr>\n",
       "      <th>5</th>\n",
       "      <td>לפני כ3 חודשים טסתי לרומא למשך שבוע. טסתי במטו...</td>\n",
       "      <td>לפני חודשים טסתי לרומא למשך שבוע טסתי במטוס אל...</td>\n",
       "    </tr>\n",
       "    <tr>\n",
       "      <th>6</th>\n",
       "      <td>אני כבר שנתיים נשוי והשנה אני ואישתי סוף סוף י...</td>\n",
       "      <td>אני כבר שנתיים נשוי והשנה אני ואישתי סוף סוף י...</td>\n",
       "    </tr>\n",
       "    <tr>\n",
       "      <th>7</th>\n",
       "      <td>השנה התחלנו שיפוץ בדירה שלנו בתל אביב. הדירה ה...</td>\n",
       "      <td>השנה התחלנו שיפוץ בדירה שלנו בתל אביב הדירה הי...</td>\n",
       "    </tr>\n",
       "    <tr>\n",
       "      <th>8</th>\n",
       "      <td>עד לפני כמה חודשים אני הייתי בטוח שכל חיי אהיה...</td>\n",
       "      <td>עד לפני כמה חודשים אני הייתי בטוח שכל חיי אהיה...</td>\n",
       "    </tr>\n",
       "    <tr>\n",
       "      <th>9</th>\n",
       "      <td>בן זוגי חגג יום הולדת, ורציתי להפתיע אותו ולסג...</td>\n",
       "      <td>בן זוגי חגג יום הולדת ורציתי להפתיע אותו ולסגו...</td>\n",
       "    </tr>\n",
       "  </tbody>\n",
       "</table>\n",
       "</div>"
      ],
      "text/plain": [
       "                                      original_story  \\\n",
       "0  כשחבר הזמין אותי לחול, לא באמת חשבתי שזה יקרה,...   \n",
       "1  לפני שהתגייסתי לצבא עשיתי כל מני מיונים ליחידו...   \n",
       "2  מאז שהתחילו הלימודים חלומו של כל סטודנט זה הפנ...   \n",
       "3  כשהייתי ילד, מטוסים היה הדבר שהכי ריתק אותי. ב...   \n",
       "4  ‏הייתי מדריכה בכפר נוער ומתאם הכפר היינו צריכי...   \n",
       "5  לפני כ3 חודשים טסתי לרומא למשך שבוע. טסתי במטו...   \n",
       "6  אני כבר שנתיים נשוי והשנה אני ואישתי סוף סוף י...   \n",
       "7  השנה התחלנו שיפוץ בדירה שלנו בתל אביב. הדירה ה...   \n",
       "8  עד לפני כמה חודשים אני הייתי בטוח שכל חיי אהיה...   \n",
       "9  בן זוגי חגג יום הולדת, ורציתי להפתיע אותו ולסג...   \n",
       "\n",
       "                                     tokenized_story  \n",
       "0  כשחבר הזמין אותי לחול לא באמת חשבתי שזה יקרה פ...  \n",
       "1  לפני שהתגייסתי לצבא עשיתי כל מני מיונים ליחידו...  \n",
       "2  מאז שהתחילו הלימודים חלומו של כל סטודנט זה הפנ...  \n",
       "3  כשהייתי ילד מטוסים היה הדבר שהכי ריתק אותי בתו...  \n",
       "4  הייתי מדריכה בכפר נוער ומתאם הכפר היינו צריכים...  \n",
       "5  לפני חודשים טסתי לרומא למשך שבוע טסתי במטוס אל...  \n",
       "6  אני כבר שנתיים נשוי והשנה אני ואישתי סוף סוף י...  \n",
       "7  השנה התחלנו שיפוץ בדירה שלנו בתל אביב הדירה הי...  \n",
       "8  עד לפני כמה חודשים אני הייתי בטוח שכל חיי אהיה...  \n",
       "9  בן זוגי חגג יום הולדת ורציתי להפתיע אותו ולסגו...  "
      ]
     },
     "execution_count": 12,
     "metadata": {},
     "output_type": "execute_result"
    }
   ],
   "source": [
    "pd.DataFrame({\n",
    "    'original_story': df_train['story'],\n",
    "    'tokenized_story': df_train_tokenized['story']}).head(10)"
   ]
  },
  {
   "attachments": {},
   "cell_type": "markdown",
   "metadata": {},
   "source": [
    "# <u>Step 2: Modeling and Vectorization</u>\n",
    "\n",
    "**This is the biggest part of the assignment**.</br>\n",
    "In this section we will train three different models:\n",
    "* MultinomialNB\n",
    "* LinearSVC\n",
    "* Decision Tree\n",
    "\n",
    "We will pair each model with the two vectorizer tools we learned in class:\n",
    "* The CountVectorizer\n",
    "* The TfidfVectorizer\n",
    "\n",
    "For each <code>model and vectorizer pair</code> we will perform several tests using <code>GridSearchCV</code> which will help us (as much as possible)</br>\n",
    "to find the best Hyperparameters that will lead to the highest Average_f1 result.\n",
    "\n",
    "Each <code>model and vectorizer pair</code> will receive **at least 2 tests** and **at most 4 tests**.</br> \n",
    "At the end of each test</br> we will list the <code>Average_f1</code> and <code>Run-Time</code> results,</br>\n",
    "draw conclusions and try to improve them in the next test (mainly the <code>Average_f1</code>)."
   ]
  },
  {
   "attachments": {},
   "cell_type": "markdown",
   "metadata": {},
   "source": [
    "# <u>Step 2.1: MultinomialNB - Testing:</u>"
   ]
  },
  {
   "attachments": {},
   "cell_type": "markdown",
   "metadata": {},
   "source": [
    "## Step 2.1.1: MultinomialNB and CountVectorizer - Testing:"
   ]
  },
  {
   "attachments": {},
   "cell_type": "markdown",
   "metadata": {},
   "source": [
    "### Test 1:"
   ]
  },
  {
   "cell_type": "code",
   "execution_count": 54,
   "metadata": {},
   "outputs": [
    {
     "data": {
      "text/html": [
       "<style>#sk-container-id-5 {color: black;background-color: white;}#sk-container-id-5 pre{padding: 0;}#sk-container-id-5 div.sk-toggleable {background-color: white;}#sk-container-id-5 label.sk-toggleable__label {cursor: pointer;display: block;width: 100%;margin-bottom: 0;padding: 0.3em;box-sizing: border-box;text-align: center;}#sk-container-id-5 label.sk-toggleable__label-arrow:before {content: \"▸\";float: left;margin-right: 0.25em;color: #696969;}#sk-container-id-5 label.sk-toggleable__label-arrow:hover:before {color: black;}#sk-container-id-5 div.sk-estimator:hover label.sk-toggleable__label-arrow:before {color: black;}#sk-container-id-5 div.sk-toggleable__content {max-height: 0;max-width: 0;overflow: hidden;text-align: left;background-color: #f0f8ff;}#sk-container-id-5 div.sk-toggleable__content pre {margin: 0.2em;color: black;border-radius: 0.25em;background-color: #f0f8ff;}#sk-container-id-5 input.sk-toggleable__control:checked~div.sk-toggleable__content {max-height: 200px;max-width: 100%;overflow: auto;}#sk-container-id-5 input.sk-toggleable__control:checked~label.sk-toggleable__label-arrow:before {content: \"▾\";}#sk-container-id-5 div.sk-estimator input.sk-toggleable__control:checked~label.sk-toggleable__label {background-color: #d4ebff;}#sk-container-id-5 div.sk-label input.sk-toggleable__control:checked~label.sk-toggleable__label {background-color: #d4ebff;}#sk-container-id-5 input.sk-hidden--visually {border: 0;clip: rect(1px 1px 1px 1px);clip: rect(1px, 1px, 1px, 1px);height: 1px;margin: -1px;overflow: hidden;padding: 0;position: absolute;width: 1px;}#sk-container-id-5 div.sk-estimator {font-family: monospace;background-color: #f0f8ff;border: 1px dotted black;border-radius: 0.25em;box-sizing: border-box;margin-bottom: 0.5em;}#sk-container-id-5 div.sk-estimator:hover {background-color: #d4ebff;}#sk-container-id-5 div.sk-parallel-item::after {content: \"\";width: 100%;border-bottom: 1px solid gray;flex-grow: 1;}#sk-container-id-5 div.sk-label:hover label.sk-toggleable__label {background-color: #d4ebff;}#sk-container-id-5 div.sk-serial::before {content: \"\";position: absolute;border-left: 1px solid gray;box-sizing: border-box;top: 0;bottom: 0;left: 50%;z-index: 0;}#sk-container-id-5 div.sk-serial {display: flex;flex-direction: column;align-items: center;background-color: white;padding-right: 0.2em;padding-left: 0.2em;position: relative;}#sk-container-id-5 div.sk-item {position: relative;z-index: 1;}#sk-container-id-5 div.sk-parallel {display: flex;align-items: stretch;justify-content: center;background-color: white;position: relative;}#sk-container-id-5 div.sk-item::before, #sk-container-id-5 div.sk-parallel-item::before {content: \"\";position: absolute;border-left: 1px solid gray;box-sizing: border-box;top: 0;bottom: 0;left: 50%;z-index: -1;}#sk-container-id-5 div.sk-parallel-item {display: flex;flex-direction: column;z-index: 1;position: relative;background-color: white;}#sk-container-id-5 div.sk-parallel-item:first-child::after {align-self: flex-end;width: 50%;}#sk-container-id-5 div.sk-parallel-item:last-child::after {align-self: flex-start;width: 50%;}#sk-container-id-5 div.sk-parallel-item:only-child::after {width: 0;}#sk-container-id-5 div.sk-dashed-wrapped {border: 1px dashed gray;margin: 0 0.4em 0.5em 0.4em;box-sizing: border-box;padding-bottom: 0.4em;background-color: white;}#sk-container-id-5 div.sk-label label {font-family: monospace;font-weight: bold;display: inline-block;line-height: 1.2em;}#sk-container-id-5 div.sk-label-container {text-align: center;}#sk-container-id-5 div.sk-container {/* jupyter's `normalize.less` sets `[hidden] { display: none; }` but bootstrap.min.css set `[hidden] { display: none !important; }` so we also need the `!important` here to be able to override the default hidden behavior on the sphinx rendered scikit-learn.org. See: https://github.com/scikit-learn/scikit-learn/issues/21755 */display: inline-block !important;position: relative;}#sk-container-id-5 div.sk-text-repr-fallback {display: none;}</style><div id=\"sk-container-id-5\" class=\"sk-top-container\"><div class=\"sk-text-repr-fallback\"><pre>GridSearchCV(cv=5,\n",
       "             estimator=Pipeline(steps=[(&#x27;vectorizer&#x27;, CountVectorizer()),\n",
       "                                       (&#x27;classifier&#x27;, MultinomialNB())]),\n",
       "             param_grid=[{&#x27;classifier&#x27;: [MultinomialNB(alpha=0.5)],\n",
       "                          &#x27;classifier__alpha&#x27;: [0.1, 0.5, 1, 5],\n",
       "                          &#x27;vectorizer&#x27;: [CountVectorizer(max_features=10000,\n",
       "                                                         min_df=3,\n",
       "                                                         ngram_range=(1, 2))],\n",
       "                          &#x27;vectorizer__max_features&#x27;: [10000, 30000],\n",
       "                          &#x27;vectorizer__min_df&#x27;: [1, 2, 3],\n",
       "                          &#x27;vectorizer__ngram_range&#x27;: [(1, 1), (1, 2)]}],\n",
       "             scoring=&#x27;f1_macro&#x27;)</pre><b>In a Jupyter environment, please rerun this cell to show the HTML representation or trust the notebook. <br />On GitHub, the HTML representation is unable to render, please try loading this page with nbviewer.org.</b></div><div class=\"sk-container\" hidden><div class=\"sk-item sk-dashed-wrapped\"><div class=\"sk-label-container\"><div class=\"sk-label sk-toggleable\"><input class=\"sk-toggleable__control sk-hidden--visually\" id=\"sk-estimator-id-17\" type=\"checkbox\" ><label for=\"sk-estimator-id-17\" class=\"sk-toggleable__label sk-toggleable__label-arrow\">GridSearchCV</label><div class=\"sk-toggleable__content\"><pre>GridSearchCV(cv=5,\n",
       "             estimator=Pipeline(steps=[(&#x27;vectorizer&#x27;, CountVectorizer()),\n",
       "                                       (&#x27;classifier&#x27;, MultinomialNB())]),\n",
       "             param_grid=[{&#x27;classifier&#x27;: [MultinomialNB(alpha=0.5)],\n",
       "                          &#x27;classifier__alpha&#x27;: [0.1, 0.5, 1, 5],\n",
       "                          &#x27;vectorizer&#x27;: [CountVectorizer(max_features=10000,\n",
       "                                                         min_df=3,\n",
       "                                                         ngram_range=(1, 2))],\n",
       "                          &#x27;vectorizer__max_features&#x27;: [10000, 30000],\n",
       "                          &#x27;vectorizer__min_df&#x27;: [1, 2, 3],\n",
       "                          &#x27;vectorizer__ngram_range&#x27;: [(1, 1), (1, 2)]}],\n",
       "             scoring=&#x27;f1_macro&#x27;)</pre></div></div></div><div class=\"sk-parallel\"><div class=\"sk-parallel-item\"><div class=\"sk-item\"><div class=\"sk-label-container\"><div class=\"sk-label sk-toggleable\"><input class=\"sk-toggleable__control sk-hidden--visually\" id=\"sk-estimator-id-18\" type=\"checkbox\" ><label for=\"sk-estimator-id-18\" class=\"sk-toggleable__label sk-toggleable__label-arrow\">estimator: Pipeline</label><div class=\"sk-toggleable__content\"><pre>Pipeline(steps=[(&#x27;vectorizer&#x27;, CountVectorizer()),\n",
       "                (&#x27;classifier&#x27;, MultinomialNB())])</pre></div></div></div><div class=\"sk-serial\"><div class=\"sk-item\"><div class=\"sk-serial\"><div class=\"sk-item\"><div class=\"sk-estimator sk-toggleable\"><input class=\"sk-toggleable__control sk-hidden--visually\" id=\"sk-estimator-id-19\" type=\"checkbox\" ><label for=\"sk-estimator-id-19\" class=\"sk-toggleable__label sk-toggleable__label-arrow\">CountVectorizer</label><div class=\"sk-toggleable__content\"><pre>CountVectorizer()</pre></div></div></div><div class=\"sk-item\"><div class=\"sk-estimator sk-toggleable\"><input class=\"sk-toggleable__control sk-hidden--visually\" id=\"sk-estimator-id-20\" type=\"checkbox\" ><label for=\"sk-estimator-id-20\" class=\"sk-toggleable__label sk-toggleable__label-arrow\">MultinomialNB</label><div class=\"sk-toggleable__content\"><pre>MultinomialNB()</pre></div></div></div></div></div></div></div></div></div></div></div></div>"
      ],
      "text/plain": [
       "GridSearchCV(cv=5,\n",
       "             estimator=Pipeline(steps=[('vectorizer', CountVectorizer()),\n",
       "                                       ('classifier', MultinomialNB())]),\n",
       "             param_grid=[{'classifier': [MultinomialNB(alpha=0.5)],\n",
       "                          'classifier__alpha': [0.1, 0.5, 1, 5],\n",
       "                          'vectorizer': [CountVectorizer(max_features=10000,\n",
       "                                                         min_df=3,\n",
       "                                                         ngram_range=(1, 2))],\n",
       "                          'vectorizer__max_features': [10000, 30000],\n",
       "                          'vectorizer__min_df': [1, 2, 3],\n",
       "                          'vectorizer__ngram_range': [(1, 1), (1, 2)]}],\n",
       "             scoring='f1_macro')"
      ]
     },
     "execution_count": 54,
     "metadata": {},
     "output_type": "execute_result"
    },
    {
     "name": "stdout",
     "output_type": "stream",
     "text": [
      "{'classifier': MultinomialNB(alpha=0.5), 'classifier__alpha': 0.5, 'vectorizer': CountVectorizer(max_features=10000, min_df=3, ngram_range=(1, 2)), 'vectorizer__max_features': 10000, 'vectorizer__min_df': 3, 'vectorizer__ngram_range': (1, 2)}\n",
      "0.6770543755271181\n"
     ]
    }
   ],
   "source": [
    "# Define pipeline\n",
    "pipeline_train = Pipeline([\n",
    "    ('vectorizer', CountVectorizer()),\n",
    "    ('classifier', MultinomialNB())\n",
    "])\n",
    "\n",
    "# Define parameter grid for grid search\n",
    "param_grid = [\n",
    "    {\n",
    "        'vectorizer': [CountVectorizer()],\n",
    "        'vectorizer__max_features': [10_000, 30_000],\n",
    "        'vectorizer__ngram_range': [(1,1), (1,2)],\n",
    "        'vectorizer__min_df': [1, 2, 3],\n",
    "        'classifier': [MultinomialNB()],\n",
    "        'classifier__alpha': [0.1, 0.5, 1, 5]\n",
    "    }\n",
    "]\n",
    "\n",
    "# Perform grid search\n",
    "grid_search = GridSearchCV(pipeline_train, param_grid=param_grid, scoring='f1_macro', cv=5)\n",
    "grid_search.fit(df_train_tokenized['story'], df_train_tokenized['gender'])\n",
    "\n",
    "# Print best parameter combination and corresponding score\n",
    "print(grid_search.best_params_)\n",
    "print(grid_search.best_score_)"
   ]
  },
  {
   "attachments": {},
   "cell_type": "markdown",
   "metadata": {},
   "source": [
    "### Test 1 Results:\n",
    "* Average_f1 ≈ 0.677\n",
    "* Run-Time ≈ 2 minutes\n",
    "\n",
    "Let's see if can increase <code>Average_f1</code> without increasing too much the <code>Run-Time</code>.</br>\n",
    "Let's see what happens if we increase the <code>cv value</code> to 7."
   ]
  },
  {
   "attachments": {},
   "cell_type": "markdown",
   "metadata": {},
   "source": [
    "### Test 2:"
   ]
  },
  {
   "cell_type": "code",
   "execution_count": 56,
   "metadata": {},
   "outputs": [
    {
     "data": {
      "text/html": [
       "<style>#sk-container-id-7 {color: black;background-color: white;}#sk-container-id-7 pre{padding: 0;}#sk-container-id-7 div.sk-toggleable {background-color: white;}#sk-container-id-7 label.sk-toggleable__label {cursor: pointer;display: block;width: 100%;margin-bottom: 0;padding: 0.3em;box-sizing: border-box;text-align: center;}#sk-container-id-7 label.sk-toggleable__label-arrow:before {content: \"▸\";float: left;margin-right: 0.25em;color: #696969;}#sk-container-id-7 label.sk-toggleable__label-arrow:hover:before {color: black;}#sk-container-id-7 div.sk-estimator:hover label.sk-toggleable__label-arrow:before {color: black;}#sk-container-id-7 div.sk-toggleable__content {max-height: 0;max-width: 0;overflow: hidden;text-align: left;background-color: #f0f8ff;}#sk-container-id-7 div.sk-toggleable__content pre {margin: 0.2em;color: black;border-radius: 0.25em;background-color: #f0f8ff;}#sk-container-id-7 input.sk-toggleable__control:checked~div.sk-toggleable__content {max-height: 200px;max-width: 100%;overflow: auto;}#sk-container-id-7 input.sk-toggleable__control:checked~label.sk-toggleable__label-arrow:before {content: \"▾\";}#sk-container-id-7 div.sk-estimator input.sk-toggleable__control:checked~label.sk-toggleable__label {background-color: #d4ebff;}#sk-container-id-7 div.sk-label input.sk-toggleable__control:checked~label.sk-toggleable__label {background-color: #d4ebff;}#sk-container-id-7 input.sk-hidden--visually {border: 0;clip: rect(1px 1px 1px 1px);clip: rect(1px, 1px, 1px, 1px);height: 1px;margin: -1px;overflow: hidden;padding: 0;position: absolute;width: 1px;}#sk-container-id-7 div.sk-estimator {font-family: monospace;background-color: #f0f8ff;border: 1px dotted black;border-radius: 0.25em;box-sizing: border-box;margin-bottom: 0.5em;}#sk-container-id-7 div.sk-estimator:hover {background-color: #d4ebff;}#sk-container-id-7 div.sk-parallel-item::after {content: \"\";width: 100%;border-bottom: 1px solid gray;flex-grow: 1;}#sk-container-id-7 div.sk-label:hover label.sk-toggleable__label {background-color: #d4ebff;}#sk-container-id-7 div.sk-serial::before {content: \"\";position: absolute;border-left: 1px solid gray;box-sizing: border-box;top: 0;bottom: 0;left: 50%;z-index: 0;}#sk-container-id-7 div.sk-serial {display: flex;flex-direction: column;align-items: center;background-color: white;padding-right: 0.2em;padding-left: 0.2em;position: relative;}#sk-container-id-7 div.sk-item {position: relative;z-index: 1;}#sk-container-id-7 div.sk-parallel {display: flex;align-items: stretch;justify-content: center;background-color: white;position: relative;}#sk-container-id-7 div.sk-item::before, #sk-container-id-7 div.sk-parallel-item::before {content: \"\";position: absolute;border-left: 1px solid gray;box-sizing: border-box;top: 0;bottom: 0;left: 50%;z-index: -1;}#sk-container-id-7 div.sk-parallel-item {display: flex;flex-direction: column;z-index: 1;position: relative;background-color: white;}#sk-container-id-7 div.sk-parallel-item:first-child::after {align-self: flex-end;width: 50%;}#sk-container-id-7 div.sk-parallel-item:last-child::after {align-self: flex-start;width: 50%;}#sk-container-id-7 div.sk-parallel-item:only-child::after {width: 0;}#sk-container-id-7 div.sk-dashed-wrapped {border: 1px dashed gray;margin: 0 0.4em 0.5em 0.4em;box-sizing: border-box;padding-bottom: 0.4em;background-color: white;}#sk-container-id-7 div.sk-label label {font-family: monospace;font-weight: bold;display: inline-block;line-height: 1.2em;}#sk-container-id-7 div.sk-label-container {text-align: center;}#sk-container-id-7 div.sk-container {/* jupyter's `normalize.less` sets `[hidden] { display: none; }` but bootstrap.min.css set `[hidden] { display: none !important; }` so we also need the `!important` here to be able to override the default hidden behavior on the sphinx rendered scikit-learn.org. See: https://github.com/scikit-learn/scikit-learn/issues/21755 */display: inline-block !important;position: relative;}#sk-container-id-7 div.sk-text-repr-fallback {display: none;}</style><div id=\"sk-container-id-7\" class=\"sk-top-container\"><div class=\"sk-text-repr-fallback\"><pre>GridSearchCV(cv=7,\n",
       "             estimator=Pipeline(steps=[(&#x27;vectorizer&#x27;, CountVectorizer()),\n",
       "                                       (&#x27;classifier&#x27;, MultinomialNB())]),\n",
       "             param_grid=[{&#x27;classifier&#x27;: [MultinomialNB(alpha=0.5)],\n",
       "                          &#x27;classifier__alpha&#x27;: [0.1, 0.5, 1, 5],\n",
       "                          &#x27;vectorizer&#x27;: [CountVectorizer(max_features=10000,\n",
       "                                                         min_df=3,\n",
       "                                                         ngram_range=(1, 2))],\n",
       "                          &#x27;vectorizer__max_features&#x27;: [10000, 30000],\n",
       "                          &#x27;vectorizer__min_df&#x27;: [1, 2, 3],\n",
       "                          &#x27;vectorizer__ngram_range&#x27;: [(1, 1), (1, 2)]}],\n",
       "             scoring=&#x27;f1_macro&#x27;)</pre><b>In a Jupyter environment, please rerun this cell to show the HTML representation or trust the notebook. <br />On GitHub, the HTML representation is unable to render, please try loading this page with nbviewer.org.</b></div><div class=\"sk-container\" hidden><div class=\"sk-item sk-dashed-wrapped\"><div class=\"sk-label-container\"><div class=\"sk-label sk-toggleable\"><input class=\"sk-toggleable__control sk-hidden--visually\" id=\"sk-estimator-id-25\" type=\"checkbox\" ><label for=\"sk-estimator-id-25\" class=\"sk-toggleable__label sk-toggleable__label-arrow\">GridSearchCV</label><div class=\"sk-toggleable__content\"><pre>GridSearchCV(cv=7,\n",
       "             estimator=Pipeline(steps=[(&#x27;vectorizer&#x27;, CountVectorizer()),\n",
       "                                       (&#x27;classifier&#x27;, MultinomialNB())]),\n",
       "             param_grid=[{&#x27;classifier&#x27;: [MultinomialNB(alpha=0.5)],\n",
       "                          &#x27;classifier__alpha&#x27;: [0.1, 0.5, 1, 5],\n",
       "                          &#x27;vectorizer&#x27;: [CountVectorizer(max_features=10000,\n",
       "                                                         min_df=3,\n",
       "                                                         ngram_range=(1, 2))],\n",
       "                          &#x27;vectorizer__max_features&#x27;: [10000, 30000],\n",
       "                          &#x27;vectorizer__min_df&#x27;: [1, 2, 3],\n",
       "                          &#x27;vectorizer__ngram_range&#x27;: [(1, 1), (1, 2)]}],\n",
       "             scoring=&#x27;f1_macro&#x27;)</pre></div></div></div><div class=\"sk-parallel\"><div class=\"sk-parallel-item\"><div class=\"sk-item\"><div class=\"sk-label-container\"><div class=\"sk-label sk-toggleable\"><input class=\"sk-toggleable__control sk-hidden--visually\" id=\"sk-estimator-id-26\" type=\"checkbox\" ><label for=\"sk-estimator-id-26\" class=\"sk-toggleable__label sk-toggleable__label-arrow\">estimator: Pipeline</label><div class=\"sk-toggleable__content\"><pre>Pipeline(steps=[(&#x27;vectorizer&#x27;, CountVectorizer()),\n",
       "                (&#x27;classifier&#x27;, MultinomialNB())])</pre></div></div></div><div class=\"sk-serial\"><div class=\"sk-item\"><div class=\"sk-serial\"><div class=\"sk-item\"><div class=\"sk-estimator sk-toggleable\"><input class=\"sk-toggleable__control sk-hidden--visually\" id=\"sk-estimator-id-27\" type=\"checkbox\" ><label for=\"sk-estimator-id-27\" class=\"sk-toggleable__label sk-toggleable__label-arrow\">CountVectorizer</label><div class=\"sk-toggleable__content\"><pre>CountVectorizer()</pre></div></div></div><div class=\"sk-item\"><div class=\"sk-estimator sk-toggleable\"><input class=\"sk-toggleable__control sk-hidden--visually\" id=\"sk-estimator-id-28\" type=\"checkbox\" ><label for=\"sk-estimator-id-28\" class=\"sk-toggleable__label sk-toggleable__label-arrow\">MultinomialNB</label><div class=\"sk-toggleable__content\"><pre>MultinomialNB()</pre></div></div></div></div></div></div></div></div></div></div></div></div>"
      ],
      "text/plain": [
       "GridSearchCV(cv=7,\n",
       "             estimator=Pipeline(steps=[('vectorizer', CountVectorizer()),\n",
       "                                       ('classifier', MultinomialNB())]),\n",
       "             param_grid=[{'classifier': [MultinomialNB(alpha=0.5)],\n",
       "                          'classifier__alpha': [0.1, 0.5, 1, 5],\n",
       "                          'vectorizer': [CountVectorizer(max_features=10000,\n",
       "                                                         min_df=3,\n",
       "                                                         ngram_range=(1, 2))],\n",
       "                          'vectorizer__max_features': [10000, 30000],\n",
       "                          'vectorizer__min_df': [1, 2, 3],\n",
       "                          'vectorizer__ngram_range': [(1, 1), (1, 2)]}],\n",
       "             scoring='f1_macro')"
      ]
     },
     "execution_count": 56,
     "metadata": {},
     "output_type": "execute_result"
    },
    {
     "name": "stdout",
     "output_type": "stream",
     "text": [
      "{'classifier': MultinomialNB(alpha=0.5), 'classifier__alpha': 0.5, 'vectorizer': CountVectorizer(max_features=10000, min_df=3, ngram_range=(1, 2)), 'vectorizer__max_features': 10000, 'vectorizer__min_df': 3, 'vectorizer__ngram_range': (1, 2)}\n",
      "0.681150290813224\n"
     ]
    }
   ],
   "source": [
    "# Define pipeline\n",
    "pipeline_train = Pipeline([\n",
    "    ('vectorizer', CountVectorizer()),\n",
    "    ('classifier', MultinomialNB())\n",
    "])\n",
    "\n",
    "# Define parameter grid for grid search\n",
    "param_grid = [\n",
    "    {\n",
    "        'vectorizer': [CountVectorizer()],\n",
    "        'vectorizer__max_features': [10_000, 30_000],\n",
    "        'vectorizer__ngram_range': [(1,1), (1,2)],\n",
    "        'vectorizer__min_df': [1, 2, 3],\n",
    "        'classifier': [MultinomialNB()],\n",
    "        'classifier__alpha': [0.1, 0.5, 1, 5]\n",
    "    }\n",
    "]\n",
    "\n",
    "# Perform grid search\n",
    "grid_search = GridSearchCV(pipeline_train, param_grid=param_grid, scoring='f1_macro', cv=7)\n",
    "grid_search.fit(df_train_tokenized['story'], df_train_tokenized['gender'])\n",
    "\n",
    "# Print best parameter combination and corresponding score\n",
    "print(grid_search.best_params_)\n",
    "print(grid_search.best_score_)"
   ]
  },
  {
   "attachments": {},
   "cell_type": "markdown",
   "metadata": {},
   "source": [
    "### Test 2 Results:\n",
    "* Average_f1 ≈ 0.681\n",
    "* Run-Time ≈ 2.50 minutes\n",
    "\n",
    "Seems like increasing the <code>cv value</code> is the way to go!\n",
    "Let's try that again, only this time see what happens if we increase the <code>cv value</code> to 10."
   ]
  },
  {
   "attachments": {},
   "cell_type": "markdown",
   "metadata": {},
   "source": [
    "### Test 3:"
   ]
  },
  {
   "cell_type": "code",
   "execution_count": 57,
   "metadata": {},
   "outputs": [
    {
     "data": {
      "text/html": [
       "<style>#sk-container-id-8 {color: black;background-color: white;}#sk-container-id-8 pre{padding: 0;}#sk-container-id-8 div.sk-toggleable {background-color: white;}#sk-container-id-8 label.sk-toggleable__label {cursor: pointer;display: block;width: 100%;margin-bottom: 0;padding: 0.3em;box-sizing: border-box;text-align: center;}#sk-container-id-8 label.sk-toggleable__label-arrow:before {content: \"▸\";float: left;margin-right: 0.25em;color: #696969;}#sk-container-id-8 label.sk-toggleable__label-arrow:hover:before {color: black;}#sk-container-id-8 div.sk-estimator:hover label.sk-toggleable__label-arrow:before {color: black;}#sk-container-id-8 div.sk-toggleable__content {max-height: 0;max-width: 0;overflow: hidden;text-align: left;background-color: #f0f8ff;}#sk-container-id-8 div.sk-toggleable__content pre {margin: 0.2em;color: black;border-radius: 0.25em;background-color: #f0f8ff;}#sk-container-id-8 input.sk-toggleable__control:checked~div.sk-toggleable__content {max-height: 200px;max-width: 100%;overflow: auto;}#sk-container-id-8 input.sk-toggleable__control:checked~label.sk-toggleable__label-arrow:before {content: \"▾\";}#sk-container-id-8 div.sk-estimator input.sk-toggleable__control:checked~label.sk-toggleable__label {background-color: #d4ebff;}#sk-container-id-8 div.sk-label input.sk-toggleable__control:checked~label.sk-toggleable__label {background-color: #d4ebff;}#sk-container-id-8 input.sk-hidden--visually {border: 0;clip: rect(1px 1px 1px 1px);clip: rect(1px, 1px, 1px, 1px);height: 1px;margin: -1px;overflow: hidden;padding: 0;position: absolute;width: 1px;}#sk-container-id-8 div.sk-estimator {font-family: monospace;background-color: #f0f8ff;border: 1px dotted black;border-radius: 0.25em;box-sizing: border-box;margin-bottom: 0.5em;}#sk-container-id-8 div.sk-estimator:hover {background-color: #d4ebff;}#sk-container-id-8 div.sk-parallel-item::after {content: \"\";width: 100%;border-bottom: 1px solid gray;flex-grow: 1;}#sk-container-id-8 div.sk-label:hover label.sk-toggleable__label {background-color: #d4ebff;}#sk-container-id-8 div.sk-serial::before {content: \"\";position: absolute;border-left: 1px solid gray;box-sizing: border-box;top: 0;bottom: 0;left: 50%;z-index: 0;}#sk-container-id-8 div.sk-serial {display: flex;flex-direction: column;align-items: center;background-color: white;padding-right: 0.2em;padding-left: 0.2em;position: relative;}#sk-container-id-8 div.sk-item {position: relative;z-index: 1;}#sk-container-id-8 div.sk-parallel {display: flex;align-items: stretch;justify-content: center;background-color: white;position: relative;}#sk-container-id-8 div.sk-item::before, #sk-container-id-8 div.sk-parallel-item::before {content: \"\";position: absolute;border-left: 1px solid gray;box-sizing: border-box;top: 0;bottom: 0;left: 50%;z-index: -1;}#sk-container-id-8 div.sk-parallel-item {display: flex;flex-direction: column;z-index: 1;position: relative;background-color: white;}#sk-container-id-8 div.sk-parallel-item:first-child::after {align-self: flex-end;width: 50%;}#sk-container-id-8 div.sk-parallel-item:last-child::after {align-self: flex-start;width: 50%;}#sk-container-id-8 div.sk-parallel-item:only-child::after {width: 0;}#sk-container-id-8 div.sk-dashed-wrapped {border: 1px dashed gray;margin: 0 0.4em 0.5em 0.4em;box-sizing: border-box;padding-bottom: 0.4em;background-color: white;}#sk-container-id-8 div.sk-label label {font-family: monospace;font-weight: bold;display: inline-block;line-height: 1.2em;}#sk-container-id-8 div.sk-label-container {text-align: center;}#sk-container-id-8 div.sk-container {/* jupyter's `normalize.less` sets `[hidden] { display: none; }` but bootstrap.min.css set `[hidden] { display: none !important; }` so we also need the `!important` here to be able to override the default hidden behavior on the sphinx rendered scikit-learn.org. See: https://github.com/scikit-learn/scikit-learn/issues/21755 */display: inline-block !important;position: relative;}#sk-container-id-8 div.sk-text-repr-fallback {display: none;}</style><div id=\"sk-container-id-8\" class=\"sk-top-container\"><div class=\"sk-text-repr-fallback\"><pre>GridSearchCV(cv=10,\n",
       "             estimator=Pipeline(steps=[(&#x27;vectorizer&#x27;, CountVectorizer()),\n",
       "                                       (&#x27;classifier&#x27;, MultinomialNB())]),\n",
       "             param_grid=[{&#x27;classifier&#x27;: [MultinomialNB(alpha=0.5)],\n",
       "                          &#x27;classifier__alpha&#x27;: [0.1, 0.5, 1, 5],\n",
       "                          &#x27;vectorizer&#x27;: [CountVectorizer(max_features=10000,\n",
       "                                                         ngram_range=(1, 2))],\n",
       "                          &#x27;vectorizer__max_features&#x27;: [10000, 30000],\n",
       "                          &#x27;vectorizer__min_df&#x27;: [1, 2, 3],\n",
       "                          &#x27;vectorizer__ngram_range&#x27;: [(1, 1), (1, 2)]}],\n",
       "             scoring=&#x27;f1_macro&#x27;)</pre><b>In a Jupyter environment, please rerun this cell to show the HTML representation or trust the notebook. <br />On GitHub, the HTML representation is unable to render, please try loading this page with nbviewer.org.</b></div><div class=\"sk-container\" hidden><div class=\"sk-item sk-dashed-wrapped\"><div class=\"sk-label-container\"><div class=\"sk-label sk-toggleable\"><input class=\"sk-toggleable__control sk-hidden--visually\" id=\"sk-estimator-id-29\" type=\"checkbox\" ><label for=\"sk-estimator-id-29\" class=\"sk-toggleable__label sk-toggleable__label-arrow\">GridSearchCV</label><div class=\"sk-toggleable__content\"><pre>GridSearchCV(cv=10,\n",
       "             estimator=Pipeline(steps=[(&#x27;vectorizer&#x27;, CountVectorizer()),\n",
       "                                       (&#x27;classifier&#x27;, MultinomialNB())]),\n",
       "             param_grid=[{&#x27;classifier&#x27;: [MultinomialNB(alpha=0.5)],\n",
       "                          &#x27;classifier__alpha&#x27;: [0.1, 0.5, 1, 5],\n",
       "                          &#x27;vectorizer&#x27;: [CountVectorizer(max_features=10000,\n",
       "                                                         ngram_range=(1, 2))],\n",
       "                          &#x27;vectorizer__max_features&#x27;: [10000, 30000],\n",
       "                          &#x27;vectorizer__min_df&#x27;: [1, 2, 3],\n",
       "                          &#x27;vectorizer__ngram_range&#x27;: [(1, 1), (1, 2)]}],\n",
       "             scoring=&#x27;f1_macro&#x27;)</pre></div></div></div><div class=\"sk-parallel\"><div class=\"sk-parallel-item\"><div class=\"sk-item\"><div class=\"sk-label-container\"><div class=\"sk-label sk-toggleable\"><input class=\"sk-toggleable__control sk-hidden--visually\" id=\"sk-estimator-id-30\" type=\"checkbox\" ><label for=\"sk-estimator-id-30\" class=\"sk-toggleable__label sk-toggleable__label-arrow\">estimator: Pipeline</label><div class=\"sk-toggleable__content\"><pre>Pipeline(steps=[(&#x27;vectorizer&#x27;, CountVectorizer()),\n",
       "                (&#x27;classifier&#x27;, MultinomialNB())])</pre></div></div></div><div class=\"sk-serial\"><div class=\"sk-item\"><div class=\"sk-serial\"><div class=\"sk-item\"><div class=\"sk-estimator sk-toggleable\"><input class=\"sk-toggleable__control sk-hidden--visually\" id=\"sk-estimator-id-31\" type=\"checkbox\" ><label for=\"sk-estimator-id-31\" class=\"sk-toggleable__label sk-toggleable__label-arrow\">CountVectorizer</label><div class=\"sk-toggleable__content\"><pre>CountVectorizer()</pre></div></div></div><div class=\"sk-item\"><div class=\"sk-estimator sk-toggleable\"><input class=\"sk-toggleable__control sk-hidden--visually\" id=\"sk-estimator-id-32\" type=\"checkbox\" ><label for=\"sk-estimator-id-32\" class=\"sk-toggleable__label sk-toggleable__label-arrow\">MultinomialNB</label><div class=\"sk-toggleable__content\"><pre>MultinomialNB()</pre></div></div></div></div></div></div></div></div></div></div></div></div>"
      ],
      "text/plain": [
       "GridSearchCV(cv=10,\n",
       "             estimator=Pipeline(steps=[('vectorizer', CountVectorizer()),\n",
       "                                       ('classifier', MultinomialNB())]),\n",
       "             param_grid=[{'classifier': [MultinomialNB(alpha=0.5)],\n",
       "                          'classifier__alpha': [0.1, 0.5, 1, 5],\n",
       "                          'vectorizer': [CountVectorizer(max_features=10000,\n",
       "                                                         ngram_range=(1, 2))],\n",
       "                          'vectorizer__max_features': [10000, 30000],\n",
       "                          'vectorizer__min_df': [1, 2, 3],\n",
       "                          'vectorizer__ngram_range': [(1, 1), (1, 2)]}],\n",
       "             scoring='f1_macro')"
      ]
     },
     "execution_count": 57,
     "metadata": {},
     "output_type": "execute_result"
    },
    {
     "name": "stdout",
     "output_type": "stream",
     "text": [
      "{'classifier': MultinomialNB(alpha=0.5), 'classifier__alpha': 0.5, 'vectorizer': CountVectorizer(max_features=10000, ngram_range=(1, 2)), 'vectorizer__max_features': 10000, 'vectorizer__min_df': 1, 'vectorizer__ngram_range': (1, 2)}\n",
      "0.6958937445907581\n"
     ]
    }
   ],
   "source": [
    "# Define pipeline\n",
    "pipeline_train = Pipeline([\n",
    "    ('vectorizer', CountVectorizer()),\n",
    "    ('classifier', MultinomialNB())\n",
    "])\n",
    "\n",
    "# Define parameter grid for grid search\n",
    "param_grid = [\n",
    "    {\n",
    "        'vectorizer': [CountVectorizer()],\n",
    "        'vectorizer__max_features': [10_000, 30_000],\n",
    "        'vectorizer__ngram_range': [(1,1), (1,2)],\n",
    "        'vectorizer__min_df': [1, 2, 3],\n",
    "        'classifier': [MultinomialNB()],\n",
    "        'classifier__alpha': [0.1, 0.5, 1, 5]\n",
    "    }\n",
    "]\n",
    "\n",
    "# Perform grid search\n",
    "grid_search = GridSearchCV(pipeline_train, param_grid=param_grid, scoring='f1_macro', cv=10)\n",
    "grid_search.fit(df_train_tokenized['story'], df_train_tokenized['gender'])\n",
    "\n",
    "# Print best parameter combination and corresponding score\n",
    "print(grid_search.best_params_)\n",
    "print(grid_search.best_score_)"
   ]
  },
  {
   "attachments": {},
   "cell_type": "markdown",
   "metadata": {},
   "source": [
    "### Test 3 Results:\n",
    "* Average_f1 ≈ 0.695\n",
    "* Run-Time ≈ 4 minutes\n",
    "\n",
    "On the one hand, we managed to raise the <code>Average_f1</code> by approximately 0.01, on the other hand, we are starting to get a little carried away with time...</br>\n",
    "Let's try to see if it is possible, on the one hand, to get around 0.69, and on the other hand, to keep a time of about 4 minutes.</br>\n",
    "We will add an additional parameter <code>max_df</code> to the grid search and at the same time we will remove some values that in the previous tests</br>\n",
    "didn't contribute to the best <code>Average_f1 score</code> at all, in order to stay at approximately 4 min <code>Run-Time</code>."
   ]
  },
  {
   "attachments": {},
   "cell_type": "markdown",
   "metadata": {},
   "source": [
    "### Test 4:"
   ]
  },
  {
   "cell_type": "code",
   "execution_count": 62,
   "metadata": {},
   "outputs": [
    {
     "data": {
      "text/html": [
       "<style>#sk-container-id-11 {color: black;background-color: white;}#sk-container-id-11 pre{padding: 0;}#sk-container-id-11 div.sk-toggleable {background-color: white;}#sk-container-id-11 label.sk-toggleable__label {cursor: pointer;display: block;width: 100%;margin-bottom: 0;padding: 0.3em;box-sizing: border-box;text-align: center;}#sk-container-id-11 label.sk-toggleable__label-arrow:before {content: \"▸\";float: left;margin-right: 0.25em;color: #696969;}#sk-container-id-11 label.sk-toggleable__label-arrow:hover:before {color: black;}#sk-container-id-11 div.sk-estimator:hover label.sk-toggleable__label-arrow:before {color: black;}#sk-container-id-11 div.sk-toggleable__content {max-height: 0;max-width: 0;overflow: hidden;text-align: left;background-color: #f0f8ff;}#sk-container-id-11 div.sk-toggleable__content pre {margin: 0.2em;color: black;border-radius: 0.25em;background-color: #f0f8ff;}#sk-container-id-11 input.sk-toggleable__control:checked~div.sk-toggleable__content {max-height: 200px;max-width: 100%;overflow: auto;}#sk-container-id-11 input.sk-toggleable__control:checked~label.sk-toggleable__label-arrow:before {content: \"▾\";}#sk-container-id-11 div.sk-estimator input.sk-toggleable__control:checked~label.sk-toggleable__label {background-color: #d4ebff;}#sk-container-id-11 div.sk-label input.sk-toggleable__control:checked~label.sk-toggleable__label {background-color: #d4ebff;}#sk-container-id-11 input.sk-hidden--visually {border: 0;clip: rect(1px 1px 1px 1px);clip: rect(1px, 1px, 1px, 1px);height: 1px;margin: -1px;overflow: hidden;padding: 0;position: absolute;width: 1px;}#sk-container-id-11 div.sk-estimator {font-family: monospace;background-color: #f0f8ff;border: 1px dotted black;border-radius: 0.25em;box-sizing: border-box;margin-bottom: 0.5em;}#sk-container-id-11 div.sk-estimator:hover {background-color: #d4ebff;}#sk-container-id-11 div.sk-parallel-item::after {content: \"\";width: 100%;border-bottom: 1px solid gray;flex-grow: 1;}#sk-container-id-11 div.sk-label:hover label.sk-toggleable__label {background-color: #d4ebff;}#sk-container-id-11 div.sk-serial::before {content: \"\";position: absolute;border-left: 1px solid gray;box-sizing: border-box;top: 0;bottom: 0;left: 50%;z-index: 0;}#sk-container-id-11 div.sk-serial {display: flex;flex-direction: column;align-items: center;background-color: white;padding-right: 0.2em;padding-left: 0.2em;position: relative;}#sk-container-id-11 div.sk-item {position: relative;z-index: 1;}#sk-container-id-11 div.sk-parallel {display: flex;align-items: stretch;justify-content: center;background-color: white;position: relative;}#sk-container-id-11 div.sk-item::before, #sk-container-id-11 div.sk-parallel-item::before {content: \"\";position: absolute;border-left: 1px solid gray;box-sizing: border-box;top: 0;bottom: 0;left: 50%;z-index: -1;}#sk-container-id-11 div.sk-parallel-item {display: flex;flex-direction: column;z-index: 1;position: relative;background-color: white;}#sk-container-id-11 div.sk-parallel-item:first-child::after {align-self: flex-end;width: 50%;}#sk-container-id-11 div.sk-parallel-item:last-child::after {align-self: flex-start;width: 50%;}#sk-container-id-11 div.sk-parallel-item:only-child::after {width: 0;}#sk-container-id-11 div.sk-dashed-wrapped {border: 1px dashed gray;margin: 0 0.4em 0.5em 0.4em;box-sizing: border-box;padding-bottom: 0.4em;background-color: white;}#sk-container-id-11 div.sk-label label {font-family: monospace;font-weight: bold;display: inline-block;line-height: 1.2em;}#sk-container-id-11 div.sk-label-container {text-align: center;}#sk-container-id-11 div.sk-container {/* jupyter's `normalize.less` sets `[hidden] { display: none; }` but bootstrap.min.css set `[hidden] { display: none !important; }` so we also need the `!important` here to be able to override the default hidden behavior on the sphinx rendered scikit-learn.org. See: https://github.com/scikit-learn/scikit-learn/issues/21755 */display: inline-block !important;position: relative;}#sk-container-id-11 div.sk-text-repr-fallback {display: none;}</style><div id=\"sk-container-id-11\" class=\"sk-top-container\"><div class=\"sk-text-repr-fallback\"><pre>GridSearchCV(cv=10,\n",
       "             estimator=Pipeline(steps=[(&#x27;vectorizer&#x27;, CountVectorizer()),\n",
       "                                       (&#x27;classifier&#x27;, MultinomialNB())]),\n",
       "             param_grid=[{&#x27;classifier&#x27;: [MultinomialNB(alpha=0.5)],\n",
       "                          &#x27;classifier__alpha&#x27;: [0.1, 0.5],\n",
       "                          &#x27;vectorizer&#x27;: [CountVectorizer(max_df=0.7,\n",
       "                                                         max_features=10000,\n",
       "                                                         min_df=3,\n",
       "                                                         ngram_range=(1, 2))],\n",
       "                          &#x27;vectorizer__max_df&#x27;: [0.7, 0.9],\n",
       "                          &#x27;vectorizer__max_features&#x27;: [10000, 30000],\n",
       "                          &#x27;vectorizer__min_df&#x27;: [1, 2, 3],\n",
       "                          &#x27;vectorizer__ngram_range&#x27;: [(1, 1), (1, 2)]}],\n",
       "             scoring=&#x27;f1_macro&#x27;)</pre><b>In a Jupyter environment, please rerun this cell to show the HTML representation or trust the notebook. <br />On GitHub, the HTML representation is unable to render, please try loading this page with nbviewer.org.</b></div><div class=\"sk-container\" hidden><div class=\"sk-item sk-dashed-wrapped\"><div class=\"sk-label-container\"><div class=\"sk-label sk-toggleable\"><input class=\"sk-toggleable__control sk-hidden--visually\" id=\"sk-estimator-id-41\" type=\"checkbox\" ><label for=\"sk-estimator-id-41\" class=\"sk-toggleable__label sk-toggleable__label-arrow\">GridSearchCV</label><div class=\"sk-toggleable__content\"><pre>GridSearchCV(cv=10,\n",
       "             estimator=Pipeline(steps=[(&#x27;vectorizer&#x27;, CountVectorizer()),\n",
       "                                       (&#x27;classifier&#x27;, MultinomialNB())]),\n",
       "             param_grid=[{&#x27;classifier&#x27;: [MultinomialNB(alpha=0.5)],\n",
       "                          &#x27;classifier__alpha&#x27;: [0.1, 0.5],\n",
       "                          &#x27;vectorizer&#x27;: [CountVectorizer(max_df=0.7,\n",
       "                                                         max_features=10000,\n",
       "                                                         min_df=3,\n",
       "                                                         ngram_range=(1, 2))],\n",
       "                          &#x27;vectorizer__max_df&#x27;: [0.7, 0.9],\n",
       "                          &#x27;vectorizer__max_features&#x27;: [10000, 30000],\n",
       "                          &#x27;vectorizer__min_df&#x27;: [1, 2, 3],\n",
       "                          &#x27;vectorizer__ngram_range&#x27;: [(1, 1), (1, 2)]}],\n",
       "             scoring=&#x27;f1_macro&#x27;)</pre></div></div></div><div class=\"sk-parallel\"><div class=\"sk-parallel-item\"><div class=\"sk-item\"><div class=\"sk-label-container\"><div class=\"sk-label sk-toggleable\"><input class=\"sk-toggleable__control sk-hidden--visually\" id=\"sk-estimator-id-42\" type=\"checkbox\" ><label for=\"sk-estimator-id-42\" class=\"sk-toggleable__label sk-toggleable__label-arrow\">estimator: Pipeline</label><div class=\"sk-toggleable__content\"><pre>Pipeline(steps=[(&#x27;vectorizer&#x27;, CountVectorizer()),\n",
       "                (&#x27;classifier&#x27;, MultinomialNB())])</pre></div></div></div><div class=\"sk-serial\"><div class=\"sk-item\"><div class=\"sk-serial\"><div class=\"sk-item\"><div class=\"sk-estimator sk-toggleable\"><input class=\"sk-toggleable__control sk-hidden--visually\" id=\"sk-estimator-id-43\" type=\"checkbox\" ><label for=\"sk-estimator-id-43\" class=\"sk-toggleable__label sk-toggleable__label-arrow\">CountVectorizer</label><div class=\"sk-toggleable__content\"><pre>CountVectorizer()</pre></div></div></div><div class=\"sk-item\"><div class=\"sk-estimator sk-toggleable\"><input class=\"sk-toggleable__control sk-hidden--visually\" id=\"sk-estimator-id-44\" type=\"checkbox\" ><label for=\"sk-estimator-id-44\" class=\"sk-toggleable__label sk-toggleable__label-arrow\">MultinomialNB</label><div class=\"sk-toggleable__content\"><pre>MultinomialNB()</pre></div></div></div></div></div></div></div></div></div></div></div></div>"
      ],
      "text/plain": [
       "GridSearchCV(cv=10,\n",
       "             estimator=Pipeline(steps=[('vectorizer', CountVectorizer()),\n",
       "                                       ('classifier', MultinomialNB())]),\n",
       "             param_grid=[{'classifier': [MultinomialNB(alpha=0.5)],\n",
       "                          'classifier__alpha': [0.1, 0.5],\n",
       "                          'vectorizer': [CountVectorizer(max_df=0.7,\n",
       "                                                         max_features=10000,\n",
       "                                                         min_df=3,\n",
       "                                                         ngram_range=(1, 2))],\n",
       "                          'vectorizer__max_df': [0.7, 0.9],\n",
       "                          'vectorizer__max_features': [10000, 30000],\n",
       "                          'vectorizer__min_df': [1, 2, 3],\n",
       "                          'vectorizer__ngram_range': [(1, 1), (1, 2)]}],\n",
       "             scoring='f1_macro')"
      ]
     },
     "execution_count": 62,
     "metadata": {},
     "output_type": "execute_result"
    },
    {
     "name": "stdout",
     "output_type": "stream",
     "text": [
      "{'classifier': MultinomialNB(alpha=0.5), 'classifier__alpha': 0.5, 'vectorizer': CountVectorizer(max_df=0.7, max_features=10000, min_df=3, ngram_range=(1, 2)), 'vectorizer__max_df': 0.7, 'vectorizer__max_features': 10000, 'vectorizer__min_df': 3, 'vectorizer__ngram_range': (1, 2)}\n",
      "0.7036388457099891\n"
     ]
    }
   ],
   "source": [
    "# Define pipeline\n",
    "pipeline_train = Pipeline([\n",
    "    ('vectorizer', CountVectorizer()),\n",
    "    ('classifier', MultinomialNB())\n",
    "])\n",
    "\n",
    "# Define parameter grid for grid search\n",
    "param_grid = [\n",
    "    {\n",
    "        'vectorizer': [CountVectorizer()],\n",
    "        'vectorizer__max_features': [10_000, 30_000],\n",
    "        'vectorizer__ngram_range': [(1,1), (1,2)],\n",
    "        'vectorizer__min_df': [1, 2, 3],\n",
    "        'vectorizer__max_df': [0.7, 0.9],\n",
    "        'classifier': [MultinomialNB()],\n",
    "        'classifier__alpha': [0.1, 0.5]\n",
    "    }\n",
    "]\n",
    "\n",
    "# Perform grid search\n",
    "grid_search = GridSearchCV(pipeline_train, param_grid=param_grid, scoring='f1_macro', cv=10)\n",
    "grid_search.fit(df_train_tokenized['story'], df_train_tokenized['gender'])\n",
    "\n",
    "# Print best parameter combination and corresponding score\n",
    "print(grid_search.best_params_)\n",
    "print(grid_search.best_score_)"
   ]
  },
  {
   "attachments": {},
   "cell_type": "markdown",
   "metadata": {},
   "source": [
    "### Test 4 Results:\n",
    "* Average_f1 ≈ 0.703\n",
    "* Run-Time ≈ 4 minutes\n",
    "\n",
    "We managed to raise the <code>Average_f1</code> to approximately 0.7 while keeping the <code>Run-Time</code> at approximately 4 min!!!</br>\n",
    "I believe that at this point, we can't improve the <code>Average_f1</code> without reaching a significantly larger <code>Run-Time</code>,</br>\n",
    "therefore, it might be best to stop at this point and move to the next (Vectorizer, Model)."
   ]
  },
  {
   "attachments": {},
   "cell_type": "markdown",
   "metadata": {},
   "source": [
    "## Step 2.1.1: MultinomialNB and CountVectorizer - Conclusions:\n",
    "\n",
    "| Test no.              | Average_f1 | Run-Time(minutes) |\n",
    "|-----------------------|------------|-------------------|\n",
    "| 1                     | 0.677      | 2                 |  \n",
    "| 2                     | 0.681      | 2.50              |\n",
    "| 3                     | 0.695      | 4                 | \n",
    "| <code>4</code>        | 0.703      | 4                 |\n",
    "\n",
    "</br>"
   ]
  },
  {
   "attachments": {},
   "cell_type": "markdown",
   "metadata": {},
   "source": [
    "## Step 2.1.2: MultinomialNB and TfidfVectorizer - Testing:"
   ]
  },
  {
   "attachments": {},
   "cell_type": "markdown",
   "metadata": {},
   "source": [
    "### Test 1:"
   ]
  },
  {
   "cell_type": "code",
   "execution_count": 64,
   "metadata": {},
   "outputs": [
    {
     "data": {
      "text/html": [
       "<style>#sk-container-id-13 {color: black;background-color: white;}#sk-container-id-13 pre{padding: 0;}#sk-container-id-13 div.sk-toggleable {background-color: white;}#sk-container-id-13 label.sk-toggleable__label {cursor: pointer;display: block;width: 100%;margin-bottom: 0;padding: 0.3em;box-sizing: border-box;text-align: center;}#sk-container-id-13 label.sk-toggleable__label-arrow:before {content: \"▸\";float: left;margin-right: 0.25em;color: #696969;}#sk-container-id-13 label.sk-toggleable__label-arrow:hover:before {color: black;}#sk-container-id-13 div.sk-estimator:hover label.sk-toggleable__label-arrow:before {color: black;}#sk-container-id-13 div.sk-toggleable__content {max-height: 0;max-width: 0;overflow: hidden;text-align: left;background-color: #f0f8ff;}#sk-container-id-13 div.sk-toggleable__content pre {margin: 0.2em;color: black;border-radius: 0.25em;background-color: #f0f8ff;}#sk-container-id-13 input.sk-toggleable__control:checked~div.sk-toggleable__content {max-height: 200px;max-width: 100%;overflow: auto;}#sk-container-id-13 input.sk-toggleable__control:checked~label.sk-toggleable__label-arrow:before {content: \"▾\";}#sk-container-id-13 div.sk-estimator input.sk-toggleable__control:checked~label.sk-toggleable__label {background-color: #d4ebff;}#sk-container-id-13 div.sk-label input.sk-toggleable__control:checked~label.sk-toggleable__label {background-color: #d4ebff;}#sk-container-id-13 input.sk-hidden--visually {border: 0;clip: rect(1px 1px 1px 1px);clip: rect(1px, 1px, 1px, 1px);height: 1px;margin: -1px;overflow: hidden;padding: 0;position: absolute;width: 1px;}#sk-container-id-13 div.sk-estimator {font-family: monospace;background-color: #f0f8ff;border: 1px dotted black;border-radius: 0.25em;box-sizing: border-box;margin-bottom: 0.5em;}#sk-container-id-13 div.sk-estimator:hover {background-color: #d4ebff;}#sk-container-id-13 div.sk-parallel-item::after {content: \"\";width: 100%;border-bottom: 1px solid gray;flex-grow: 1;}#sk-container-id-13 div.sk-label:hover label.sk-toggleable__label {background-color: #d4ebff;}#sk-container-id-13 div.sk-serial::before {content: \"\";position: absolute;border-left: 1px solid gray;box-sizing: border-box;top: 0;bottom: 0;left: 50%;z-index: 0;}#sk-container-id-13 div.sk-serial {display: flex;flex-direction: column;align-items: center;background-color: white;padding-right: 0.2em;padding-left: 0.2em;position: relative;}#sk-container-id-13 div.sk-item {position: relative;z-index: 1;}#sk-container-id-13 div.sk-parallel {display: flex;align-items: stretch;justify-content: center;background-color: white;position: relative;}#sk-container-id-13 div.sk-item::before, #sk-container-id-13 div.sk-parallel-item::before {content: \"\";position: absolute;border-left: 1px solid gray;box-sizing: border-box;top: 0;bottom: 0;left: 50%;z-index: -1;}#sk-container-id-13 div.sk-parallel-item {display: flex;flex-direction: column;z-index: 1;position: relative;background-color: white;}#sk-container-id-13 div.sk-parallel-item:first-child::after {align-self: flex-end;width: 50%;}#sk-container-id-13 div.sk-parallel-item:last-child::after {align-self: flex-start;width: 50%;}#sk-container-id-13 div.sk-parallel-item:only-child::after {width: 0;}#sk-container-id-13 div.sk-dashed-wrapped {border: 1px dashed gray;margin: 0 0.4em 0.5em 0.4em;box-sizing: border-box;padding-bottom: 0.4em;background-color: white;}#sk-container-id-13 div.sk-label label {font-family: monospace;font-weight: bold;display: inline-block;line-height: 1.2em;}#sk-container-id-13 div.sk-label-container {text-align: center;}#sk-container-id-13 div.sk-container {/* jupyter's `normalize.less` sets `[hidden] { display: none; }` but bootstrap.min.css set `[hidden] { display: none !important; }` so we also need the `!important` here to be able to override the default hidden behavior on the sphinx rendered scikit-learn.org. See: https://github.com/scikit-learn/scikit-learn/issues/21755 */display: inline-block !important;position: relative;}#sk-container-id-13 div.sk-text-repr-fallback {display: none;}</style><div id=\"sk-container-id-13\" class=\"sk-top-container\"><div class=\"sk-text-repr-fallback\"><pre>GridSearchCV(cv=5,\n",
       "             estimator=Pipeline(steps=[(&#x27;vectorizer&#x27;, TfidfVectorizer()),\n",
       "                                       (&#x27;classifier&#x27;, MultinomialNB())]),\n",
       "             param_grid=[{&#x27;classifier&#x27;: [MultinomialNB(alpha=0.1)],\n",
       "                          &#x27;classifier__alpha&#x27;: [0.1, 0.5, 1, 5],\n",
       "                          &#x27;vectorizer&#x27;: [TfidfVectorizer(max_features=10000,\n",
       "                                                         min_df=3,\n",
       "                                                         ngram_range=(1, 2))],\n",
       "                          &#x27;vectorizer__max_features&#x27;: [10000, 30000],\n",
       "                          &#x27;vectorizer__min_df&#x27;: [1, 2, 3],\n",
       "                          &#x27;vectorizer__ngram_range&#x27;: [(1, 1), (1, 2)],\n",
       "                          &#x27;vectorizer__norm&#x27;: [&#x27;l1&#x27;, &#x27;l2&#x27;]}],\n",
       "             scoring=&#x27;f1_macro&#x27;)</pre><b>In a Jupyter environment, please rerun this cell to show the HTML representation or trust the notebook. <br />On GitHub, the HTML representation is unable to render, please try loading this page with nbviewer.org.</b></div><div class=\"sk-container\" hidden><div class=\"sk-item sk-dashed-wrapped\"><div class=\"sk-label-container\"><div class=\"sk-label sk-toggleable\"><input class=\"sk-toggleable__control sk-hidden--visually\" id=\"sk-estimator-id-49\" type=\"checkbox\" ><label for=\"sk-estimator-id-49\" class=\"sk-toggleable__label sk-toggleable__label-arrow\">GridSearchCV</label><div class=\"sk-toggleable__content\"><pre>GridSearchCV(cv=5,\n",
       "             estimator=Pipeline(steps=[(&#x27;vectorizer&#x27;, TfidfVectorizer()),\n",
       "                                       (&#x27;classifier&#x27;, MultinomialNB())]),\n",
       "             param_grid=[{&#x27;classifier&#x27;: [MultinomialNB(alpha=0.1)],\n",
       "                          &#x27;classifier__alpha&#x27;: [0.1, 0.5, 1, 5],\n",
       "                          &#x27;vectorizer&#x27;: [TfidfVectorizer(max_features=10000,\n",
       "                                                         min_df=3,\n",
       "                                                         ngram_range=(1, 2))],\n",
       "                          &#x27;vectorizer__max_features&#x27;: [10000, 30000],\n",
       "                          &#x27;vectorizer__min_df&#x27;: [1, 2, 3],\n",
       "                          &#x27;vectorizer__ngram_range&#x27;: [(1, 1), (1, 2)],\n",
       "                          &#x27;vectorizer__norm&#x27;: [&#x27;l1&#x27;, &#x27;l2&#x27;]}],\n",
       "             scoring=&#x27;f1_macro&#x27;)</pre></div></div></div><div class=\"sk-parallel\"><div class=\"sk-parallel-item\"><div class=\"sk-item\"><div class=\"sk-label-container\"><div class=\"sk-label sk-toggleable\"><input class=\"sk-toggleable__control sk-hidden--visually\" id=\"sk-estimator-id-50\" type=\"checkbox\" ><label for=\"sk-estimator-id-50\" class=\"sk-toggleable__label sk-toggleable__label-arrow\">estimator: Pipeline</label><div class=\"sk-toggleable__content\"><pre>Pipeline(steps=[(&#x27;vectorizer&#x27;, TfidfVectorizer()),\n",
       "                (&#x27;classifier&#x27;, MultinomialNB())])</pre></div></div></div><div class=\"sk-serial\"><div class=\"sk-item\"><div class=\"sk-serial\"><div class=\"sk-item\"><div class=\"sk-estimator sk-toggleable\"><input class=\"sk-toggleable__control sk-hidden--visually\" id=\"sk-estimator-id-51\" type=\"checkbox\" ><label for=\"sk-estimator-id-51\" class=\"sk-toggleable__label sk-toggleable__label-arrow\">TfidfVectorizer</label><div class=\"sk-toggleable__content\"><pre>TfidfVectorizer()</pre></div></div></div><div class=\"sk-item\"><div class=\"sk-estimator sk-toggleable\"><input class=\"sk-toggleable__control sk-hidden--visually\" id=\"sk-estimator-id-52\" type=\"checkbox\" ><label for=\"sk-estimator-id-52\" class=\"sk-toggleable__label sk-toggleable__label-arrow\">MultinomialNB</label><div class=\"sk-toggleable__content\"><pre>MultinomialNB()</pre></div></div></div></div></div></div></div></div></div></div></div></div>"
      ],
      "text/plain": [
       "GridSearchCV(cv=5,\n",
       "             estimator=Pipeline(steps=[('vectorizer', TfidfVectorizer()),\n",
       "                                       ('classifier', MultinomialNB())]),\n",
       "             param_grid=[{'classifier': [MultinomialNB(alpha=0.1)],\n",
       "                          'classifier__alpha': [0.1, 0.5, 1, 5],\n",
       "                          'vectorizer': [TfidfVectorizer(max_features=10000,\n",
       "                                                         min_df=3,\n",
       "                                                         ngram_range=(1, 2))],\n",
       "                          'vectorizer__max_features': [10000, 30000],\n",
       "                          'vectorizer__min_df': [1, 2, 3],\n",
       "                          'vectorizer__ngram_range': [(1, 1), (1, 2)],\n",
       "                          'vectorizer__norm': ['l1', 'l2']}],\n",
       "             scoring='f1_macro')"
      ]
     },
     "execution_count": 64,
     "metadata": {},
     "output_type": "execute_result"
    },
    {
     "name": "stdout",
     "output_type": "stream",
     "text": [
      "{'classifier': MultinomialNB(alpha=0.1), 'classifier__alpha': 0.1, 'vectorizer': TfidfVectorizer(max_features=10000, min_df=3, ngram_range=(1, 2)), 'vectorizer__max_features': 10000, 'vectorizer__min_df': 3, 'vectorizer__ngram_range': (1, 2), 'vectorizer__norm': 'l2'}\n",
      "0.5124751507957711\n"
     ]
    }
   ],
   "source": [
    "# Define pipeline\n",
    "pipeline_train = Pipeline([\n",
    "    ('vectorizer', TfidfVectorizer()),\n",
    "    ('classifier', MultinomialNB())\n",
    "])\n",
    "\n",
    "# Define parameter grid for grid search\n",
    "param_grid = [\n",
    "    {\n",
    "        'vectorizer': [TfidfVectorizer()],\n",
    "        'vectorizer__max_features': [10_000, 30_000],\n",
    "        'vectorizer__ngram_range': [(1,1), (1,2)],\n",
    "        'vectorizer__norm': ['l1', 'l2'],\n",
    "        'vectorizer__min_df': [1, 2, 3],\n",
    "        'classifier': [MultinomialNB()],\n",
    "        'classifier__alpha': [0.1, 0.5, 1, 5]\n",
    "    }\n",
    "]\n",
    "\n",
    "# Perform grid search\n",
    "grid_search = GridSearchCV(pipeline_train, param_grid=param_grid, scoring='f1_macro', cv=5)\n",
    "grid_search.fit(df_train_tokenized['story'], df_train_tokenized['gender'])\n",
    "\n",
    "# Print best parameter combination and corresponding score\n",
    "print(grid_search.best_params_)\n",
    "print(grid_search.best_score_)"
   ]
  },
  {
   "attachments": {},
   "cell_type": "markdown",
   "metadata": {},
   "source": [
    "### Test 1 Results:\n",
    "* Average_f1 ≈ 0.512\n",
    "* Run-Time ≈ 4 minutes\n",
    "\n",
    "Compared to the CountVectorizer, seems like we unfortunately got really bad results, both in Average_f1 and Run-Time.</br>\n",
    "We'll try a different approach, changing both the <code>cv value</code> and the <code>hyperparameters values</code> and hope for a better result..."
   ]
  },
  {
   "attachments": {},
   "cell_type": "markdown",
   "metadata": {},
   "source": [
    "### Test 2:"
   ]
  },
  {
   "cell_type": "code",
   "execution_count": 65,
   "metadata": {},
   "outputs": [
    {
     "data": {
      "text/html": [
       "<style>#sk-container-id-14 {color: black;background-color: white;}#sk-container-id-14 pre{padding: 0;}#sk-container-id-14 div.sk-toggleable {background-color: white;}#sk-container-id-14 label.sk-toggleable__label {cursor: pointer;display: block;width: 100%;margin-bottom: 0;padding: 0.3em;box-sizing: border-box;text-align: center;}#sk-container-id-14 label.sk-toggleable__label-arrow:before {content: \"▸\";float: left;margin-right: 0.25em;color: #696969;}#sk-container-id-14 label.sk-toggleable__label-arrow:hover:before {color: black;}#sk-container-id-14 div.sk-estimator:hover label.sk-toggleable__label-arrow:before {color: black;}#sk-container-id-14 div.sk-toggleable__content {max-height: 0;max-width: 0;overflow: hidden;text-align: left;background-color: #f0f8ff;}#sk-container-id-14 div.sk-toggleable__content pre {margin: 0.2em;color: black;border-radius: 0.25em;background-color: #f0f8ff;}#sk-container-id-14 input.sk-toggleable__control:checked~div.sk-toggleable__content {max-height: 200px;max-width: 100%;overflow: auto;}#sk-container-id-14 input.sk-toggleable__control:checked~label.sk-toggleable__label-arrow:before {content: \"▾\";}#sk-container-id-14 div.sk-estimator input.sk-toggleable__control:checked~label.sk-toggleable__label {background-color: #d4ebff;}#sk-container-id-14 div.sk-label input.sk-toggleable__control:checked~label.sk-toggleable__label {background-color: #d4ebff;}#sk-container-id-14 input.sk-hidden--visually {border: 0;clip: rect(1px 1px 1px 1px);clip: rect(1px, 1px, 1px, 1px);height: 1px;margin: -1px;overflow: hidden;padding: 0;position: absolute;width: 1px;}#sk-container-id-14 div.sk-estimator {font-family: monospace;background-color: #f0f8ff;border: 1px dotted black;border-radius: 0.25em;box-sizing: border-box;margin-bottom: 0.5em;}#sk-container-id-14 div.sk-estimator:hover {background-color: #d4ebff;}#sk-container-id-14 div.sk-parallel-item::after {content: \"\";width: 100%;border-bottom: 1px solid gray;flex-grow: 1;}#sk-container-id-14 div.sk-label:hover label.sk-toggleable__label {background-color: #d4ebff;}#sk-container-id-14 div.sk-serial::before {content: \"\";position: absolute;border-left: 1px solid gray;box-sizing: border-box;top: 0;bottom: 0;left: 50%;z-index: 0;}#sk-container-id-14 div.sk-serial {display: flex;flex-direction: column;align-items: center;background-color: white;padding-right: 0.2em;padding-left: 0.2em;position: relative;}#sk-container-id-14 div.sk-item {position: relative;z-index: 1;}#sk-container-id-14 div.sk-parallel {display: flex;align-items: stretch;justify-content: center;background-color: white;position: relative;}#sk-container-id-14 div.sk-item::before, #sk-container-id-14 div.sk-parallel-item::before {content: \"\";position: absolute;border-left: 1px solid gray;box-sizing: border-box;top: 0;bottom: 0;left: 50%;z-index: -1;}#sk-container-id-14 div.sk-parallel-item {display: flex;flex-direction: column;z-index: 1;position: relative;background-color: white;}#sk-container-id-14 div.sk-parallel-item:first-child::after {align-self: flex-end;width: 50%;}#sk-container-id-14 div.sk-parallel-item:last-child::after {align-self: flex-start;width: 50%;}#sk-container-id-14 div.sk-parallel-item:only-child::after {width: 0;}#sk-container-id-14 div.sk-dashed-wrapped {border: 1px dashed gray;margin: 0 0.4em 0.5em 0.4em;box-sizing: border-box;padding-bottom: 0.4em;background-color: white;}#sk-container-id-14 div.sk-label label {font-family: monospace;font-weight: bold;display: inline-block;line-height: 1.2em;}#sk-container-id-14 div.sk-label-container {text-align: center;}#sk-container-id-14 div.sk-container {/* jupyter's `normalize.less` sets `[hidden] { display: none; }` but bootstrap.min.css set `[hidden] { display: none !important; }` so we also need the `!important` here to be able to override the default hidden behavior on the sphinx rendered scikit-learn.org. See: https://github.com/scikit-learn/scikit-learn/issues/21755 */display: inline-block !important;position: relative;}#sk-container-id-14 div.sk-text-repr-fallback {display: none;}</style><div id=\"sk-container-id-14\" class=\"sk-top-container\"><div class=\"sk-text-repr-fallback\"><pre>GridSearchCV(cv=10,\n",
       "             estimator=Pipeline(steps=[(&#x27;vectorizer&#x27;, TfidfVectorizer()),\n",
       "                                       (&#x27;classifier&#x27;, MultinomialNB())]),\n",
       "             param_grid=[{&#x27;classifier&#x27;: [MultinomialNB(alpha=0.1)],\n",
       "                          &#x27;classifier__alpha&#x27;: [0.1, 0.3, 0.7],\n",
       "                          &#x27;vectorizer&#x27;: [TfidfVectorizer(max_features=10000,\n",
       "                                                         min_df=3,\n",
       "                                                         ngram_range=(1, 2))],\n",
       "                          &#x27;vectorizer__max_features&#x27;: [10000, 30000],\n",
       "                          &#x27;vectorizer__min_df&#x27;: [1, 3, 5],\n",
       "                          &#x27;vectorizer__ngram_range&#x27;: [(1, 1), (1, 2)],\n",
       "                          &#x27;vectorizer__norm&#x27;: [&#x27;l1&#x27;, &#x27;l2&#x27;]}],\n",
       "             scoring=&#x27;f1_macro&#x27;)</pre><b>In a Jupyter environment, please rerun this cell to show the HTML representation or trust the notebook. <br />On GitHub, the HTML representation is unable to render, please try loading this page with nbviewer.org.</b></div><div class=\"sk-container\" hidden><div class=\"sk-item sk-dashed-wrapped\"><div class=\"sk-label-container\"><div class=\"sk-label sk-toggleable\"><input class=\"sk-toggleable__control sk-hidden--visually\" id=\"sk-estimator-id-53\" type=\"checkbox\" ><label for=\"sk-estimator-id-53\" class=\"sk-toggleable__label sk-toggleable__label-arrow\">GridSearchCV</label><div class=\"sk-toggleable__content\"><pre>GridSearchCV(cv=10,\n",
       "             estimator=Pipeline(steps=[(&#x27;vectorizer&#x27;, TfidfVectorizer()),\n",
       "                                       (&#x27;classifier&#x27;, MultinomialNB())]),\n",
       "             param_grid=[{&#x27;classifier&#x27;: [MultinomialNB(alpha=0.1)],\n",
       "                          &#x27;classifier__alpha&#x27;: [0.1, 0.3, 0.7],\n",
       "                          &#x27;vectorizer&#x27;: [TfidfVectorizer(max_features=10000,\n",
       "                                                         min_df=3,\n",
       "                                                         ngram_range=(1, 2))],\n",
       "                          &#x27;vectorizer__max_features&#x27;: [10000, 30000],\n",
       "                          &#x27;vectorizer__min_df&#x27;: [1, 3, 5],\n",
       "                          &#x27;vectorizer__ngram_range&#x27;: [(1, 1), (1, 2)],\n",
       "                          &#x27;vectorizer__norm&#x27;: [&#x27;l1&#x27;, &#x27;l2&#x27;]}],\n",
       "             scoring=&#x27;f1_macro&#x27;)</pre></div></div></div><div class=\"sk-parallel\"><div class=\"sk-parallel-item\"><div class=\"sk-item\"><div class=\"sk-label-container\"><div class=\"sk-label sk-toggleable\"><input class=\"sk-toggleable__control sk-hidden--visually\" id=\"sk-estimator-id-54\" type=\"checkbox\" ><label for=\"sk-estimator-id-54\" class=\"sk-toggleable__label sk-toggleable__label-arrow\">estimator: Pipeline</label><div class=\"sk-toggleable__content\"><pre>Pipeline(steps=[(&#x27;vectorizer&#x27;, TfidfVectorizer()),\n",
       "                (&#x27;classifier&#x27;, MultinomialNB())])</pre></div></div></div><div class=\"sk-serial\"><div class=\"sk-item\"><div class=\"sk-serial\"><div class=\"sk-item\"><div class=\"sk-estimator sk-toggleable\"><input class=\"sk-toggleable__control sk-hidden--visually\" id=\"sk-estimator-id-55\" type=\"checkbox\" ><label for=\"sk-estimator-id-55\" class=\"sk-toggleable__label sk-toggleable__label-arrow\">TfidfVectorizer</label><div class=\"sk-toggleable__content\"><pre>TfidfVectorizer()</pre></div></div></div><div class=\"sk-item\"><div class=\"sk-estimator sk-toggleable\"><input class=\"sk-toggleable__control sk-hidden--visually\" id=\"sk-estimator-id-56\" type=\"checkbox\" ><label for=\"sk-estimator-id-56\" class=\"sk-toggleable__label sk-toggleable__label-arrow\">MultinomialNB</label><div class=\"sk-toggleable__content\"><pre>MultinomialNB()</pre></div></div></div></div></div></div></div></div></div></div></div></div>"
      ],
      "text/plain": [
       "GridSearchCV(cv=10,\n",
       "             estimator=Pipeline(steps=[('vectorizer', TfidfVectorizer()),\n",
       "                                       ('classifier', MultinomialNB())]),\n",
       "             param_grid=[{'classifier': [MultinomialNB(alpha=0.1)],\n",
       "                          'classifier__alpha': [0.1, 0.3, 0.7],\n",
       "                          'vectorizer': [TfidfVectorizer(max_features=10000,\n",
       "                                                         min_df=3,\n",
       "                                                         ngram_range=(1, 2))],\n",
       "                          'vectorizer__max_features': [10000, 30000],\n",
       "                          'vectorizer__min_df': [1, 3, 5],\n",
       "                          'vectorizer__ngram_range': [(1, 1), (1, 2)],\n",
       "                          'vectorizer__norm': ['l1', 'l2']}],\n",
       "             scoring='f1_macro')"
      ]
     },
     "execution_count": 65,
     "metadata": {},
     "output_type": "execute_result"
    },
    {
     "name": "stdout",
     "output_type": "stream",
     "text": [
      "{'classifier': MultinomialNB(alpha=0.1), 'classifier__alpha': 0.1, 'vectorizer': TfidfVectorizer(max_features=10000, min_df=3, ngram_range=(1, 2)), 'vectorizer__max_features': 10000, 'vectorizer__min_df': 3, 'vectorizer__ngram_range': (1, 2), 'vectorizer__norm': 'l2'}\n",
      "0.5256647948249\n"
     ]
    }
   ],
   "source": [
    "# Define pipeline\n",
    "pipeline_train = Pipeline([\n",
    "    ('vectorizer', TfidfVectorizer()),\n",
    "    ('classifier', MultinomialNB())\n",
    "])\n",
    "\n",
    "# Define parameter grid for grid search\n",
    "param_grid = [\n",
    "    {\n",
    "        'vectorizer': [TfidfVectorizer()],\n",
    "        'vectorizer__max_features': [10_000, 30_000],\n",
    "        'vectorizer__ngram_range': [(1,1), (1,2)],\n",
    "        'vectorizer__norm': ['l1', 'l2'],\n",
    "        'vectorizer__min_df': [1, 3, 5],\n",
    "        'classifier': [MultinomialNB()],\n",
    "        'classifier__alpha': [0.1, 0.3, 0.7]\n",
    "    }\n",
    "]\n",
    "\n",
    "# Perform grid search\n",
    "grid_search = GridSearchCV(pipeline_train, param_grid=param_grid, scoring='f1_macro', cv=10)\n",
    "grid_search.fit(df_train_tokenized['story'], df_train_tokenized['gender'])\n",
    "\n",
    "# Print best parameter combination and corresponding score\n",
    "print(grid_search.best_params_)\n",
    "print(grid_search.best_score_)"
   ]
  },
  {
   "attachments": {},
   "cell_type": "markdown",
   "metadata": {},
   "source": [
    "### Test 2 Results:\n",
    "* Average_f1 ≈ 0.525\n",
    "* Run-Time ≈ 6 minutes\n",
    "\n",
    "Once again unfortunately we got really bad results, both in Average_f1 and Run-Time, therefore we move on to the next model...</br>"
   ]
  },
  {
   "attachments": {},
   "cell_type": "markdown",
   "metadata": {},
   "source": [
    "## Step 2.1.2: MultinomialNB and TfidfVectorizer - Conclusion:\n",
    "\n",
    "| Test no.              | Average_f1 | Run-Time(minutes) |\n",
    "|-----------------------|------------|-------------------|\n",
    "| 1                     | 0.512      | 4                 |  \n",
    "| 2                     | 0.525      | 6                 |\n",
    "\n",
    "</br>"
   ]
  },
  {
   "attachments": {},
   "cell_type": "markdown",
   "metadata": {},
   "source": [
    "# <u>Step 2.1: MultinomialNB - Conclusion:</u>\n",
    "\n",
    "| Vectorizer                                | Best Average_f1 | Run-Time(minutes) |\n",
    "|-------------------------------------------|-----------------|-------------------|\n",
    "| <code>**CountVectorizer**</code>          | 0.703           | 4                 |  \n",
    "| TfidfVectorizer                           | 0.525           | 6                 |\n",
    "\n",
    "</br></br>"
   ]
  },
  {
   "attachments": {},
   "cell_type": "markdown",
   "metadata": {},
   "source": [
    "# <u>Step 2.2: LinearSVC - Testing:</u>"
   ]
  },
  {
   "attachments": {},
   "cell_type": "markdown",
   "metadata": {},
   "source": [
    "## Step 2.2.1: LinearSVC and CountVectorizer - Testing:"
   ]
  },
  {
   "attachments": {},
   "cell_type": "markdown",
   "metadata": {},
   "source": [
    "### Test 1:"
   ]
  },
  {
   "cell_type": "code",
   "execution_count": 66,
   "metadata": {},
   "outputs": [
    {
     "data": {
      "text/html": [
       "<style>#sk-container-id-15 {color: black;background-color: white;}#sk-container-id-15 pre{padding: 0;}#sk-container-id-15 div.sk-toggleable {background-color: white;}#sk-container-id-15 label.sk-toggleable__label {cursor: pointer;display: block;width: 100%;margin-bottom: 0;padding: 0.3em;box-sizing: border-box;text-align: center;}#sk-container-id-15 label.sk-toggleable__label-arrow:before {content: \"▸\";float: left;margin-right: 0.25em;color: #696969;}#sk-container-id-15 label.sk-toggleable__label-arrow:hover:before {color: black;}#sk-container-id-15 div.sk-estimator:hover label.sk-toggleable__label-arrow:before {color: black;}#sk-container-id-15 div.sk-toggleable__content {max-height: 0;max-width: 0;overflow: hidden;text-align: left;background-color: #f0f8ff;}#sk-container-id-15 div.sk-toggleable__content pre {margin: 0.2em;color: black;border-radius: 0.25em;background-color: #f0f8ff;}#sk-container-id-15 input.sk-toggleable__control:checked~div.sk-toggleable__content {max-height: 200px;max-width: 100%;overflow: auto;}#sk-container-id-15 input.sk-toggleable__control:checked~label.sk-toggleable__label-arrow:before {content: \"▾\";}#sk-container-id-15 div.sk-estimator input.sk-toggleable__control:checked~label.sk-toggleable__label {background-color: #d4ebff;}#sk-container-id-15 div.sk-label input.sk-toggleable__control:checked~label.sk-toggleable__label {background-color: #d4ebff;}#sk-container-id-15 input.sk-hidden--visually {border: 0;clip: rect(1px 1px 1px 1px);clip: rect(1px, 1px, 1px, 1px);height: 1px;margin: -1px;overflow: hidden;padding: 0;position: absolute;width: 1px;}#sk-container-id-15 div.sk-estimator {font-family: monospace;background-color: #f0f8ff;border: 1px dotted black;border-radius: 0.25em;box-sizing: border-box;margin-bottom: 0.5em;}#sk-container-id-15 div.sk-estimator:hover {background-color: #d4ebff;}#sk-container-id-15 div.sk-parallel-item::after {content: \"\";width: 100%;border-bottom: 1px solid gray;flex-grow: 1;}#sk-container-id-15 div.sk-label:hover label.sk-toggleable__label {background-color: #d4ebff;}#sk-container-id-15 div.sk-serial::before {content: \"\";position: absolute;border-left: 1px solid gray;box-sizing: border-box;top: 0;bottom: 0;left: 50%;z-index: 0;}#sk-container-id-15 div.sk-serial {display: flex;flex-direction: column;align-items: center;background-color: white;padding-right: 0.2em;padding-left: 0.2em;position: relative;}#sk-container-id-15 div.sk-item {position: relative;z-index: 1;}#sk-container-id-15 div.sk-parallel {display: flex;align-items: stretch;justify-content: center;background-color: white;position: relative;}#sk-container-id-15 div.sk-item::before, #sk-container-id-15 div.sk-parallel-item::before {content: \"\";position: absolute;border-left: 1px solid gray;box-sizing: border-box;top: 0;bottom: 0;left: 50%;z-index: -1;}#sk-container-id-15 div.sk-parallel-item {display: flex;flex-direction: column;z-index: 1;position: relative;background-color: white;}#sk-container-id-15 div.sk-parallel-item:first-child::after {align-self: flex-end;width: 50%;}#sk-container-id-15 div.sk-parallel-item:last-child::after {align-self: flex-start;width: 50%;}#sk-container-id-15 div.sk-parallel-item:only-child::after {width: 0;}#sk-container-id-15 div.sk-dashed-wrapped {border: 1px dashed gray;margin: 0 0.4em 0.5em 0.4em;box-sizing: border-box;padding-bottom: 0.4em;background-color: white;}#sk-container-id-15 div.sk-label label {font-family: monospace;font-weight: bold;display: inline-block;line-height: 1.2em;}#sk-container-id-15 div.sk-label-container {text-align: center;}#sk-container-id-15 div.sk-container {/* jupyter's `normalize.less` sets `[hidden] { display: none; }` but bootstrap.min.css set `[hidden] { display: none !important; }` so we also need the `!important` here to be able to override the default hidden behavior on the sphinx rendered scikit-learn.org. See: https://github.com/scikit-learn/scikit-learn/issues/21755 */display: inline-block !important;position: relative;}#sk-container-id-15 div.sk-text-repr-fallback {display: none;}</style><div id=\"sk-container-id-15\" class=\"sk-top-container\"><div class=\"sk-text-repr-fallback\"><pre>GridSearchCV(cv=5,\n",
       "             estimator=Pipeline(steps=[(&#x27;vectorizer&#x27;, CountVectorizer()),\n",
       "                                       (&#x27;classifier&#x27;, LinearSVC())]),\n",
       "             param_grid=[{&#x27;classifier&#x27;: [LinearSVC(C=50, loss=&#x27;hinge&#x27;)],\n",
       "                          &#x27;classifier__C&#x27;: [0.1, 1, 10, 50],\n",
       "                          &#x27;classifier__loss&#x27;: [&#x27;hinge&#x27;, &#x27;squared_hinge&#x27;],\n",
       "                          &#x27;classifier__penalty&#x27;: [&#x27;l1&#x27;, &#x27;l2&#x27;],\n",
       "                          &#x27;vectorizer&#x27;: [CountVectorizer(max_features=30000)],\n",
       "                          &#x27;vectorizer__max_features&#x27;: [10000, 30000],\n",
       "                          &#x27;vectorizer__min_df&#x27;: [1, 3],\n",
       "                          &#x27;vectorizer__ngram_range&#x27;: [(1, 1), (1, 2)]}],\n",
       "             scoring=&#x27;f1_macro&#x27;)</pre><b>In a Jupyter environment, please rerun this cell to show the HTML representation or trust the notebook. <br />On GitHub, the HTML representation is unable to render, please try loading this page with nbviewer.org.</b></div><div class=\"sk-container\" hidden><div class=\"sk-item sk-dashed-wrapped\"><div class=\"sk-label-container\"><div class=\"sk-label sk-toggleable\"><input class=\"sk-toggleable__control sk-hidden--visually\" id=\"sk-estimator-id-57\" type=\"checkbox\" ><label for=\"sk-estimator-id-57\" class=\"sk-toggleable__label sk-toggleable__label-arrow\">GridSearchCV</label><div class=\"sk-toggleable__content\"><pre>GridSearchCV(cv=5,\n",
       "             estimator=Pipeline(steps=[(&#x27;vectorizer&#x27;, CountVectorizer()),\n",
       "                                       (&#x27;classifier&#x27;, LinearSVC())]),\n",
       "             param_grid=[{&#x27;classifier&#x27;: [LinearSVC(C=50, loss=&#x27;hinge&#x27;)],\n",
       "                          &#x27;classifier__C&#x27;: [0.1, 1, 10, 50],\n",
       "                          &#x27;classifier__loss&#x27;: [&#x27;hinge&#x27;, &#x27;squared_hinge&#x27;],\n",
       "                          &#x27;classifier__penalty&#x27;: [&#x27;l1&#x27;, &#x27;l2&#x27;],\n",
       "                          &#x27;vectorizer&#x27;: [CountVectorizer(max_features=30000)],\n",
       "                          &#x27;vectorizer__max_features&#x27;: [10000, 30000],\n",
       "                          &#x27;vectorizer__min_df&#x27;: [1, 3],\n",
       "                          &#x27;vectorizer__ngram_range&#x27;: [(1, 1), (1, 2)]}],\n",
       "             scoring=&#x27;f1_macro&#x27;)</pre></div></div></div><div class=\"sk-parallel\"><div class=\"sk-parallel-item\"><div class=\"sk-item\"><div class=\"sk-label-container\"><div class=\"sk-label sk-toggleable\"><input class=\"sk-toggleable__control sk-hidden--visually\" id=\"sk-estimator-id-58\" type=\"checkbox\" ><label for=\"sk-estimator-id-58\" class=\"sk-toggleable__label sk-toggleable__label-arrow\">estimator: Pipeline</label><div class=\"sk-toggleable__content\"><pre>Pipeline(steps=[(&#x27;vectorizer&#x27;, CountVectorizer()), (&#x27;classifier&#x27;, LinearSVC())])</pre></div></div></div><div class=\"sk-serial\"><div class=\"sk-item\"><div class=\"sk-serial\"><div class=\"sk-item\"><div class=\"sk-estimator sk-toggleable\"><input class=\"sk-toggleable__control sk-hidden--visually\" id=\"sk-estimator-id-59\" type=\"checkbox\" ><label for=\"sk-estimator-id-59\" class=\"sk-toggleable__label sk-toggleable__label-arrow\">CountVectorizer</label><div class=\"sk-toggleable__content\"><pre>CountVectorizer()</pre></div></div></div><div class=\"sk-item\"><div class=\"sk-estimator sk-toggleable\"><input class=\"sk-toggleable__control sk-hidden--visually\" id=\"sk-estimator-id-60\" type=\"checkbox\" ><label for=\"sk-estimator-id-60\" class=\"sk-toggleable__label sk-toggleable__label-arrow\">LinearSVC</label><div class=\"sk-toggleable__content\"><pre>LinearSVC()</pre></div></div></div></div></div></div></div></div></div></div></div></div>"
      ],
      "text/plain": [
       "GridSearchCV(cv=5,\n",
       "             estimator=Pipeline(steps=[('vectorizer', CountVectorizer()),\n",
       "                                       ('classifier', LinearSVC())]),\n",
       "             param_grid=[{'classifier': [LinearSVC(C=50, loss='hinge')],\n",
       "                          'classifier__C': [0.1, 1, 10, 50],\n",
       "                          'classifier__loss': ['hinge', 'squared_hinge'],\n",
       "                          'classifier__penalty': ['l1', 'l2'],\n",
       "                          'vectorizer': [CountVectorizer(max_features=30000)],\n",
       "                          'vectorizer__max_features': [10000, 30000],\n",
       "                          'vectorizer__min_df': [1, 3],\n",
       "                          'vectorizer__ngram_range': [(1, 1), (1, 2)]}],\n",
       "             scoring='f1_macro')"
      ]
     },
     "execution_count": 66,
     "metadata": {},
     "output_type": "execute_result"
    },
    {
     "name": "stdout",
     "output_type": "stream",
     "text": [
      "{'classifier': LinearSVC(C=50, loss='hinge'), 'classifier__C': 50, 'classifier__loss': 'hinge', 'classifier__penalty': 'l2', 'vectorizer': CountVectorizer(max_features=30000), 'vectorizer__max_features': 30000, 'vectorizer__min_df': 1, 'vectorizer__ngram_range': (1, 1)}\n",
      "0.6926338323467011\n"
     ]
    }
   ],
   "source": [
    "# Define pipeline\n",
    "pipeline_train = Pipeline([\n",
    "    ('vectorizer', CountVectorizer()),\n",
    "    ('classifier', LinearSVC())\n",
    "])\n",
    "\n",
    "# Define parameter grid for grid search\n",
    "param_grid = [\n",
    "    {\n",
    "        'vectorizer': [CountVectorizer()],\n",
    "        'vectorizer__max_features': [10_000, 30_000],\n",
    "        'vectorizer__ngram_range': [(1,1), (1,2)],\n",
    "        'vectorizer__min_df': [1, 3],\n",
    "        'classifier': [LinearSVC()],\n",
    "        'classifier__C': [0.1, 1, 10, 50],\n",
    "        'classifier__penalty': ['l1', 'l2'],\n",
    "        'classifier__loss': ['hinge', 'squared_hinge']\n",
    "    }\n",
    "]\n",
    "\n",
    "# Perform grid search\n",
    "grid_search = GridSearchCV(pipeline_train, param_grid=param_grid, scoring='f1_macro', cv=5)\n",
    "grid_search.fit(df_train_tokenized['story'], df_train_tokenized['gender'])\n",
    "\n",
    "# Print best parameter combination and corresponding score\n",
    "print(grid_search.best_params_)\n",
    "print(grid_search.best_score_)"
   ]
  },
  {
   "attachments": {},
   "cell_type": "markdown",
   "metadata": {},
   "source": [
    "### Test 1 Results:\n",
    "* Average_f1 ≈ 0.693\n",
    "* Run-Time ≈ 5.40 minutes\n",
    "\n",
    "Wow! Compared to <code>MultinomialNB-CountVectorizer</code> first tests, LinearSVC performs extraordinary well, nearly beating <code>MultinomialNB-CountVectorizer fourh test!</code></br>\n",
    "However, LinearSVC seems to take a bit more time... therefore we need to be careful not to increase it to much.</br>\n",
    "Let's see what happens if we increase the <code>cv value</code> to 7 and remove some of the values in hyperparameters in order to stay around 5 minutes <code>Run-time</code>."
   ]
  },
  {
   "attachments": {},
   "cell_type": "markdown",
   "metadata": {},
   "source": [
    "### Test 2:"
   ]
  },
  {
   "cell_type": "code",
   "execution_count": 68,
   "metadata": {},
   "outputs": [
    {
     "data": {
      "text/html": [
       "<style>#sk-container-id-16 {color: black;background-color: white;}#sk-container-id-16 pre{padding: 0;}#sk-container-id-16 div.sk-toggleable {background-color: white;}#sk-container-id-16 label.sk-toggleable__label {cursor: pointer;display: block;width: 100%;margin-bottom: 0;padding: 0.3em;box-sizing: border-box;text-align: center;}#sk-container-id-16 label.sk-toggleable__label-arrow:before {content: \"▸\";float: left;margin-right: 0.25em;color: #696969;}#sk-container-id-16 label.sk-toggleable__label-arrow:hover:before {color: black;}#sk-container-id-16 div.sk-estimator:hover label.sk-toggleable__label-arrow:before {color: black;}#sk-container-id-16 div.sk-toggleable__content {max-height: 0;max-width: 0;overflow: hidden;text-align: left;background-color: #f0f8ff;}#sk-container-id-16 div.sk-toggleable__content pre {margin: 0.2em;color: black;border-radius: 0.25em;background-color: #f0f8ff;}#sk-container-id-16 input.sk-toggleable__control:checked~div.sk-toggleable__content {max-height: 200px;max-width: 100%;overflow: auto;}#sk-container-id-16 input.sk-toggleable__control:checked~label.sk-toggleable__label-arrow:before {content: \"▾\";}#sk-container-id-16 div.sk-estimator input.sk-toggleable__control:checked~label.sk-toggleable__label {background-color: #d4ebff;}#sk-container-id-16 div.sk-label input.sk-toggleable__control:checked~label.sk-toggleable__label {background-color: #d4ebff;}#sk-container-id-16 input.sk-hidden--visually {border: 0;clip: rect(1px 1px 1px 1px);clip: rect(1px, 1px, 1px, 1px);height: 1px;margin: -1px;overflow: hidden;padding: 0;position: absolute;width: 1px;}#sk-container-id-16 div.sk-estimator {font-family: monospace;background-color: #f0f8ff;border: 1px dotted black;border-radius: 0.25em;box-sizing: border-box;margin-bottom: 0.5em;}#sk-container-id-16 div.sk-estimator:hover {background-color: #d4ebff;}#sk-container-id-16 div.sk-parallel-item::after {content: \"\";width: 100%;border-bottom: 1px solid gray;flex-grow: 1;}#sk-container-id-16 div.sk-label:hover label.sk-toggleable__label {background-color: #d4ebff;}#sk-container-id-16 div.sk-serial::before {content: \"\";position: absolute;border-left: 1px solid gray;box-sizing: border-box;top: 0;bottom: 0;left: 50%;z-index: 0;}#sk-container-id-16 div.sk-serial {display: flex;flex-direction: column;align-items: center;background-color: white;padding-right: 0.2em;padding-left: 0.2em;position: relative;}#sk-container-id-16 div.sk-item {position: relative;z-index: 1;}#sk-container-id-16 div.sk-parallel {display: flex;align-items: stretch;justify-content: center;background-color: white;position: relative;}#sk-container-id-16 div.sk-item::before, #sk-container-id-16 div.sk-parallel-item::before {content: \"\";position: absolute;border-left: 1px solid gray;box-sizing: border-box;top: 0;bottom: 0;left: 50%;z-index: -1;}#sk-container-id-16 div.sk-parallel-item {display: flex;flex-direction: column;z-index: 1;position: relative;background-color: white;}#sk-container-id-16 div.sk-parallel-item:first-child::after {align-self: flex-end;width: 50%;}#sk-container-id-16 div.sk-parallel-item:last-child::after {align-self: flex-start;width: 50%;}#sk-container-id-16 div.sk-parallel-item:only-child::after {width: 0;}#sk-container-id-16 div.sk-dashed-wrapped {border: 1px dashed gray;margin: 0 0.4em 0.5em 0.4em;box-sizing: border-box;padding-bottom: 0.4em;background-color: white;}#sk-container-id-16 div.sk-label label {font-family: monospace;font-weight: bold;display: inline-block;line-height: 1.2em;}#sk-container-id-16 div.sk-label-container {text-align: center;}#sk-container-id-16 div.sk-container {/* jupyter's `normalize.less` sets `[hidden] { display: none; }` but bootstrap.min.css set `[hidden] { display: none !important; }` so we also need the `!important` here to be able to override the default hidden behavior on the sphinx rendered scikit-learn.org. See: https://github.com/scikit-learn/scikit-learn/issues/21755 */display: inline-block !important;position: relative;}#sk-container-id-16 div.sk-text-repr-fallback {display: none;}</style><div id=\"sk-container-id-16\" class=\"sk-top-container\"><div class=\"sk-text-repr-fallback\"><pre>GridSearchCV(cv=7,\n",
       "             estimator=Pipeline(steps=[(&#x27;vectorizer&#x27;, CountVectorizer()),\n",
       "                                       (&#x27;classifier&#x27;, LinearSVC())]),\n",
       "             param_grid=[{&#x27;classifier&#x27;: [LinearSVC(C=1, loss=&#x27;hinge&#x27;)],\n",
       "                          &#x27;classifier__C&#x27;: [1, 10, 50],\n",
       "                          &#x27;classifier__loss&#x27;: [&#x27;hinge&#x27;, &#x27;squared_hinge&#x27;],\n",
       "                          &#x27;classifier__penalty&#x27;: [&#x27;l2&#x27;],\n",
       "                          &#x27;vectorizer&#x27;: [CountVectorizer(max_features=10000,\n",
       "                                                         min_df=3,\n",
       "                                                         ngram_range=(1, 2))],\n",
       "                          &#x27;vectorizer__max_features&#x27;: [10000, 30000],\n",
       "                          &#x27;vectorizer__min_df&#x27;: [1, 3],\n",
       "                          &#x27;vectorizer__ngram_range&#x27;: [(1, 1), (1, 2)]}],\n",
       "             scoring=&#x27;f1_macro&#x27;)</pre><b>In a Jupyter environment, please rerun this cell to show the HTML representation or trust the notebook. <br />On GitHub, the HTML representation is unable to render, please try loading this page with nbviewer.org.</b></div><div class=\"sk-container\" hidden><div class=\"sk-item sk-dashed-wrapped\"><div class=\"sk-label-container\"><div class=\"sk-label sk-toggleable\"><input class=\"sk-toggleable__control sk-hidden--visually\" id=\"sk-estimator-id-61\" type=\"checkbox\" ><label for=\"sk-estimator-id-61\" class=\"sk-toggleable__label sk-toggleable__label-arrow\">GridSearchCV</label><div class=\"sk-toggleable__content\"><pre>GridSearchCV(cv=7,\n",
       "             estimator=Pipeline(steps=[(&#x27;vectorizer&#x27;, CountVectorizer()),\n",
       "                                       (&#x27;classifier&#x27;, LinearSVC())]),\n",
       "             param_grid=[{&#x27;classifier&#x27;: [LinearSVC(C=1, loss=&#x27;hinge&#x27;)],\n",
       "                          &#x27;classifier__C&#x27;: [1, 10, 50],\n",
       "                          &#x27;classifier__loss&#x27;: [&#x27;hinge&#x27;, &#x27;squared_hinge&#x27;],\n",
       "                          &#x27;classifier__penalty&#x27;: [&#x27;l2&#x27;],\n",
       "                          &#x27;vectorizer&#x27;: [CountVectorizer(max_features=10000,\n",
       "                                                         min_df=3,\n",
       "                                                         ngram_range=(1, 2))],\n",
       "                          &#x27;vectorizer__max_features&#x27;: [10000, 30000],\n",
       "                          &#x27;vectorizer__min_df&#x27;: [1, 3],\n",
       "                          &#x27;vectorizer__ngram_range&#x27;: [(1, 1), (1, 2)]}],\n",
       "             scoring=&#x27;f1_macro&#x27;)</pre></div></div></div><div class=\"sk-parallel\"><div class=\"sk-parallel-item\"><div class=\"sk-item\"><div class=\"sk-label-container\"><div class=\"sk-label sk-toggleable\"><input class=\"sk-toggleable__control sk-hidden--visually\" id=\"sk-estimator-id-62\" type=\"checkbox\" ><label for=\"sk-estimator-id-62\" class=\"sk-toggleable__label sk-toggleable__label-arrow\">estimator: Pipeline</label><div class=\"sk-toggleable__content\"><pre>Pipeline(steps=[(&#x27;vectorizer&#x27;, CountVectorizer()), (&#x27;classifier&#x27;, LinearSVC())])</pre></div></div></div><div class=\"sk-serial\"><div class=\"sk-item\"><div class=\"sk-serial\"><div class=\"sk-item\"><div class=\"sk-estimator sk-toggleable\"><input class=\"sk-toggleable__control sk-hidden--visually\" id=\"sk-estimator-id-63\" type=\"checkbox\" ><label for=\"sk-estimator-id-63\" class=\"sk-toggleable__label sk-toggleable__label-arrow\">CountVectorizer</label><div class=\"sk-toggleable__content\"><pre>CountVectorizer()</pre></div></div></div><div class=\"sk-item\"><div class=\"sk-estimator sk-toggleable\"><input class=\"sk-toggleable__control sk-hidden--visually\" id=\"sk-estimator-id-64\" type=\"checkbox\" ><label for=\"sk-estimator-id-64\" class=\"sk-toggleable__label sk-toggleable__label-arrow\">LinearSVC</label><div class=\"sk-toggleable__content\"><pre>LinearSVC()</pre></div></div></div></div></div></div></div></div></div></div></div></div>"
      ],
      "text/plain": [
       "GridSearchCV(cv=7,\n",
       "             estimator=Pipeline(steps=[('vectorizer', CountVectorizer()),\n",
       "                                       ('classifier', LinearSVC())]),\n",
       "             param_grid=[{'classifier': [LinearSVC(C=1, loss='hinge')],\n",
       "                          'classifier__C': [1, 10, 50],\n",
       "                          'classifier__loss': ['hinge', 'squared_hinge'],\n",
       "                          'classifier__penalty': ['l2'],\n",
       "                          'vectorizer': [CountVectorizer(max_features=10000,\n",
       "                                                         min_df=3,\n",
       "                                                         ngram_range=(1, 2))],\n",
       "                          'vectorizer__max_features': [10000, 30000],\n",
       "                          'vectorizer__min_df': [1, 3],\n",
       "                          'vectorizer__ngram_range': [(1, 1), (1, 2)]}],\n",
       "             scoring='f1_macro')"
      ]
     },
     "execution_count": 68,
     "metadata": {},
     "output_type": "execute_result"
    },
    {
     "name": "stdout",
     "output_type": "stream",
     "text": [
      "{'classifier': LinearSVC(C=1, loss='hinge'), 'classifier__C': 1, 'classifier__loss': 'hinge', 'classifier__penalty': 'l2', 'vectorizer': CountVectorizer(max_features=10000, min_df=3, ngram_range=(1, 2)), 'vectorizer__max_features': 10000, 'vectorizer__min_df': 3, 'vectorizer__ngram_range': (1, 2)}\n",
      "0.6916455235929575\n"
     ]
    }
   ],
   "source": [
    "# Define pipeline\n",
    "pipeline_train = Pipeline([\n",
    "    ('vectorizer', CountVectorizer()),\n",
    "    ('classifier', LinearSVC())\n",
    "])\n",
    "\n",
    "# Define parameter grid for grid search\n",
    "param_grid = [\n",
    "    {\n",
    "        'vectorizer': [CountVectorizer()],\n",
    "        'vectorizer__max_features': [10_000, 30_000],\n",
    "        'vectorizer__ngram_range': [(1,1), (1,2)],\n",
    "        'vectorizer__min_df': [1, 3],\n",
    "        'classifier': [LinearSVC()],\n",
    "        'classifier__C': [1, 10, 50],\n",
    "        'classifier__penalty': ['l2'],\n",
    "        'classifier__loss': ['hinge', 'squared_hinge']\n",
    "    }\n",
    "]\n",
    "\n",
    "# Perform grid search\n",
    "grid_search = GridSearchCV(pipeline_train, param_grid=param_grid, scoring='f1_macro', cv=7)\n",
    "grid_search.fit(df_train_tokenized['story'], df_train_tokenized['gender'])\n",
    "\n",
    "# Print best parameter combination and corresponding score\n",
    "print(grid_search.best_params_)\n",
    "print(grid_search.best_score_)"
   ]
  },
  {
   "attachments": {},
   "cell_type": "markdown",
   "metadata": {},
   "source": [
    "### Test 2 Results:\n",
    "* Average_f1 ≈ 0.691\n",
    "* Run-Time ≈ 3 minutes\n",
    "\n",
    "Alright, we managed to save up to 2 minutes this time, but got slightly worse <code>Average_f1</code> compared to the first test...</br>\n",
    "Might be due to the lack of <code>max_df</code>.\n",
    "Let's add it in the third test!"
   ]
  },
  {
   "attachments": {},
   "cell_type": "markdown",
   "metadata": {},
   "source": [
    "### Test 3:"
   ]
  },
  {
   "cell_type": "code",
   "execution_count": 69,
   "metadata": {},
   "outputs": [
    {
     "data": {
      "text/html": [
       "<style>#sk-container-id-17 {color: black;background-color: white;}#sk-container-id-17 pre{padding: 0;}#sk-container-id-17 div.sk-toggleable {background-color: white;}#sk-container-id-17 label.sk-toggleable__label {cursor: pointer;display: block;width: 100%;margin-bottom: 0;padding: 0.3em;box-sizing: border-box;text-align: center;}#sk-container-id-17 label.sk-toggleable__label-arrow:before {content: \"▸\";float: left;margin-right: 0.25em;color: #696969;}#sk-container-id-17 label.sk-toggleable__label-arrow:hover:before {color: black;}#sk-container-id-17 div.sk-estimator:hover label.sk-toggleable__label-arrow:before {color: black;}#sk-container-id-17 div.sk-toggleable__content {max-height: 0;max-width: 0;overflow: hidden;text-align: left;background-color: #f0f8ff;}#sk-container-id-17 div.sk-toggleable__content pre {margin: 0.2em;color: black;border-radius: 0.25em;background-color: #f0f8ff;}#sk-container-id-17 input.sk-toggleable__control:checked~div.sk-toggleable__content {max-height: 200px;max-width: 100%;overflow: auto;}#sk-container-id-17 input.sk-toggleable__control:checked~label.sk-toggleable__label-arrow:before {content: \"▾\";}#sk-container-id-17 div.sk-estimator input.sk-toggleable__control:checked~label.sk-toggleable__label {background-color: #d4ebff;}#sk-container-id-17 div.sk-label input.sk-toggleable__control:checked~label.sk-toggleable__label {background-color: #d4ebff;}#sk-container-id-17 input.sk-hidden--visually {border: 0;clip: rect(1px 1px 1px 1px);clip: rect(1px, 1px, 1px, 1px);height: 1px;margin: -1px;overflow: hidden;padding: 0;position: absolute;width: 1px;}#sk-container-id-17 div.sk-estimator {font-family: monospace;background-color: #f0f8ff;border: 1px dotted black;border-radius: 0.25em;box-sizing: border-box;margin-bottom: 0.5em;}#sk-container-id-17 div.sk-estimator:hover {background-color: #d4ebff;}#sk-container-id-17 div.sk-parallel-item::after {content: \"\";width: 100%;border-bottom: 1px solid gray;flex-grow: 1;}#sk-container-id-17 div.sk-label:hover label.sk-toggleable__label {background-color: #d4ebff;}#sk-container-id-17 div.sk-serial::before {content: \"\";position: absolute;border-left: 1px solid gray;box-sizing: border-box;top: 0;bottom: 0;left: 50%;z-index: 0;}#sk-container-id-17 div.sk-serial {display: flex;flex-direction: column;align-items: center;background-color: white;padding-right: 0.2em;padding-left: 0.2em;position: relative;}#sk-container-id-17 div.sk-item {position: relative;z-index: 1;}#sk-container-id-17 div.sk-parallel {display: flex;align-items: stretch;justify-content: center;background-color: white;position: relative;}#sk-container-id-17 div.sk-item::before, #sk-container-id-17 div.sk-parallel-item::before {content: \"\";position: absolute;border-left: 1px solid gray;box-sizing: border-box;top: 0;bottom: 0;left: 50%;z-index: -1;}#sk-container-id-17 div.sk-parallel-item {display: flex;flex-direction: column;z-index: 1;position: relative;background-color: white;}#sk-container-id-17 div.sk-parallel-item:first-child::after {align-self: flex-end;width: 50%;}#sk-container-id-17 div.sk-parallel-item:last-child::after {align-self: flex-start;width: 50%;}#sk-container-id-17 div.sk-parallel-item:only-child::after {width: 0;}#sk-container-id-17 div.sk-dashed-wrapped {border: 1px dashed gray;margin: 0 0.4em 0.5em 0.4em;box-sizing: border-box;padding-bottom: 0.4em;background-color: white;}#sk-container-id-17 div.sk-label label {font-family: monospace;font-weight: bold;display: inline-block;line-height: 1.2em;}#sk-container-id-17 div.sk-label-container {text-align: center;}#sk-container-id-17 div.sk-container {/* jupyter's `normalize.less` sets `[hidden] { display: none; }` but bootstrap.min.css set `[hidden] { display: none !important; }` so we also need the `!important` here to be able to override the default hidden behavior on the sphinx rendered scikit-learn.org. See: https://github.com/scikit-learn/scikit-learn/issues/21755 */display: inline-block !important;position: relative;}#sk-container-id-17 div.sk-text-repr-fallback {display: none;}</style><div id=\"sk-container-id-17\" class=\"sk-top-container\"><div class=\"sk-text-repr-fallback\"><pre>GridSearchCV(cv=7,\n",
       "             estimator=Pipeline(steps=[(&#x27;vectorizer&#x27;, CountVectorizer()),\n",
       "                                       (&#x27;classifier&#x27;, LinearSVC())]),\n",
       "             param_grid=[{&#x27;classifier&#x27;: [LinearSVC(C=10)],\n",
       "                          &#x27;classifier__C&#x27;: [1, 10, 50],\n",
       "                          &#x27;classifier__loss&#x27;: [&#x27;hinge&#x27;, &#x27;squared_hinge&#x27;],\n",
       "                          &#x27;classifier__penalty&#x27;: [&#x27;l2&#x27;],\n",
       "                          &#x27;vectorizer&#x27;: [CountVectorizer(max_df=0.9,\n",
       "                                                         max_features=30000,\n",
       "                                                         min_df=3,\n",
       "                                                         ngram_range=(1, 2))],\n",
       "                          &#x27;vectorizer__max_df&#x27;: [0.7, 0.9],\n",
       "                          &#x27;vectorizer__max_features&#x27;: [10000, 30000],\n",
       "                          &#x27;vectorizer__min_df&#x27;: [1, 3],\n",
       "                          &#x27;vectorizer__ngram_range&#x27;: [(1, 1), (1, 2)]}],\n",
       "             scoring=&#x27;f1_macro&#x27;)</pre><b>In a Jupyter environment, please rerun this cell to show the HTML representation or trust the notebook. <br />On GitHub, the HTML representation is unable to render, please try loading this page with nbviewer.org.</b></div><div class=\"sk-container\" hidden><div class=\"sk-item sk-dashed-wrapped\"><div class=\"sk-label-container\"><div class=\"sk-label sk-toggleable\"><input class=\"sk-toggleable__control sk-hidden--visually\" id=\"sk-estimator-id-65\" type=\"checkbox\" ><label for=\"sk-estimator-id-65\" class=\"sk-toggleable__label sk-toggleable__label-arrow\">GridSearchCV</label><div class=\"sk-toggleable__content\"><pre>GridSearchCV(cv=7,\n",
       "             estimator=Pipeline(steps=[(&#x27;vectorizer&#x27;, CountVectorizer()),\n",
       "                                       (&#x27;classifier&#x27;, LinearSVC())]),\n",
       "             param_grid=[{&#x27;classifier&#x27;: [LinearSVC(C=10)],\n",
       "                          &#x27;classifier__C&#x27;: [1, 10, 50],\n",
       "                          &#x27;classifier__loss&#x27;: [&#x27;hinge&#x27;, &#x27;squared_hinge&#x27;],\n",
       "                          &#x27;classifier__penalty&#x27;: [&#x27;l2&#x27;],\n",
       "                          &#x27;vectorizer&#x27;: [CountVectorizer(max_df=0.9,\n",
       "                                                         max_features=30000,\n",
       "                                                         min_df=3,\n",
       "                                                         ngram_range=(1, 2))],\n",
       "                          &#x27;vectorizer__max_df&#x27;: [0.7, 0.9],\n",
       "                          &#x27;vectorizer__max_features&#x27;: [10000, 30000],\n",
       "                          &#x27;vectorizer__min_df&#x27;: [1, 3],\n",
       "                          &#x27;vectorizer__ngram_range&#x27;: [(1, 1), (1, 2)]}],\n",
       "             scoring=&#x27;f1_macro&#x27;)</pre></div></div></div><div class=\"sk-parallel\"><div class=\"sk-parallel-item\"><div class=\"sk-item\"><div class=\"sk-label-container\"><div class=\"sk-label sk-toggleable\"><input class=\"sk-toggleable__control sk-hidden--visually\" id=\"sk-estimator-id-66\" type=\"checkbox\" ><label for=\"sk-estimator-id-66\" class=\"sk-toggleable__label sk-toggleable__label-arrow\">estimator: Pipeline</label><div class=\"sk-toggleable__content\"><pre>Pipeline(steps=[(&#x27;vectorizer&#x27;, CountVectorizer()), (&#x27;classifier&#x27;, LinearSVC())])</pre></div></div></div><div class=\"sk-serial\"><div class=\"sk-item\"><div class=\"sk-serial\"><div class=\"sk-item\"><div class=\"sk-estimator sk-toggleable\"><input class=\"sk-toggleable__control sk-hidden--visually\" id=\"sk-estimator-id-67\" type=\"checkbox\" ><label for=\"sk-estimator-id-67\" class=\"sk-toggleable__label sk-toggleable__label-arrow\">CountVectorizer</label><div class=\"sk-toggleable__content\"><pre>CountVectorizer()</pre></div></div></div><div class=\"sk-item\"><div class=\"sk-estimator sk-toggleable\"><input class=\"sk-toggleable__control sk-hidden--visually\" id=\"sk-estimator-id-68\" type=\"checkbox\" ><label for=\"sk-estimator-id-68\" class=\"sk-toggleable__label sk-toggleable__label-arrow\">LinearSVC</label><div class=\"sk-toggleable__content\"><pre>LinearSVC()</pre></div></div></div></div></div></div></div></div></div></div></div></div>"
      ],
      "text/plain": [
       "GridSearchCV(cv=7,\n",
       "             estimator=Pipeline(steps=[('vectorizer', CountVectorizer()),\n",
       "                                       ('classifier', LinearSVC())]),\n",
       "             param_grid=[{'classifier': [LinearSVC(C=10)],\n",
       "                          'classifier__C': [1, 10, 50],\n",
       "                          'classifier__loss': ['hinge', 'squared_hinge'],\n",
       "                          'classifier__penalty': ['l2'],\n",
       "                          'vectorizer': [CountVectorizer(max_df=0.9,\n",
       "                                                         max_features=30000,\n",
       "                                                         min_df=3,\n",
       "                                                         ngram_range=(1, 2))],\n",
       "                          'vectorizer__max_df': [0.7, 0.9],\n",
       "                          'vectorizer__max_features': [10000, 30000],\n",
       "                          'vectorizer__min_df': [1, 3],\n",
       "                          'vectorizer__ngram_range': [(1, 1), (1, 2)]}],\n",
       "             scoring='f1_macro')"
      ]
     },
     "execution_count": 69,
     "metadata": {},
     "output_type": "execute_result"
    },
    {
     "name": "stdout",
     "output_type": "stream",
     "text": [
      "{'classifier': LinearSVC(C=10), 'classifier__C': 10, 'classifier__loss': 'squared_hinge', 'classifier__penalty': 'l2', 'vectorizer': CountVectorizer(max_df=0.9, max_features=30000, min_df=3, ngram_range=(1, 2)), 'vectorizer__max_df': 0.9, 'vectorizer__max_features': 30000, 'vectorizer__min_df': 3, 'vectorizer__ngram_range': (1, 2)}\n",
      "0.6851530873882383\n"
     ]
    }
   ],
   "source": [
    "# Define pipeline\n",
    "pipeline_train = Pipeline([\n",
    "    ('vectorizer', CountVectorizer()),\n",
    "    ('classifier', LinearSVC())\n",
    "])\n",
    "\n",
    "# Define parameter grid for grid search\n",
    "param_grid = [\n",
    "    {\n",
    "        'vectorizer': [CountVectorizer()],\n",
    "        'vectorizer__max_features': [10_000, 30_000],\n",
    "        'vectorizer__ngram_range': [(1,1), (1,2)],\n",
    "        'vectorizer__min_df': [1, 3],\n",
    "        'vectorizer__max_df': [0.7, 0.9],\n",
    "        'classifier': [LinearSVC()],\n",
    "        'classifier__C': [1, 10, 50],\n",
    "        'classifier__penalty': ['l2'],\n",
    "        'classifier__loss': ['hinge', 'squared_hinge']\n",
    "    }\n",
    "]\n",
    "\n",
    "# Perform grid search\n",
    "grid_search = GridSearchCV(pipeline_train, param_grid=param_grid, scoring='f1_macro', cv=7)\n",
    "grid_search.fit(df_train_tokenized['story'], df_train_tokenized['gender'])\n",
    "\n",
    "# Print best parameter combination and corresponding score\n",
    "print(grid_search.best_params_)\n",
    "print(grid_search.best_score_)"
   ]
  },
  {
   "attachments": {},
   "cell_type": "markdown",
   "metadata": {},
   "source": [
    "### Test 3 Results:\n",
    "* Average_f1 ≈ 0.685\n",
    "* Run-Time ≈ 7 minutes\n",
    "\n",
    "mmmm.... Seems we got worse both on <code>Run-Time</code> and <code>Average_f1</code>.</br>\n",
    "Maybe bring the <code>cv value</code> back to 5...?"
   ]
  },
  {
   "attachments": {},
   "cell_type": "markdown",
   "metadata": {},
   "source": [
    "### Test 4:"
   ]
  },
  {
   "cell_type": "code",
   "execution_count": 75,
   "metadata": {},
   "outputs": [
    {
     "data": {
      "text/html": [
       "<style>#sk-container-id-23 {color: black;background-color: white;}#sk-container-id-23 pre{padding: 0;}#sk-container-id-23 div.sk-toggleable {background-color: white;}#sk-container-id-23 label.sk-toggleable__label {cursor: pointer;display: block;width: 100%;margin-bottom: 0;padding: 0.3em;box-sizing: border-box;text-align: center;}#sk-container-id-23 label.sk-toggleable__label-arrow:before {content: \"▸\";float: left;margin-right: 0.25em;color: #696969;}#sk-container-id-23 label.sk-toggleable__label-arrow:hover:before {color: black;}#sk-container-id-23 div.sk-estimator:hover label.sk-toggleable__label-arrow:before {color: black;}#sk-container-id-23 div.sk-toggleable__content {max-height: 0;max-width: 0;overflow: hidden;text-align: left;background-color: #f0f8ff;}#sk-container-id-23 div.sk-toggleable__content pre {margin: 0.2em;color: black;border-radius: 0.25em;background-color: #f0f8ff;}#sk-container-id-23 input.sk-toggleable__control:checked~div.sk-toggleable__content {max-height: 200px;max-width: 100%;overflow: auto;}#sk-container-id-23 input.sk-toggleable__control:checked~label.sk-toggleable__label-arrow:before {content: \"▾\";}#sk-container-id-23 div.sk-estimator input.sk-toggleable__control:checked~label.sk-toggleable__label {background-color: #d4ebff;}#sk-container-id-23 div.sk-label input.sk-toggleable__control:checked~label.sk-toggleable__label {background-color: #d4ebff;}#sk-container-id-23 input.sk-hidden--visually {border: 0;clip: rect(1px 1px 1px 1px);clip: rect(1px, 1px, 1px, 1px);height: 1px;margin: -1px;overflow: hidden;padding: 0;position: absolute;width: 1px;}#sk-container-id-23 div.sk-estimator {font-family: monospace;background-color: #f0f8ff;border: 1px dotted black;border-radius: 0.25em;box-sizing: border-box;margin-bottom: 0.5em;}#sk-container-id-23 div.sk-estimator:hover {background-color: #d4ebff;}#sk-container-id-23 div.sk-parallel-item::after {content: \"\";width: 100%;border-bottom: 1px solid gray;flex-grow: 1;}#sk-container-id-23 div.sk-label:hover label.sk-toggleable__label {background-color: #d4ebff;}#sk-container-id-23 div.sk-serial::before {content: \"\";position: absolute;border-left: 1px solid gray;box-sizing: border-box;top: 0;bottom: 0;left: 50%;z-index: 0;}#sk-container-id-23 div.sk-serial {display: flex;flex-direction: column;align-items: center;background-color: white;padding-right: 0.2em;padding-left: 0.2em;position: relative;}#sk-container-id-23 div.sk-item {position: relative;z-index: 1;}#sk-container-id-23 div.sk-parallel {display: flex;align-items: stretch;justify-content: center;background-color: white;position: relative;}#sk-container-id-23 div.sk-item::before, #sk-container-id-23 div.sk-parallel-item::before {content: \"\";position: absolute;border-left: 1px solid gray;box-sizing: border-box;top: 0;bottom: 0;left: 50%;z-index: -1;}#sk-container-id-23 div.sk-parallel-item {display: flex;flex-direction: column;z-index: 1;position: relative;background-color: white;}#sk-container-id-23 div.sk-parallel-item:first-child::after {align-self: flex-end;width: 50%;}#sk-container-id-23 div.sk-parallel-item:last-child::after {align-self: flex-start;width: 50%;}#sk-container-id-23 div.sk-parallel-item:only-child::after {width: 0;}#sk-container-id-23 div.sk-dashed-wrapped {border: 1px dashed gray;margin: 0 0.4em 0.5em 0.4em;box-sizing: border-box;padding-bottom: 0.4em;background-color: white;}#sk-container-id-23 div.sk-label label {font-family: monospace;font-weight: bold;display: inline-block;line-height: 1.2em;}#sk-container-id-23 div.sk-label-container {text-align: center;}#sk-container-id-23 div.sk-container {/* jupyter's `normalize.less` sets `[hidden] { display: none; }` but bootstrap.min.css set `[hidden] { display: none !important; }` so we also need the `!important` here to be able to override the default hidden behavior on the sphinx rendered scikit-learn.org. See: https://github.com/scikit-learn/scikit-learn/issues/21755 */display: inline-block !important;position: relative;}#sk-container-id-23 div.sk-text-repr-fallback {display: none;}</style><div id=\"sk-container-id-23\" class=\"sk-top-container\"><div class=\"sk-text-repr-fallback\"><pre>GridSearchCV(cv=5,\n",
       "             estimator=Pipeline(steps=[(&#x27;vectorizer&#x27;, CountVectorizer()),\n",
       "                                       (&#x27;classifier&#x27;, LinearSVC())]),\n",
       "             param_grid=[{&#x27;classifier&#x27;: [LinearSVC(C=1)],\n",
       "                          &#x27;classifier__C&#x27;: [1, 10],\n",
       "                          &#x27;classifier__loss&#x27;: [&#x27;squared_hinge&#x27;],\n",
       "                          &#x27;classifier__penalty&#x27;: [&#x27;l2&#x27;],\n",
       "                          &#x27;vectorizer&#x27;: [CountVectorizer(max_df=0.9,\n",
       "                                                         max_features=40000,\n",
       "                                                         min_df=3,\n",
       "                                                         ngram_range=(1, 2))],\n",
       "                          &#x27;vectorizer__max_df&#x27;: [0.7, 0.9],\n",
       "                          &#x27;vectorizer__max_features&#x27;: [40000, 50000],\n",
       "                          &#x27;vectorizer__min_df&#x27;: [1, 3],\n",
       "                          &#x27;vectorizer__ngram_range&#x27;: [(1, 1), (1, 2)]}],\n",
       "             scoring=&#x27;f1_macro&#x27;)</pre><b>In a Jupyter environment, please rerun this cell to show the HTML representation or trust the notebook. <br />On GitHub, the HTML representation is unable to render, please try loading this page with nbviewer.org.</b></div><div class=\"sk-container\" hidden><div class=\"sk-item sk-dashed-wrapped\"><div class=\"sk-label-container\"><div class=\"sk-label sk-toggleable\"><input class=\"sk-toggleable__control sk-hidden--visually\" id=\"sk-estimator-id-89\" type=\"checkbox\" ><label for=\"sk-estimator-id-89\" class=\"sk-toggleable__label sk-toggleable__label-arrow\">GridSearchCV</label><div class=\"sk-toggleable__content\"><pre>GridSearchCV(cv=5,\n",
       "             estimator=Pipeline(steps=[(&#x27;vectorizer&#x27;, CountVectorizer()),\n",
       "                                       (&#x27;classifier&#x27;, LinearSVC())]),\n",
       "             param_grid=[{&#x27;classifier&#x27;: [LinearSVC(C=1)],\n",
       "                          &#x27;classifier__C&#x27;: [1, 10],\n",
       "                          &#x27;classifier__loss&#x27;: [&#x27;squared_hinge&#x27;],\n",
       "                          &#x27;classifier__penalty&#x27;: [&#x27;l2&#x27;],\n",
       "                          &#x27;vectorizer&#x27;: [CountVectorizer(max_df=0.9,\n",
       "                                                         max_features=40000,\n",
       "                                                         min_df=3,\n",
       "                                                         ngram_range=(1, 2))],\n",
       "                          &#x27;vectorizer__max_df&#x27;: [0.7, 0.9],\n",
       "                          &#x27;vectorizer__max_features&#x27;: [40000, 50000],\n",
       "                          &#x27;vectorizer__min_df&#x27;: [1, 3],\n",
       "                          &#x27;vectorizer__ngram_range&#x27;: [(1, 1), (1, 2)]}],\n",
       "             scoring=&#x27;f1_macro&#x27;)</pre></div></div></div><div class=\"sk-parallel\"><div class=\"sk-parallel-item\"><div class=\"sk-item\"><div class=\"sk-label-container\"><div class=\"sk-label sk-toggleable\"><input class=\"sk-toggleable__control sk-hidden--visually\" id=\"sk-estimator-id-90\" type=\"checkbox\" ><label for=\"sk-estimator-id-90\" class=\"sk-toggleable__label sk-toggleable__label-arrow\">estimator: Pipeline</label><div class=\"sk-toggleable__content\"><pre>Pipeline(steps=[(&#x27;vectorizer&#x27;, CountVectorizer()), (&#x27;classifier&#x27;, LinearSVC())])</pre></div></div></div><div class=\"sk-serial\"><div class=\"sk-item\"><div class=\"sk-serial\"><div class=\"sk-item\"><div class=\"sk-estimator sk-toggleable\"><input class=\"sk-toggleable__control sk-hidden--visually\" id=\"sk-estimator-id-91\" type=\"checkbox\" ><label for=\"sk-estimator-id-91\" class=\"sk-toggleable__label sk-toggleable__label-arrow\">CountVectorizer</label><div class=\"sk-toggleable__content\"><pre>CountVectorizer()</pre></div></div></div><div class=\"sk-item\"><div class=\"sk-estimator sk-toggleable\"><input class=\"sk-toggleable__control sk-hidden--visually\" id=\"sk-estimator-id-92\" type=\"checkbox\" ><label for=\"sk-estimator-id-92\" class=\"sk-toggleable__label sk-toggleable__label-arrow\">LinearSVC</label><div class=\"sk-toggleable__content\"><pre>LinearSVC()</pre></div></div></div></div></div></div></div></div></div></div></div></div>"
      ],
      "text/plain": [
       "GridSearchCV(cv=5,\n",
       "             estimator=Pipeline(steps=[('vectorizer', CountVectorizer()),\n",
       "                                       ('classifier', LinearSVC())]),\n",
       "             param_grid=[{'classifier': [LinearSVC(C=1)],\n",
       "                          'classifier__C': [1, 10],\n",
       "                          'classifier__loss': ['squared_hinge'],\n",
       "                          'classifier__penalty': ['l2'],\n",
       "                          'vectorizer': [CountVectorizer(max_df=0.9,\n",
       "                                                         max_features=40000,\n",
       "                                                         min_df=3,\n",
       "                                                         ngram_range=(1, 2))],\n",
       "                          'vectorizer__max_df': [0.7, 0.9],\n",
       "                          'vectorizer__max_features': [40000, 50000],\n",
       "                          'vectorizer__min_df': [1, 3],\n",
       "                          'vectorizer__ngram_range': [(1, 1), (1, 2)]}],\n",
       "             scoring='f1_macro')"
      ]
     },
     "execution_count": 75,
     "metadata": {},
     "output_type": "execute_result"
    },
    {
     "name": "stdout",
     "output_type": "stream",
     "text": [
      "{'classifier': LinearSVC(C=1), 'classifier__C': 1, 'classifier__loss': 'squared_hinge', 'classifier__penalty': 'l2', 'vectorizer': CountVectorizer(max_df=0.9, max_features=40000, min_df=3, ngram_range=(1, 2)), 'vectorizer__max_df': 0.9, 'vectorizer__max_features': 40000, 'vectorizer__min_df': 3, 'vectorizer__ngram_range': (1, 2)}\n",
      "0.7020032247542748\n"
     ]
    }
   ],
   "source": [
    "# Define pipeline\n",
    "pipeline_train = Pipeline([\n",
    "    ('vectorizer', CountVectorizer()),\n",
    "    ('classifier', LinearSVC())\n",
    "])\n",
    "\n",
    "# Define parameter grid for grid search\n",
    "param_grid = [\n",
    "    {\n",
    "        'vectorizer': [CountVectorizer()],\n",
    "        'vectorizer__max_features': [40_000, 50_000],\n",
    "        'vectorizer__ngram_range': [(1,1), (1,2)],\n",
    "        'vectorizer__min_df': [1, 3],\n",
    "        'vectorizer__max_df': [0.7, 0.9],\n",
    "        'classifier': [LinearSVC()],\n",
    "        'classifier__C': [1, 10],\n",
    "        'classifier__penalty': ['l2'],\n",
    "        'classifier__loss': ['squared_hinge']\n",
    "    }\n",
    "]\n",
    "\n",
    "# Perform grid search\n",
    "grid_search = GridSearchCV(pipeline_train, param_grid=param_grid, scoring='f1_macro', cv=5)\n",
    "grid_search.fit(df_train_tokenized['story'], df_train_tokenized['gender'])\n",
    "\n",
    "# Print best parameter combination and corresponding score\n",
    "print(grid_search.best_params_)\n",
    "print(grid_search.best_score_)"
   ]
  },
  {
   "attachments": {},
   "cell_type": "markdown",
   "metadata": {},
   "source": [
    "### Test 4 Results:\n",
    "* Average_f1 ≈ 0.702\n",
    "* Run-Time ≈ 2 minutes\n",
    "\n",
    "Splendid! we increased <code>Average_f1</code> and reduced the <code>Run-time</code> to reasonably values!</br>\n",
    "Seems like there isn't much else to add or do but to continue to the next vectorizer tool!"
   ]
  },
  {
   "attachments": {},
   "cell_type": "markdown",
   "metadata": {},
   "source": [
    "## Step 2.2.1: LinearSVC and CountVectorizer - Conclusion:\n",
    "\n",
    "| Test no.              | Average_f1 | Run-Time(minutes) |\n",
    "|-----------------------|------------|-------------------|\n",
    "| 1                     | 0.693      | 5.40              |  \n",
    "| 2                     | 0.691      | 3                 |\n",
    "| 3                     | 0.685      | 7                 | \n",
    "| <code>4</code>        | 0.702      | 2                 |\n",
    "\n",
    "</br>"
   ]
  },
  {
   "attachments": {},
   "cell_type": "markdown",
   "metadata": {},
   "source": [
    "## Step 2.2.2: LinearSVC and TfidfVectorizer - Testing:"
   ]
  },
  {
   "attachments": {},
   "cell_type": "markdown",
   "metadata": {},
   "source": [
    "### Test 1:"
   ]
  },
  {
   "cell_type": "code",
   "execution_count": 13,
   "metadata": {},
   "outputs": [
    {
     "data": {
      "text/html": [
       "<style>#sk-container-id-1 {color: black;background-color: white;}#sk-container-id-1 pre{padding: 0;}#sk-container-id-1 div.sk-toggleable {background-color: white;}#sk-container-id-1 label.sk-toggleable__label {cursor: pointer;display: block;width: 100%;margin-bottom: 0;padding: 0.3em;box-sizing: border-box;text-align: center;}#sk-container-id-1 label.sk-toggleable__label-arrow:before {content: \"▸\";float: left;margin-right: 0.25em;color: #696969;}#sk-container-id-1 label.sk-toggleable__label-arrow:hover:before {color: black;}#sk-container-id-1 div.sk-estimator:hover label.sk-toggleable__label-arrow:before {color: black;}#sk-container-id-1 div.sk-toggleable__content {max-height: 0;max-width: 0;overflow: hidden;text-align: left;background-color: #f0f8ff;}#sk-container-id-1 div.sk-toggleable__content pre {margin: 0.2em;color: black;border-radius: 0.25em;background-color: #f0f8ff;}#sk-container-id-1 input.sk-toggleable__control:checked~div.sk-toggleable__content {max-height: 200px;max-width: 100%;overflow: auto;}#sk-container-id-1 input.sk-toggleable__control:checked~label.sk-toggleable__label-arrow:before {content: \"▾\";}#sk-container-id-1 div.sk-estimator input.sk-toggleable__control:checked~label.sk-toggleable__label {background-color: #d4ebff;}#sk-container-id-1 div.sk-label input.sk-toggleable__control:checked~label.sk-toggleable__label {background-color: #d4ebff;}#sk-container-id-1 input.sk-hidden--visually {border: 0;clip: rect(1px 1px 1px 1px);clip: rect(1px, 1px, 1px, 1px);height: 1px;margin: -1px;overflow: hidden;padding: 0;position: absolute;width: 1px;}#sk-container-id-1 div.sk-estimator {font-family: monospace;background-color: #f0f8ff;border: 1px dotted black;border-radius: 0.25em;box-sizing: border-box;margin-bottom: 0.5em;}#sk-container-id-1 div.sk-estimator:hover {background-color: #d4ebff;}#sk-container-id-1 div.sk-parallel-item::after {content: \"\";width: 100%;border-bottom: 1px solid gray;flex-grow: 1;}#sk-container-id-1 div.sk-label:hover label.sk-toggleable__label {background-color: #d4ebff;}#sk-container-id-1 div.sk-serial::before {content: \"\";position: absolute;border-left: 1px solid gray;box-sizing: border-box;top: 0;bottom: 0;left: 50%;z-index: 0;}#sk-container-id-1 div.sk-serial {display: flex;flex-direction: column;align-items: center;background-color: white;padding-right: 0.2em;padding-left: 0.2em;position: relative;}#sk-container-id-1 div.sk-item {position: relative;z-index: 1;}#sk-container-id-1 div.sk-parallel {display: flex;align-items: stretch;justify-content: center;background-color: white;position: relative;}#sk-container-id-1 div.sk-item::before, #sk-container-id-1 div.sk-parallel-item::before {content: \"\";position: absolute;border-left: 1px solid gray;box-sizing: border-box;top: 0;bottom: 0;left: 50%;z-index: -1;}#sk-container-id-1 div.sk-parallel-item {display: flex;flex-direction: column;z-index: 1;position: relative;background-color: white;}#sk-container-id-1 div.sk-parallel-item:first-child::after {align-self: flex-end;width: 50%;}#sk-container-id-1 div.sk-parallel-item:last-child::after {align-self: flex-start;width: 50%;}#sk-container-id-1 div.sk-parallel-item:only-child::after {width: 0;}#sk-container-id-1 div.sk-dashed-wrapped {border: 1px dashed gray;margin: 0 0.4em 0.5em 0.4em;box-sizing: border-box;padding-bottom: 0.4em;background-color: white;}#sk-container-id-1 div.sk-label label {font-family: monospace;font-weight: bold;display: inline-block;line-height: 1.2em;}#sk-container-id-1 div.sk-label-container {text-align: center;}#sk-container-id-1 div.sk-container {/* jupyter's `normalize.less` sets `[hidden] { display: none; }` but bootstrap.min.css set `[hidden] { display: none !important; }` so we also need the `!important` here to be able to override the default hidden behavior on the sphinx rendered scikit-learn.org. See: https://github.com/scikit-learn/scikit-learn/issues/21755 */display: inline-block !important;position: relative;}#sk-container-id-1 div.sk-text-repr-fallback {display: none;}</style><div id=\"sk-container-id-1\" class=\"sk-top-container\"><div class=\"sk-text-repr-fallback\"><pre>GridSearchCV(cv=5,\n",
       "             estimator=Pipeline(steps=[(&#x27;vectorizer&#x27;, TfidfVectorizer()),\n",
       "                                       (&#x27;classifier&#x27;, LinearSVC())]),\n",
       "             param_grid=[{&#x27;classifier&#x27;: [LinearSVC(C=50, loss=&#x27;hinge&#x27;)],\n",
       "                          &#x27;classifier__C&#x27;: [0.1, 1, 10, 50],\n",
       "                          &#x27;classifier__loss&#x27;: [&#x27;hinge&#x27;, &#x27;squared_hinge&#x27;],\n",
       "                          &#x27;classifier__penalty&#x27;: [&#x27;l1&#x27;, &#x27;l2&#x27;],\n",
       "                          &#x27;vectorizer&#x27;: [TfidfVectorizer(max_features=10000,\n",
       "                                                         ngram_range=(1, 2))],\n",
       "                          &#x27;vectorizer__max_features&#x27;: [10000, 30000],\n",
       "                          &#x27;vectorizer__min_df&#x27;: [1, 3],\n",
       "                          &#x27;vectorizer__ngram_range&#x27;: [(1, 1), (1, 2)]}],\n",
       "             scoring=&#x27;f1_macro&#x27;)</pre><b>In a Jupyter environment, please rerun this cell to show the HTML representation or trust the notebook. <br />On GitHub, the HTML representation is unable to render, please try loading this page with nbviewer.org.</b></div><div class=\"sk-container\" hidden><div class=\"sk-item sk-dashed-wrapped\"><div class=\"sk-label-container\"><div class=\"sk-label sk-toggleable\"><input class=\"sk-toggleable__control sk-hidden--visually\" id=\"sk-estimator-id-1\" type=\"checkbox\" ><label for=\"sk-estimator-id-1\" class=\"sk-toggleable__label sk-toggleable__label-arrow\">GridSearchCV</label><div class=\"sk-toggleable__content\"><pre>GridSearchCV(cv=5,\n",
       "             estimator=Pipeline(steps=[(&#x27;vectorizer&#x27;, TfidfVectorizer()),\n",
       "                                       (&#x27;classifier&#x27;, LinearSVC())]),\n",
       "             param_grid=[{&#x27;classifier&#x27;: [LinearSVC(C=50, loss=&#x27;hinge&#x27;)],\n",
       "                          &#x27;classifier__C&#x27;: [0.1, 1, 10, 50],\n",
       "                          &#x27;classifier__loss&#x27;: [&#x27;hinge&#x27;, &#x27;squared_hinge&#x27;],\n",
       "                          &#x27;classifier__penalty&#x27;: [&#x27;l1&#x27;, &#x27;l2&#x27;],\n",
       "                          &#x27;vectorizer&#x27;: [TfidfVectorizer(max_features=10000,\n",
       "                                                         ngram_range=(1, 2))],\n",
       "                          &#x27;vectorizer__max_features&#x27;: [10000, 30000],\n",
       "                          &#x27;vectorizer__min_df&#x27;: [1, 3],\n",
       "                          &#x27;vectorizer__ngram_range&#x27;: [(1, 1), (1, 2)]}],\n",
       "             scoring=&#x27;f1_macro&#x27;)</pre></div></div></div><div class=\"sk-parallel\"><div class=\"sk-parallel-item\"><div class=\"sk-item\"><div class=\"sk-label-container\"><div class=\"sk-label sk-toggleable\"><input class=\"sk-toggleable__control sk-hidden--visually\" id=\"sk-estimator-id-2\" type=\"checkbox\" ><label for=\"sk-estimator-id-2\" class=\"sk-toggleable__label sk-toggleable__label-arrow\">estimator: Pipeline</label><div class=\"sk-toggleable__content\"><pre>Pipeline(steps=[(&#x27;vectorizer&#x27;, TfidfVectorizer()), (&#x27;classifier&#x27;, LinearSVC())])</pre></div></div></div><div class=\"sk-serial\"><div class=\"sk-item\"><div class=\"sk-serial\"><div class=\"sk-item\"><div class=\"sk-estimator sk-toggleable\"><input class=\"sk-toggleable__control sk-hidden--visually\" id=\"sk-estimator-id-3\" type=\"checkbox\" ><label for=\"sk-estimator-id-3\" class=\"sk-toggleable__label sk-toggleable__label-arrow\">TfidfVectorizer</label><div class=\"sk-toggleable__content\"><pre>TfidfVectorizer()</pre></div></div></div><div class=\"sk-item\"><div class=\"sk-estimator sk-toggleable\"><input class=\"sk-toggleable__control sk-hidden--visually\" id=\"sk-estimator-id-4\" type=\"checkbox\" ><label for=\"sk-estimator-id-4\" class=\"sk-toggleable__label sk-toggleable__label-arrow\">LinearSVC</label><div class=\"sk-toggleable__content\"><pre>LinearSVC()</pre></div></div></div></div></div></div></div></div></div></div></div></div>"
      ],
      "text/plain": [
       "GridSearchCV(cv=5,\n",
       "             estimator=Pipeline(steps=[('vectorizer', TfidfVectorizer()),\n",
       "                                       ('classifier', LinearSVC())]),\n",
       "             param_grid=[{'classifier': [LinearSVC(C=50, loss='hinge')],\n",
       "                          'classifier__C': [0.1, 1, 10, 50],\n",
       "                          'classifier__loss': ['hinge', 'squared_hinge'],\n",
       "                          'classifier__penalty': ['l1', 'l2'],\n",
       "                          'vectorizer': [TfidfVectorizer(max_features=10000,\n",
       "                                                         ngram_range=(1, 2))],\n",
       "                          'vectorizer__max_features': [10000, 30000],\n",
       "                          'vectorizer__min_df': [1, 3],\n",
       "                          'vectorizer__ngram_range': [(1, 1), (1, 2)]}],\n",
       "             scoring='f1_macro')"
      ]
     },
     "execution_count": 13,
     "metadata": {},
     "output_type": "execute_result"
    },
    {
     "name": "stdout",
     "output_type": "stream",
     "text": [
      "{'classifier': LinearSVC(C=50, loss='hinge'), 'classifier__C': 50, 'classifier__loss': 'hinge', 'classifier__penalty': 'l2', 'vectorizer': TfidfVectorizer(max_features=10000, ngram_range=(1, 2)), 'vectorizer__max_features': 10000, 'vectorizer__min_df': 1, 'vectorizer__ngram_range': (1, 2)}\n",
      "0.6654781121964962\n"
     ]
    }
   ],
   "source": [
    "# Define pipeline\n",
    "pipeline_train = Pipeline([\n",
    "    ('vectorizer', TfidfVectorizer()),\n",
    "    ('classifier', LinearSVC())\n",
    "])\n",
    "\n",
    "# Define parameter grid for grid search\n",
    "param_grid = [\n",
    "    {\n",
    "        'vectorizer': [TfidfVectorizer()],\n",
    "        'vectorizer__max_features': [10_000, 30_000],\n",
    "        'vectorizer__ngram_range': [(1,1), (1,2)],\n",
    "        'vectorizer__min_df': [1, 3],\n",
    "        'classifier': [LinearSVC()],\n",
    "        'classifier__C': [0.1, 1, 10, 50],\n",
    "        'classifier__penalty': ['l1', 'l2'],\n",
    "        'classifier__loss': ['hinge', 'squared_hinge']\n",
    "    }\n",
    "]\n",
    "\n",
    "# Perform grid search\n",
    "grid_search = GridSearchCV(pipeline_train, param_grid=param_grid, scoring='f1_macro', cv=5)\n",
    "grid_search.fit(df_train_tokenized['story'], df_train_tokenized['gender'])\n",
    "\n",
    "# Print best parameter combination and corresponding score\n",
    "print(grid_search.best_params_)\n",
    "print(grid_search.best_score_)"
   ]
  },
  {
   "attachments": {},
   "cell_type": "markdown",
   "metadata": {},
   "source": [
    "### Test 1 Results:\n",
    "* Average_f1 ≈ 0.665\n",
    "* Run-Time ≈ 5.20 minutes\n",
    "\n",
    "Well, it didn't start as well as the CountVectorizer. </br>\n",
    "Maybe we should add more bigger values to the <code>C value</code> before increasing the <code>cv value</code>.</br>\n",
    "We should also change a bit and also reduce the values for the <code>max_features</code> and <code>min_df</code></br>\n",
    "to see if we can indeed get a better <code>Average_f1</code> and <code>Run-Time</code>. "
   ]
  },
  {
   "attachments": {},
   "cell_type": "markdown",
   "metadata": {},
   "source": [
    "### Test 2:"
   ]
  },
  {
   "cell_type": "code",
   "execution_count": 14,
   "metadata": {},
   "outputs": [
    {
     "data": {
      "text/html": [
       "<style>#sk-container-id-2 {color: black;background-color: white;}#sk-container-id-2 pre{padding: 0;}#sk-container-id-2 div.sk-toggleable {background-color: white;}#sk-container-id-2 label.sk-toggleable__label {cursor: pointer;display: block;width: 100%;margin-bottom: 0;padding: 0.3em;box-sizing: border-box;text-align: center;}#sk-container-id-2 label.sk-toggleable__label-arrow:before {content: \"▸\";float: left;margin-right: 0.25em;color: #696969;}#sk-container-id-2 label.sk-toggleable__label-arrow:hover:before {color: black;}#sk-container-id-2 div.sk-estimator:hover label.sk-toggleable__label-arrow:before {color: black;}#sk-container-id-2 div.sk-toggleable__content {max-height: 0;max-width: 0;overflow: hidden;text-align: left;background-color: #f0f8ff;}#sk-container-id-2 div.sk-toggleable__content pre {margin: 0.2em;color: black;border-radius: 0.25em;background-color: #f0f8ff;}#sk-container-id-2 input.sk-toggleable__control:checked~div.sk-toggleable__content {max-height: 200px;max-width: 100%;overflow: auto;}#sk-container-id-2 input.sk-toggleable__control:checked~label.sk-toggleable__label-arrow:before {content: \"▾\";}#sk-container-id-2 div.sk-estimator input.sk-toggleable__control:checked~label.sk-toggleable__label {background-color: #d4ebff;}#sk-container-id-2 div.sk-label input.sk-toggleable__control:checked~label.sk-toggleable__label {background-color: #d4ebff;}#sk-container-id-2 input.sk-hidden--visually {border: 0;clip: rect(1px 1px 1px 1px);clip: rect(1px, 1px, 1px, 1px);height: 1px;margin: -1px;overflow: hidden;padding: 0;position: absolute;width: 1px;}#sk-container-id-2 div.sk-estimator {font-family: monospace;background-color: #f0f8ff;border: 1px dotted black;border-radius: 0.25em;box-sizing: border-box;margin-bottom: 0.5em;}#sk-container-id-2 div.sk-estimator:hover {background-color: #d4ebff;}#sk-container-id-2 div.sk-parallel-item::after {content: \"\";width: 100%;border-bottom: 1px solid gray;flex-grow: 1;}#sk-container-id-2 div.sk-label:hover label.sk-toggleable__label {background-color: #d4ebff;}#sk-container-id-2 div.sk-serial::before {content: \"\";position: absolute;border-left: 1px solid gray;box-sizing: border-box;top: 0;bottom: 0;left: 50%;z-index: 0;}#sk-container-id-2 div.sk-serial {display: flex;flex-direction: column;align-items: center;background-color: white;padding-right: 0.2em;padding-left: 0.2em;position: relative;}#sk-container-id-2 div.sk-item {position: relative;z-index: 1;}#sk-container-id-2 div.sk-parallel {display: flex;align-items: stretch;justify-content: center;background-color: white;position: relative;}#sk-container-id-2 div.sk-item::before, #sk-container-id-2 div.sk-parallel-item::before {content: \"\";position: absolute;border-left: 1px solid gray;box-sizing: border-box;top: 0;bottom: 0;left: 50%;z-index: -1;}#sk-container-id-2 div.sk-parallel-item {display: flex;flex-direction: column;z-index: 1;position: relative;background-color: white;}#sk-container-id-2 div.sk-parallel-item:first-child::after {align-self: flex-end;width: 50%;}#sk-container-id-2 div.sk-parallel-item:last-child::after {align-self: flex-start;width: 50%;}#sk-container-id-2 div.sk-parallel-item:only-child::after {width: 0;}#sk-container-id-2 div.sk-dashed-wrapped {border: 1px dashed gray;margin: 0 0.4em 0.5em 0.4em;box-sizing: border-box;padding-bottom: 0.4em;background-color: white;}#sk-container-id-2 div.sk-label label {font-family: monospace;font-weight: bold;display: inline-block;line-height: 1.2em;}#sk-container-id-2 div.sk-label-container {text-align: center;}#sk-container-id-2 div.sk-container {/* jupyter's `normalize.less` sets `[hidden] { display: none; }` but bootstrap.min.css set `[hidden] { display: none !important; }` so we also need the `!important` here to be able to override the default hidden behavior on the sphinx rendered scikit-learn.org. See: https://github.com/scikit-learn/scikit-learn/issues/21755 */display: inline-block !important;position: relative;}#sk-container-id-2 div.sk-text-repr-fallback {display: none;}</style><div id=\"sk-container-id-2\" class=\"sk-top-container\"><div class=\"sk-text-repr-fallback\"><pre>GridSearchCV(cv=5,\n",
       "             estimator=Pipeline(steps=[(&#x27;vectorizer&#x27;, TfidfVectorizer()),\n",
       "                                       (&#x27;classifier&#x27;, LinearSVC())]),\n",
       "             param_grid=[{&#x27;classifier&#x27;: [LinearSVC(C=20, loss=&#x27;hinge&#x27;)],\n",
       "                          &#x27;classifier__C&#x27;: [20, 50, 70, 90],\n",
       "                          &#x27;classifier__loss&#x27;: [&#x27;hinge&#x27;, &#x27;squared_hinge&#x27;],\n",
       "                          &#x27;classifier__penalty&#x27;: [&#x27;l1&#x27;, &#x27;l2&#x27;],\n",
       "                          &#x27;vectorizer&#x27;: [TfidfVectorizer(max_features=10000,\n",
       "                                                         min_df=3)],\n",
       "                          &#x27;vectorizer__max_features&#x27;: [10000, 20000],\n",
       "                          &#x27;vectorizer__min_df&#x27;: [1, 3],\n",
       "                          &#x27;vectorizer__ngram_range&#x27;: [(1, 1), (1, 2)]}],\n",
       "             scoring=&#x27;f1_macro&#x27;)</pre><b>In a Jupyter environment, please rerun this cell to show the HTML representation or trust the notebook. <br />On GitHub, the HTML representation is unable to render, please try loading this page with nbviewer.org.</b></div><div class=\"sk-container\" hidden><div class=\"sk-item sk-dashed-wrapped\"><div class=\"sk-label-container\"><div class=\"sk-label sk-toggleable\"><input class=\"sk-toggleable__control sk-hidden--visually\" id=\"sk-estimator-id-5\" type=\"checkbox\" ><label for=\"sk-estimator-id-5\" class=\"sk-toggleable__label sk-toggleable__label-arrow\">GridSearchCV</label><div class=\"sk-toggleable__content\"><pre>GridSearchCV(cv=5,\n",
       "             estimator=Pipeline(steps=[(&#x27;vectorizer&#x27;, TfidfVectorizer()),\n",
       "                                       (&#x27;classifier&#x27;, LinearSVC())]),\n",
       "             param_grid=[{&#x27;classifier&#x27;: [LinearSVC(C=20, loss=&#x27;hinge&#x27;)],\n",
       "                          &#x27;classifier__C&#x27;: [20, 50, 70, 90],\n",
       "                          &#x27;classifier__loss&#x27;: [&#x27;hinge&#x27;, &#x27;squared_hinge&#x27;],\n",
       "                          &#x27;classifier__penalty&#x27;: [&#x27;l1&#x27;, &#x27;l2&#x27;],\n",
       "                          &#x27;vectorizer&#x27;: [TfidfVectorizer(max_features=10000,\n",
       "                                                         min_df=3)],\n",
       "                          &#x27;vectorizer__max_features&#x27;: [10000, 20000],\n",
       "                          &#x27;vectorizer__min_df&#x27;: [1, 3],\n",
       "                          &#x27;vectorizer__ngram_range&#x27;: [(1, 1), (1, 2)]}],\n",
       "             scoring=&#x27;f1_macro&#x27;)</pre></div></div></div><div class=\"sk-parallel\"><div class=\"sk-parallel-item\"><div class=\"sk-item\"><div class=\"sk-label-container\"><div class=\"sk-label sk-toggleable\"><input class=\"sk-toggleable__control sk-hidden--visually\" id=\"sk-estimator-id-6\" type=\"checkbox\" ><label for=\"sk-estimator-id-6\" class=\"sk-toggleable__label sk-toggleable__label-arrow\">estimator: Pipeline</label><div class=\"sk-toggleable__content\"><pre>Pipeline(steps=[(&#x27;vectorizer&#x27;, TfidfVectorizer()), (&#x27;classifier&#x27;, LinearSVC())])</pre></div></div></div><div class=\"sk-serial\"><div class=\"sk-item\"><div class=\"sk-serial\"><div class=\"sk-item\"><div class=\"sk-estimator sk-toggleable\"><input class=\"sk-toggleable__control sk-hidden--visually\" id=\"sk-estimator-id-7\" type=\"checkbox\" ><label for=\"sk-estimator-id-7\" class=\"sk-toggleable__label sk-toggleable__label-arrow\">TfidfVectorizer</label><div class=\"sk-toggleable__content\"><pre>TfidfVectorizer()</pre></div></div></div><div class=\"sk-item\"><div class=\"sk-estimator sk-toggleable\"><input class=\"sk-toggleable__control sk-hidden--visually\" id=\"sk-estimator-id-8\" type=\"checkbox\" ><label for=\"sk-estimator-id-8\" class=\"sk-toggleable__label sk-toggleable__label-arrow\">LinearSVC</label><div class=\"sk-toggleable__content\"><pre>LinearSVC()</pre></div></div></div></div></div></div></div></div></div></div></div></div>"
      ],
      "text/plain": [
       "GridSearchCV(cv=5,\n",
       "             estimator=Pipeline(steps=[('vectorizer', TfidfVectorizer()),\n",
       "                                       ('classifier', LinearSVC())]),\n",
       "             param_grid=[{'classifier': [LinearSVC(C=20, loss='hinge')],\n",
       "                          'classifier__C': [20, 50, 70, 90],\n",
       "                          'classifier__loss': ['hinge', 'squared_hinge'],\n",
       "                          'classifier__penalty': ['l1', 'l2'],\n",
       "                          'vectorizer': [TfidfVectorizer(max_features=10000,\n",
       "                                                         min_df=3)],\n",
       "                          'vectorizer__max_features': [10000, 20000],\n",
       "                          'vectorizer__min_df': [1, 3],\n",
       "                          'vectorizer__ngram_range': [(1, 1), (1, 2)]}],\n",
       "             scoring='f1_macro')"
      ]
     },
     "execution_count": 14,
     "metadata": {},
     "output_type": "execute_result"
    },
    {
     "name": "stdout",
     "output_type": "stream",
     "text": [
      "{'classifier': LinearSVC(C=20, loss='hinge'), 'classifier__C': 20, 'classifier__loss': 'hinge', 'classifier__penalty': 'l2', 'vectorizer': TfidfVectorizer(max_features=10000, min_df=3), 'vectorizer__max_features': 10000, 'vectorizer__min_df': 3, 'vectorizer__ngram_range': (1, 1)}\n",
      "0.6656577374227762\n"
     ]
    }
   ],
   "source": [
    "# Define pipeline\n",
    "pipeline_train = Pipeline([\n",
    "    ('vectorizer', TfidfVectorizer()),\n",
    "    ('classifier', LinearSVC())\n",
    "])\n",
    "\n",
    "# Define parameter grid for grid search\n",
    "param_grid = [\n",
    "    {\n",
    "        'vectorizer': [TfidfVectorizer()],\n",
    "        'vectorizer__max_features': [10_000, 20_000],\n",
    "        'vectorizer__ngram_range': [(1,1), (1,2)],\n",
    "        'vectorizer__min_df': [1, 3],\n",
    "        'classifier': [LinearSVC()],\n",
    "        'classifier__C': [20, 50, 70, 90],\n",
    "        'classifier__penalty': ['l1', 'l2'],\n",
    "        'classifier__loss': ['hinge', 'squared_hinge']\n",
    "    }\n",
    "]\n",
    "\n",
    "# Perform grid search\n",
    "grid_search = GridSearchCV(pipeline_train, param_grid=param_grid, scoring='f1_macro', cv=5)\n",
    "grid_search.fit(df_train_tokenized['story'], df_train_tokenized['gender'])\n",
    "\n",
    "# Print best parameter combination and corresponding score\n",
    "print(grid_search.best_params_)\n",
    "print(grid_search.best_score_)"
   ]
  },
  {
   "attachments": {},
   "cell_type": "markdown",
   "metadata": {},
   "source": [
    "### Test 2 Results:\n",
    "* Average_f1 ≈ 0.665\n",
    "* Run-Time ≈ 5.40 minutes\n",
    "\n",
    "Only minor changes compared to the first test.</br>\n",
    "Maybe we should center the <code>C value</code> around 20...</br>\n",
    "Let's also try now to increase the <code>cv value</code> to 7.</br>\n",
    "Let's also add and remove some of the values in the other hyperparameters.</br>\n",
    "Finally, let's add in the <code>max_df value</code>."
   ]
  },
  {
   "attachments": {},
   "cell_type": "markdown",
   "metadata": {},
   "source": [
    "### Test 3:"
   ]
  },
  {
   "cell_type": "code",
   "execution_count": 15,
   "metadata": {},
   "outputs": [
    {
     "data": {
      "text/html": [
       "<style>#sk-container-id-3 {color: black;background-color: white;}#sk-container-id-3 pre{padding: 0;}#sk-container-id-3 div.sk-toggleable {background-color: white;}#sk-container-id-3 label.sk-toggleable__label {cursor: pointer;display: block;width: 100%;margin-bottom: 0;padding: 0.3em;box-sizing: border-box;text-align: center;}#sk-container-id-3 label.sk-toggleable__label-arrow:before {content: \"▸\";float: left;margin-right: 0.25em;color: #696969;}#sk-container-id-3 label.sk-toggleable__label-arrow:hover:before {color: black;}#sk-container-id-3 div.sk-estimator:hover label.sk-toggleable__label-arrow:before {color: black;}#sk-container-id-3 div.sk-toggleable__content {max-height: 0;max-width: 0;overflow: hidden;text-align: left;background-color: #f0f8ff;}#sk-container-id-3 div.sk-toggleable__content pre {margin: 0.2em;color: black;border-radius: 0.25em;background-color: #f0f8ff;}#sk-container-id-3 input.sk-toggleable__control:checked~div.sk-toggleable__content {max-height: 200px;max-width: 100%;overflow: auto;}#sk-container-id-3 input.sk-toggleable__control:checked~label.sk-toggleable__label-arrow:before {content: \"▾\";}#sk-container-id-3 div.sk-estimator input.sk-toggleable__control:checked~label.sk-toggleable__label {background-color: #d4ebff;}#sk-container-id-3 div.sk-label input.sk-toggleable__control:checked~label.sk-toggleable__label {background-color: #d4ebff;}#sk-container-id-3 input.sk-hidden--visually {border: 0;clip: rect(1px 1px 1px 1px);clip: rect(1px, 1px, 1px, 1px);height: 1px;margin: -1px;overflow: hidden;padding: 0;position: absolute;width: 1px;}#sk-container-id-3 div.sk-estimator {font-family: monospace;background-color: #f0f8ff;border: 1px dotted black;border-radius: 0.25em;box-sizing: border-box;margin-bottom: 0.5em;}#sk-container-id-3 div.sk-estimator:hover {background-color: #d4ebff;}#sk-container-id-3 div.sk-parallel-item::after {content: \"\";width: 100%;border-bottom: 1px solid gray;flex-grow: 1;}#sk-container-id-3 div.sk-label:hover label.sk-toggleable__label {background-color: #d4ebff;}#sk-container-id-3 div.sk-serial::before {content: \"\";position: absolute;border-left: 1px solid gray;box-sizing: border-box;top: 0;bottom: 0;left: 50%;z-index: 0;}#sk-container-id-3 div.sk-serial {display: flex;flex-direction: column;align-items: center;background-color: white;padding-right: 0.2em;padding-left: 0.2em;position: relative;}#sk-container-id-3 div.sk-item {position: relative;z-index: 1;}#sk-container-id-3 div.sk-parallel {display: flex;align-items: stretch;justify-content: center;background-color: white;position: relative;}#sk-container-id-3 div.sk-item::before, #sk-container-id-3 div.sk-parallel-item::before {content: \"\";position: absolute;border-left: 1px solid gray;box-sizing: border-box;top: 0;bottom: 0;left: 50%;z-index: -1;}#sk-container-id-3 div.sk-parallel-item {display: flex;flex-direction: column;z-index: 1;position: relative;background-color: white;}#sk-container-id-3 div.sk-parallel-item:first-child::after {align-self: flex-end;width: 50%;}#sk-container-id-3 div.sk-parallel-item:last-child::after {align-self: flex-start;width: 50%;}#sk-container-id-3 div.sk-parallel-item:only-child::after {width: 0;}#sk-container-id-3 div.sk-dashed-wrapped {border: 1px dashed gray;margin: 0 0.4em 0.5em 0.4em;box-sizing: border-box;padding-bottom: 0.4em;background-color: white;}#sk-container-id-3 div.sk-label label {font-family: monospace;font-weight: bold;display: inline-block;line-height: 1.2em;}#sk-container-id-3 div.sk-label-container {text-align: center;}#sk-container-id-3 div.sk-container {/* jupyter's `normalize.less` sets `[hidden] { display: none; }` but bootstrap.min.css set `[hidden] { display: none !important; }` so we also need the `!important` here to be able to override the default hidden behavior on the sphinx rendered scikit-learn.org. See: https://github.com/scikit-learn/scikit-learn/issues/21755 */display: inline-block !important;position: relative;}#sk-container-id-3 div.sk-text-repr-fallback {display: none;}</style><div id=\"sk-container-id-3\" class=\"sk-top-container\"><div class=\"sk-text-repr-fallback\"><pre>GridSearchCV(cv=7,\n",
       "             estimator=Pipeline(steps=[(&#x27;vectorizer&#x27;, TfidfVectorizer()),\n",
       "                                       (&#x27;classifier&#x27;, LinearSVC())]),\n",
       "             param_grid=[{&#x27;classifier&#x27;: [LinearSVC(C=25, loss=&#x27;hinge&#x27;)],\n",
       "                          &#x27;classifier__C&#x27;: [15, 20, 25],\n",
       "                          &#x27;classifier__loss&#x27;: [&#x27;hinge&#x27;, &#x27;squared_hinge&#x27;],\n",
       "                          &#x27;classifier__penalty&#x27;: [&#x27;l2&#x27;],\n",
       "                          &#x27;vectorizer&#x27;: [TfidfVectorizer(max_df=0.9,\n",
       "                                                         max_features=10000,\n",
       "                                                         min_df=3)],\n",
       "                          &#x27;vectorizer__max_df&#x27;: [0.7, 0.9],\n",
       "                          &#x27;vectorizer__max_features&#x27;: [10000, 20000],\n",
       "                          &#x27;vectorizer__min_df&#x27;: [1, 3],\n",
       "                          &#x27;vectorizer__ngram_range&#x27;: [(1, 1), (1, 2)]}],\n",
       "             scoring=&#x27;f1_macro&#x27;)</pre><b>In a Jupyter environment, please rerun this cell to show the HTML representation or trust the notebook. <br />On GitHub, the HTML representation is unable to render, please try loading this page with nbviewer.org.</b></div><div class=\"sk-container\" hidden><div class=\"sk-item sk-dashed-wrapped\"><div class=\"sk-label-container\"><div class=\"sk-label sk-toggleable\"><input class=\"sk-toggleable__control sk-hidden--visually\" id=\"sk-estimator-id-9\" type=\"checkbox\" ><label for=\"sk-estimator-id-9\" class=\"sk-toggleable__label sk-toggleable__label-arrow\">GridSearchCV</label><div class=\"sk-toggleable__content\"><pre>GridSearchCV(cv=7,\n",
       "             estimator=Pipeline(steps=[(&#x27;vectorizer&#x27;, TfidfVectorizer()),\n",
       "                                       (&#x27;classifier&#x27;, LinearSVC())]),\n",
       "             param_grid=[{&#x27;classifier&#x27;: [LinearSVC(C=25, loss=&#x27;hinge&#x27;)],\n",
       "                          &#x27;classifier__C&#x27;: [15, 20, 25],\n",
       "                          &#x27;classifier__loss&#x27;: [&#x27;hinge&#x27;, &#x27;squared_hinge&#x27;],\n",
       "                          &#x27;classifier__penalty&#x27;: [&#x27;l2&#x27;],\n",
       "                          &#x27;vectorizer&#x27;: [TfidfVectorizer(max_df=0.9,\n",
       "                                                         max_features=10000,\n",
       "                                                         min_df=3)],\n",
       "                          &#x27;vectorizer__max_df&#x27;: [0.7, 0.9],\n",
       "                          &#x27;vectorizer__max_features&#x27;: [10000, 20000],\n",
       "                          &#x27;vectorizer__min_df&#x27;: [1, 3],\n",
       "                          &#x27;vectorizer__ngram_range&#x27;: [(1, 1), (1, 2)]}],\n",
       "             scoring=&#x27;f1_macro&#x27;)</pre></div></div></div><div class=\"sk-parallel\"><div class=\"sk-parallel-item\"><div class=\"sk-item\"><div class=\"sk-label-container\"><div class=\"sk-label sk-toggleable\"><input class=\"sk-toggleable__control sk-hidden--visually\" id=\"sk-estimator-id-10\" type=\"checkbox\" ><label for=\"sk-estimator-id-10\" class=\"sk-toggleable__label sk-toggleable__label-arrow\">estimator: Pipeline</label><div class=\"sk-toggleable__content\"><pre>Pipeline(steps=[(&#x27;vectorizer&#x27;, TfidfVectorizer()), (&#x27;classifier&#x27;, LinearSVC())])</pre></div></div></div><div class=\"sk-serial\"><div class=\"sk-item\"><div class=\"sk-serial\"><div class=\"sk-item\"><div class=\"sk-estimator sk-toggleable\"><input class=\"sk-toggleable__control sk-hidden--visually\" id=\"sk-estimator-id-11\" type=\"checkbox\" ><label for=\"sk-estimator-id-11\" class=\"sk-toggleable__label sk-toggleable__label-arrow\">TfidfVectorizer</label><div class=\"sk-toggleable__content\"><pre>TfidfVectorizer()</pre></div></div></div><div class=\"sk-item\"><div class=\"sk-estimator sk-toggleable\"><input class=\"sk-toggleable__control sk-hidden--visually\" id=\"sk-estimator-id-12\" type=\"checkbox\" ><label for=\"sk-estimator-id-12\" class=\"sk-toggleable__label sk-toggleable__label-arrow\">LinearSVC</label><div class=\"sk-toggleable__content\"><pre>LinearSVC()</pre></div></div></div></div></div></div></div></div></div></div></div></div>"
      ],
      "text/plain": [
       "GridSearchCV(cv=7,\n",
       "             estimator=Pipeline(steps=[('vectorizer', TfidfVectorizer()),\n",
       "                                       ('classifier', LinearSVC())]),\n",
       "             param_grid=[{'classifier': [LinearSVC(C=25, loss='hinge')],\n",
       "                          'classifier__C': [15, 20, 25],\n",
       "                          'classifier__loss': ['hinge', 'squared_hinge'],\n",
       "                          'classifier__penalty': ['l2'],\n",
       "                          'vectorizer': [TfidfVectorizer(max_df=0.9,\n",
       "                                                         max_features=10000,\n",
       "                                                         min_df=3)],\n",
       "                          'vectorizer__max_df': [0.7, 0.9],\n",
       "                          'vectorizer__max_features': [10000, 20000],\n",
       "                          'vectorizer__min_df': [1, 3],\n",
       "                          'vectorizer__ngram_range': [(1, 1), (1, 2)]}],\n",
       "             scoring='f1_macro')"
      ]
     },
     "execution_count": 15,
     "metadata": {},
     "output_type": "execute_result"
    },
    {
     "name": "stdout",
     "output_type": "stream",
     "text": [
      "{'classifier': LinearSVC(C=25, loss='hinge'), 'classifier__C': 25, 'classifier__loss': 'hinge', 'classifier__penalty': 'l2', 'vectorizer': TfidfVectorizer(max_df=0.9, max_features=10000, min_df=3), 'vectorizer__max_df': 0.9, 'vectorizer__max_features': 10000, 'vectorizer__min_df': 3, 'vectorizer__ngram_range': (1, 1)}\n",
      "0.6712306236565272\n"
     ]
    }
   ],
   "source": [
    "# Define pipeline\n",
    "pipeline_train = Pipeline([\n",
    "    ('vectorizer', TfidfVectorizer()),\n",
    "    ('classifier', LinearSVC())\n",
    "])\n",
    "\n",
    "# Define parameter grid for grid search\n",
    "param_grid = [\n",
    "    {\n",
    "        'vectorizer': [TfidfVectorizer()],\n",
    "        'vectorizer__max_features': [10_000, 20_000],\n",
    "        'vectorizer__ngram_range': [(1,1), (1,2)],\n",
    "        'vectorizer__min_df': [1, 3],\n",
    "        'vectorizer__max_df': [0.7, 0.9],\n",
    "        'classifier': [LinearSVC()],\n",
    "        'classifier__C': [15, 20, 25],\n",
    "        'classifier__penalty': ['l2'],\n",
    "        'classifier__loss': ['hinge', 'squared_hinge']\n",
    "    }\n",
    "]\n",
    "\n",
    "# Perform grid search\n",
    "grid_search = GridSearchCV(pipeline_train, param_grid=param_grid, scoring='f1_macro', cv=7)\n",
    "grid_search.fit(df_train_tokenized['story'], df_train_tokenized['gender'])\n",
    "\n",
    "# Print best parameter combination and corresponding score\n",
    "print(grid_search.best_params_)\n",
    "print(grid_search.best_score_)"
   ]
  },
  {
   "attachments": {},
   "cell_type": "markdown",
   "metadata": {},
   "source": [
    "### Test 3 Results:\n",
    "* Average_f1 ≈ 0.671\n",
    "* Run-Time ≈ 7 minutes\n",
    "\n",
    "Slightly increase at the <code>Average_f1</code> value.</br>\n",
    "Seems like increasing the <code>cv value</code> might be the way to go,</br>\n",
    "but we should also reduce some of the other values in order to reduce the <code>Run-Time</code>."
   ]
  },
  {
   "attachments": {},
   "cell_type": "markdown",
   "metadata": {},
   "source": [
    "### Test 4:"
   ]
  },
  {
   "cell_type": "code",
   "execution_count": 16,
   "metadata": {},
   "outputs": [
    {
     "data": {
      "text/html": [
       "<style>#sk-container-id-4 {color: black;background-color: white;}#sk-container-id-4 pre{padding: 0;}#sk-container-id-4 div.sk-toggleable {background-color: white;}#sk-container-id-4 label.sk-toggleable__label {cursor: pointer;display: block;width: 100%;margin-bottom: 0;padding: 0.3em;box-sizing: border-box;text-align: center;}#sk-container-id-4 label.sk-toggleable__label-arrow:before {content: \"▸\";float: left;margin-right: 0.25em;color: #696969;}#sk-container-id-4 label.sk-toggleable__label-arrow:hover:before {color: black;}#sk-container-id-4 div.sk-estimator:hover label.sk-toggleable__label-arrow:before {color: black;}#sk-container-id-4 div.sk-toggleable__content {max-height: 0;max-width: 0;overflow: hidden;text-align: left;background-color: #f0f8ff;}#sk-container-id-4 div.sk-toggleable__content pre {margin: 0.2em;color: black;border-radius: 0.25em;background-color: #f0f8ff;}#sk-container-id-4 input.sk-toggleable__control:checked~div.sk-toggleable__content {max-height: 200px;max-width: 100%;overflow: auto;}#sk-container-id-4 input.sk-toggleable__control:checked~label.sk-toggleable__label-arrow:before {content: \"▾\";}#sk-container-id-4 div.sk-estimator input.sk-toggleable__control:checked~label.sk-toggleable__label {background-color: #d4ebff;}#sk-container-id-4 div.sk-label input.sk-toggleable__control:checked~label.sk-toggleable__label {background-color: #d4ebff;}#sk-container-id-4 input.sk-hidden--visually {border: 0;clip: rect(1px 1px 1px 1px);clip: rect(1px, 1px, 1px, 1px);height: 1px;margin: -1px;overflow: hidden;padding: 0;position: absolute;width: 1px;}#sk-container-id-4 div.sk-estimator {font-family: monospace;background-color: #f0f8ff;border: 1px dotted black;border-radius: 0.25em;box-sizing: border-box;margin-bottom: 0.5em;}#sk-container-id-4 div.sk-estimator:hover {background-color: #d4ebff;}#sk-container-id-4 div.sk-parallel-item::after {content: \"\";width: 100%;border-bottom: 1px solid gray;flex-grow: 1;}#sk-container-id-4 div.sk-label:hover label.sk-toggleable__label {background-color: #d4ebff;}#sk-container-id-4 div.sk-serial::before {content: \"\";position: absolute;border-left: 1px solid gray;box-sizing: border-box;top: 0;bottom: 0;left: 50%;z-index: 0;}#sk-container-id-4 div.sk-serial {display: flex;flex-direction: column;align-items: center;background-color: white;padding-right: 0.2em;padding-left: 0.2em;position: relative;}#sk-container-id-4 div.sk-item {position: relative;z-index: 1;}#sk-container-id-4 div.sk-parallel {display: flex;align-items: stretch;justify-content: center;background-color: white;position: relative;}#sk-container-id-4 div.sk-item::before, #sk-container-id-4 div.sk-parallel-item::before {content: \"\";position: absolute;border-left: 1px solid gray;box-sizing: border-box;top: 0;bottom: 0;left: 50%;z-index: -1;}#sk-container-id-4 div.sk-parallel-item {display: flex;flex-direction: column;z-index: 1;position: relative;background-color: white;}#sk-container-id-4 div.sk-parallel-item:first-child::after {align-self: flex-end;width: 50%;}#sk-container-id-4 div.sk-parallel-item:last-child::after {align-self: flex-start;width: 50%;}#sk-container-id-4 div.sk-parallel-item:only-child::after {width: 0;}#sk-container-id-4 div.sk-dashed-wrapped {border: 1px dashed gray;margin: 0 0.4em 0.5em 0.4em;box-sizing: border-box;padding-bottom: 0.4em;background-color: white;}#sk-container-id-4 div.sk-label label {font-family: monospace;font-weight: bold;display: inline-block;line-height: 1.2em;}#sk-container-id-4 div.sk-label-container {text-align: center;}#sk-container-id-4 div.sk-container {/* jupyter's `normalize.less` sets `[hidden] { display: none; }` but bootstrap.min.css set `[hidden] { display: none !important; }` so we also need the `!important` here to be able to override the default hidden behavior on the sphinx rendered scikit-learn.org. See: https://github.com/scikit-learn/scikit-learn/issues/21755 */display: inline-block !important;position: relative;}#sk-container-id-4 div.sk-text-repr-fallback {display: none;}</style><div id=\"sk-container-id-4\" class=\"sk-top-container\"><div class=\"sk-text-repr-fallback\"><pre>GridSearchCV(cv=10,\n",
       "             estimator=Pipeline(steps=[(&#x27;vectorizer&#x27;, TfidfVectorizer()),\n",
       "                                       (&#x27;classifier&#x27;, LinearSVC())]),\n",
       "             param_grid=[{&#x27;classifier&#x27;: [LinearSVC(C=20, loss=&#x27;hinge&#x27;)],\n",
       "                          &#x27;classifier__C&#x27;: [20, 25],\n",
       "                          &#x27;classifier__loss&#x27;: [&#x27;hinge&#x27;],\n",
       "                          &#x27;classifier__penalty&#x27;: [&#x27;l2&#x27;],\n",
       "                          &#x27;vectorizer&#x27;: [TfidfVectorizer(max_df=0.7,\n",
       "                                                         max_features=10000,\n",
       "                                                         min_df=2)],\n",
       "                          &#x27;vectorizer__max_df&#x27;: [0.7, 0.9],\n",
       "                          &#x27;vectorizer__max_features&#x27;: [10000, 20000],\n",
       "                          &#x27;vectorizer__min_df&#x27;: [1, 2, 3],\n",
       "                          &#x27;vectorizer__ngram_range&#x27;: [(1, 1), (1, 2)]}],\n",
       "             scoring=&#x27;f1_macro&#x27;)</pre><b>In a Jupyter environment, please rerun this cell to show the HTML representation or trust the notebook. <br />On GitHub, the HTML representation is unable to render, please try loading this page with nbviewer.org.</b></div><div class=\"sk-container\" hidden><div class=\"sk-item sk-dashed-wrapped\"><div class=\"sk-label-container\"><div class=\"sk-label sk-toggleable\"><input class=\"sk-toggleable__control sk-hidden--visually\" id=\"sk-estimator-id-13\" type=\"checkbox\" ><label for=\"sk-estimator-id-13\" class=\"sk-toggleable__label sk-toggleable__label-arrow\">GridSearchCV</label><div class=\"sk-toggleable__content\"><pre>GridSearchCV(cv=10,\n",
       "             estimator=Pipeline(steps=[(&#x27;vectorizer&#x27;, TfidfVectorizer()),\n",
       "                                       (&#x27;classifier&#x27;, LinearSVC())]),\n",
       "             param_grid=[{&#x27;classifier&#x27;: [LinearSVC(C=20, loss=&#x27;hinge&#x27;)],\n",
       "                          &#x27;classifier__C&#x27;: [20, 25],\n",
       "                          &#x27;classifier__loss&#x27;: [&#x27;hinge&#x27;],\n",
       "                          &#x27;classifier__penalty&#x27;: [&#x27;l2&#x27;],\n",
       "                          &#x27;vectorizer&#x27;: [TfidfVectorizer(max_df=0.7,\n",
       "                                                         max_features=10000,\n",
       "                                                         min_df=2)],\n",
       "                          &#x27;vectorizer__max_df&#x27;: [0.7, 0.9],\n",
       "                          &#x27;vectorizer__max_features&#x27;: [10000, 20000],\n",
       "                          &#x27;vectorizer__min_df&#x27;: [1, 2, 3],\n",
       "                          &#x27;vectorizer__ngram_range&#x27;: [(1, 1), (1, 2)]}],\n",
       "             scoring=&#x27;f1_macro&#x27;)</pre></div></div></div><div class=\"sk-parallel\"><div class=\"sk-parallel-item\"><div class=\"sk-item\"><div class=\"sk-label-container\"><div class=\"sk-label sk-toggleable\"><input class=\"sk-toggleable__control sk-hidden--visually\" id=\"sk-estimator-id-14\" type=\"checkbox\" ><label for=\"sk-estimator-id-14\" class=\"sk-toggleable__label sk-toggleable__label-arrow\">estimator: Pipeline</label><div class=\"sk-toggleable__content\"><pre>Pipeline(steps=[(&#x27;vectorizer&#x27;, TfidfVectorizer()), (&#x27;classifier&#x27;, LinearSVC())])</pre></div></div></div><div class=\"sk-serial\"><div class=\"sk-item\"><div class=\"sk-serial\"><div class=\"sk-item\"><div class=\"sk-estimator sk-toggleable\"><input class=\"sk-toggleable__control sk-hidden--visually\" id=\"sk-estimator-id-15\" type=\"checkbox\" ><label for=\"sk-estimator-id-15\" class=\"sk-toggleable__label sk-toggleable__label-arrow\">TfidfVectorizer</label><div class=\"sk-toggleable__content\"><pre>TfidfVectorizer()</pre></div></div></div><div class=\"sk-item\"><div class=\"sk-estimator sk-toggleable\"><input class=\"sk-toggleable__control sk-hidden--visually\" id=\"sk-estimator-id-16\" type=\"checkbox\" ><label for=\"sk-estimator-id-16\" class=\"sk-toggleable__label sk-toggleable__label-arrow\">LinearSVC</label><div class=\"sk-toggleable__content\"><pre>LinearSVC()</pre></div></div></div></div></div></div></div></div></div></div></div></div>"
      ],
      "text/plain": [
       "GridSearchCV(cv=10,\n",
       "             estimator=Pipeline(steps=[('vectorizer', TfidfVectorizer()),\n",
       "                                       ('classifier', LinearSVC())]),\n",
       "             param_grid=[{'classifier': [LinearSVC(C=20, loss='hinge')],\n",
       "                          'classifier__C': [20, 25],\n",
       "                          'classifier__loss': ['hinge'],\n",
       "                          'classifier__penalty': ['l2'],\n",
       "                          'vectorizer': [TfidfVectorizer(max_df=0.7,\n",
       "                                                         max_features=10000,\n",
       "                                                         min_df=2)],\n",
       "                          'vectorizer__max_df': [0.7, 0.9],\n",
       "                          'vectorizer__max_features': [10000, 20000],\n",
       "                          'vectorizer__min_df': [1, 2, 3],\n",
       "                          'vectorizer__ngram_range': [(1, 1), (1, 2)]}],\n",
       "             scoring='f1_macro')"
      ]
     },
     "execution_count": 16,
     "metadata": {},
     "output_type": "execute_result"
    },
    {
     "name": "stdout",
     "output_type": "stream",
     "text": [
      "{'classifier': LinearSVC(C=20, loss='hinge'), 'classifier__C': 20, 'classifier__loss': 'hinge', 'classifier__penalty': 'l2', 'vectorizer': TfidfVectorizer(max_df=0.7, max_features=10000, min_df=2), 'vectorizer__max_df': 0.7, 'vectorizer__max_features': 10000, 'vectorizer__min_df': 2, 'vectorizer__ngram_range': (1, 1)}\n",
      "0.6733648265407998\n"
     ]
    }
   ],
   "source": [
    "# Define pipeline\n",
    "pipeline_train = Pipeline([\n",
    "    ('vectorizer', TfidfVectorizer()),\n",
    "    ('classifier', LinearSVC())\n",
    "])\n",
    "\n",
    "# Define parameter grid for grid search\n",
    "param_grid = [\n",
    "    {\n",
    "        'vectorizer': [TfidfVectorizer()],\n",
    "        'vectorizer__max_features': [10_000, 20_000],\n",
    "        'vectorizer__ngram_range': [(1,1), (1,2)],\n",
    "        'vectorizer__min_df': [1, 2, 3],\n",
    "        'vectorizer__max_df': [0.7, 0.9],\n",
    "        'classifier': [LinearSVC()],\n",
    "        'classifier__C': [20, 25],\n",
    "        'classifier__penalty': ['l2'],\n",
    "        'classifier__loss': ['hinge']\n",
    "    }\n",
    "]\n",
    "\n",
    "# Perform grid search\n",
    "grid_search = GridSearchCV(pipeline_train, param_grid=param_grid, scoring='f1_macro', cv=10)\n",
    "grid_search.fit(df_train_tokenized['story'], df_train_tokenized['gender'])\n",
    "\n",
    "# Print best parameter combination and corresponding score\n",
    "print(grid_search.best_params_)\n",
    "print(grid_search.best_score_)"
   ]
  },
  {
   "attachments": {},
   "cell_type": "markdown",
   "metadata": {},
   "source": [
    "### Test 4 Results:\n",
    "* Average_f1 ≈ 0.673\n",
    "* Run-Time ≈ 5 minutes\n",
    "\n",
    "A very minor increase at the <code>Average_f1</code> value, Although we did manage to improve <code>Run-Time</code>.</br>\n",
    "I don't think there is much else to add or do in order to increase the <code>Average_f1</code> for this vectorizer for this model."
   ]
  },
  {
   "attachments": {},
   "cell_type": "markdown",
   "metadata": {},
   "source": [
    "## Step 2.2.1: LinearSVC and TfidfVectorizer - Conclusion:\n",
    "\n",
    "| Test no.              | Average_f1 | Run-Time(minutes) |\n",
    "|-----------------------|------------|-------------------|\n",
    "| 1                     | 0.665      | 5.20              |  \n",
    "| 2                     | 0.665      | 5.40              |\n",
    "| 3                     | 0.671      | 7                 | \n",
    "| <code>4</code>        | 0.673      | 5                 |\n",
    "\n",
    "</br>"
   ]
  },
  {
   "attachments": {},
   "cell_type": "markdown",
   "metadata": {},
   "source": [
    "# <u>Step 2.2: LinearSVC - Conclusion:</u>\n",
    "\n",
    "| Vectorizer                                | Best Average_f1 | Run-Time(minutes) |\n",
    "|-------------------------------------------|-----------------|-------------------|\n",
    "| <code>**CountVectorizer**</code>          | 0.702           | 2                 |  \n",
    "| TfidfVectorizer                           | 0.673           | 5                 |\n",
    "\n",
    "</br></br>"
   ]
  },
  {
   "attachments": {},
   "cell_type": "markdown",
   "metadata": {},
   "source": [
    "# <u>Step 2.3: Decision Tree - Testing:</u>"
   ]
  },
  {
   "attachments": {},
   "cell_type": "markdown",
   "metadata": {},
   "source": [
    "## Step 2.3.1: Decision Tree and CountVectorizer - Testing:\n"
   ]
  },
  {
   "attachments": {},
   "cell_type": "markdown",
   "metadata": {},
   "source": [
    "### Test 1:"
   ]
  },
  {
   "cell_type": "code",
   "execution_count": null,
   "metadata": {},
   "outputs": [],
   "source": [
    "# Define pipeline\n",
    "pipeline_train = Pipeline([\n",
    "    ('vectorizer', CountVectorizer()),\n",
    "    ('classifier', DecisionTreeClassifier())\n",
    "])\n",
    "\n",
    "# Define parameter grid for grid search\n",
    "param_grid = [\n",
    "    {\n",
    "        'vectorizer': [CountVectorizer()],\n",
    "        'vectorizer__max_features': [10_000, 30_000],\n",
    "        'vectorizer__ngram_range': [(1,1), (1,2)],\n",
    "        'vectorizer__min_df': [1, 2, 3],\n",
    "        'classifier': [DecisionTreeClassifier()],\n",
    "        'classifier__max_depth': [5, 15, 25],\n",
    "        'classifier__min_samples_split': [2, 4, 6],\n",
    "        'classifier__min_samples_leaf': [1, 3, 5],\n",
    "        'classifier__criterion': ['gini', 'entropy']\n",
    "    }\n",
    "]\n",
    "# Perform grid search\n",
    "grid_search = GridSearchCV(pipeline_train, param_grid=param_grid, scoring='f1_macro', cv=5)\n",
    "grid_search.fit(df_train_tokenized['story'], df_train_tokenized['gender'])\n",
    "\n",
    "# Print best parameter combination and corresponding score\n",
    "print(grid_search.best_params_)\n",
    "print(grid_search.best_score_)"
   ]
  },
  {
   "cell_type": "code",
   "execution_count": 21,
   "metadata": {},
   "outputs": [
    {
     "data": {
      "text/html": [
       "<style>#sk-container-id-5 {color: black;background-color: white;}#sk-container-id-5 pre{padding: 0;}#sk-container-id-5 div.sk-toggleable {background-color: white;}#sk-container-id-5 label.sk-toggleable__label {cursor: pointer;display: block;width: 100%;margin-bottom: 0;padding: 0.3em;box-sizing: border-box;text-align: center;}#sk-container-id-5 label.sk-toggleable__label-arrow:before {content: \"▸\";float: left;margin-right: 0.25em;color: #696969;}#sk-container-id-5 label.sk-toggleable__label-arrow:hover:before {color: black;}#sk-container-id-5 div.sk-estimator:hover label.sk-toggleable__label-arrow:before {color: black;}#sk-container-id-5 div.sk-toggleable__content {max-height: 0;max-width: 0;overflow: hidden;text-align: left;background-color: #f0f8ff;}#sk-container-id-5 div.sk-toggleable__content pre {margin: 0.2em;color: black;border-radius: 0.25em;background-color: #f0f8ff;}#sk-container-id-5 input.sk-toggleable__control:checked~div.sk-toggleable__content {max-height: 200px;max-width: 100%;overflow: auto;}#sk-container-id-5 input.sk-toggleable__control:checked~label.sk-toggleable__label-arrow:before {content: \"▾\";}#sk-container-id-5 div.sk-estimator input.sk-toggleable__control:checked~label.sk-toggleable__label {background-color: #d4ebff;}#sk-container-id-5 div.sk-label input.sk-toggleable__control:checked~label.sk-toggleable__label {background-color: #d4ebff;}#sk-container-id-5 input.sk-hidden--visually {border: 0;clip: rect(1px 1px 1px 1px);clip: rect(1px, 1px, 1px, 1px);height: 1px;margin: -1px;overflow: hidden;padding: 0;position: absolute;width: 1px;}#sk-container-id-5 div.sk-estimator {font-family: monospace;background-color: #f0f8ff;border: 1px dotted black;border-radius: 0.25em;box-sizing: border-box;margin-bottom: 0.5em;}#sk-container-id-5 div.sk-estimator:hover {background-color: #d4ebff;}#sk-container-id-5 div.sk-parallel-item::after {content: \"\";width: 100%;border-bottom: 1px solid gray;flex-grow: 1;}#sk-container-id-5 div.sk-label:hover label.sk-toggleable__label {background-color: #d4ebff;}#sk-container-id-5 div.sk-serial::before {content: \"\";position: absolute;border-left: 1px solid gray;box-sizing: border-box;top: 0;bottom: 0;left: 50%;z-index: 0;}#sk-container-id-5 div.sk-serial {display: flex;flex-direction: column;align-items: center;background-color: white;padding-right: 0.2em;padding-left: 0.2em;position: relative;}#sk-container-id-5 div.sk-item {position: relative;z-index: 1;}#sk-container-id-5 div.sk-parallel {display: flex;align-items: stretch;justify-content: center;background-color: white;position: relative;}#sk-container-id-5 div.sk-item::before, #sk-container-id-5 div.sk-parallel-item::before {content: \"\";position: absolute;border-left: 1px solid gray;box-sizing: border-box;top: 0;bottom: 0;left: 50%;z-index: -1;}#sk-container-id-5 div.sk-parallel-item {display: flex;flex-direction: column;z-index: 1;position: relative;background-color: white;}#sk-container-id-5 div.sk-parallel-item:first-child::after {align-self: flex-end;width: 50%;}#sk-container-id-5 div.sk-parallel-item:last-child::after {align-self: flex-start;width: 50%;}#sk-container-id-5 div.sk-parallel-item:only-child::after {width: 0;}#sk-container-id-5 div.sk-dashed-wrapped {border: 1px dashed gray;margin: 0 0.4em 0.5em 0.4em;box-sizing: border-box;padding-bottom: 0.4em;background-color: white;}#sk-container-id-5 div.sk-label label {font-family: monospace;font-weight: bold;display: inline-block;line-height: 1.2em;}#sk-container-id-5 div.sk-label-container {text-align: center;}#sk-container-id-5 div.sk-container {/* jupyter's `normalize.less` sets `[hidden] { display: none; }` but bootstrap.min.css set `[hidden] { display: none !important; }` so we also need the `!important` here to be able to override the default hidden behavior on the sphinx rendered scikit-learn.org. See: https://github.com/scikit-learn/scikit-learn/issues/21755 */display: inline-block !important;position: relative;}#sk-container-id-5 div.sk-text-repr-fallback {display: none;}</style><div id=\"sk-container-id-5\" class=\"sk-top-container\"><div class=\"sk-text-repr-fallback\"><pre>GridSearchCV(cv=5,\n",
       "             estimator=Pipeline(steps=[(&#x27;vectorizer&#x27;, CountVectorizer()),\n",
       "                                       (&#x27;classifier&#x27;,\n",
       "                                        DecisionTreeClassifier())]),\n",
       "             param_grid=[{&#x27;classifier&#x27;: [DecisionTreeClassifier(criterion=&#x27;entropy&#x27;,\n",
       "                                                                max_depth=10,\n",
       "                                                                min_samples_split=4)],\n",
       "                          &#x27;classifier__criterion&#x27;: [&#x27;gini&#x27;, &#x27;entropy&#x27;],\n",
       "                          &#x27;classifier__max_depth&#x27;: [5, 10],\n",
       "                          &#x27;classifier__min_samples_split&#x27;: [2, 4],\n",
       "                          &#x27;vectorizer&#x27;: [CountVectorizer(max_features=30000,\n",
       "                                                         min_df=2)],\n",
       "                          &#x27;vectorizer__max_features&#x27;: [10000, 30000],\n",
       "                          &#x27;vectorizer__min_df&#x27;: [1, 2, 3],\n",
       "                          &#x27;vectorizer__ngram_range&#x27;: [(1, 1), (1, 2)]}],\n",
       "             scoring=&#x27;f1_macro&#x27;)</pre><b>In a Jupyter environment, please rerun this cell to show the HTML representation or trust the notebook. <br />On GitHub, the HTML representation is unable to render, please try loading this page with nbviewer.org.</b></div><div class=\"sk-container\" hidden><div class=\"sk-item sk-dashed-wrapped\"><div class=\"sk-label-container\"><div class=\"sk-label sk-toggleable\"><input class=\"sk-toggleable__control sk-hidden--visually\" id=\"sk-estimator-id-17\" type=\"checkbox\" ><label for=\"sk-estimator-id-17\" class=\"sk-toggleable__label sk-toggleable__label-arrow\">GridSearchCV</label><div class=\"sk-toggleable__content\"><pre>GridSearchCV(cv=5,\n",
       "             estimator=Pipeline(steps=[(&#x27;vectorizer&#x27;, CountVectorizer()),\n",
       "                                       (&#x27;classifier&#x27;,\n",
       "                                        DecisionTreeClassifier())]),\n",
       "             param_grid=[{&#x27;classifier&#x27;: [DecisionTreeClassifier(criterion=&#x27;entropy&#x27;,\n",
       "                                                                max_depth=10,\n",
       "                                                                min_samples_split=4)],\n",
       "                          &#x27;classifier__criterion&#x27;: [&#x27;gini&#x27;, &#x27;entropy&#x27;],\n",
       "                          &#x27;classifier__max_depth&#x27;: [5, 10],\n",
       "                          &#x27;classifier__min_samples_split&#x27;: [2, 4],\n",
       "                          &#x27;vectorizer&#x27;: [CountVectorizer(max_features=30000,\n",
       "                                                         min_df=2)],\n",
       "                          &#x27;vectorizer__max_features&#x27;: [10000, 30000],\n",
       "                          &#x27;vectorizer__min_df&#x27;: [1, 2, 3],\n",
       "                          &#x27;vectorizer__ngram_range&#x27;: [(1, 1), (1, 2)]}],\n",
       "             scoring=&#x27;f1_macro&#x27;)</pre></div></div></div><div class=\"sk-parallel\"><div class=\"sk-parallel-item\"><div class=\"sk-item\"><div class=\"sk-label-container\"><div class=\"sk-label sk-toggleable\"><input class=\"sk-toggleable__control sk-hidden--visually\" id=\"sk-estimator-id-18\" type=\"checkbox\" ><label for=\"sk-estimator-id-18\" class=\"sk-toggleable__label sk-toggleable__label-arrow\">estimator: Pipeline</label><div class=\"sk-toggleable__content\"><pre>Pipeline(steps=[(&#x27;vectorizer&#x27;, CountVectorizer()),\n",
       "                (&#x27;classifier&#x27;, DecisionTreeClassifier())])</pre></div></div></div><div class=\"sk-serial\"><div class=\"sk-item\"><div class=\"sk-serial\"><div class=\"sk-item\"><div class=\"sk-estimator sk-toggleable\"><input class=\"sk-toggleable__control sk-hidden--visually\" id=\"sk-estimator-id-19\" type=\"checkbox\" ><label for=\"sk-estimator-id-19\" class=\"sk-toggleable__label sk-toggleable__label-arrow\">CountVectorizer</label><div class=\"sk-toggleable__content\"><pre>CountVectorizer()</pre></div></div></div><div class=\"sk-item\"><div class=\"sk-estimator sk-toggleable\"><input class=\"sk-toggleable__control sk-hidden--visually\" id=\"sk-estimator-id-20\" type=\"checkbox\" ><label for=\"sk-estimator-id-20\" class=\"sk-toggleable__label sk-toggleable__label-arrow\">DecisionTreeClassifier</label><div class=\"sk-toggleable__content\"><pre>DecisionTreeClassifier()</pre></div></div></div></div></div></div></div></div></div></div></div></div>"
      ],
      "text/plain": [
       "GridSearchCV(cv=5,\n",
       "             estimator=Pipeline(steps=[('vectorizer', CountVectorizer()),\n",
       "                                       ('classifier',\n",
       "                                        DecisionTreeClassifier())]),\n",
       "             param_grid=[{'classifier': [DecisionTreeClassifier(criterion='entropy',\n",
       "                                                                max_depth=10,\n",
       "                                                                min_samples_split=4)],\n",
       "                          'classifier__criterion': ['gini', 'entropy'],\n",
       "                          'classifier__max_depth': [5, 10],\n",
       "                          'classifier__min_samples_split': [2, 4],\n",
       "                          'vectorizer': [CountVectorizer(max_features=30000,\n",
       "                                                         min_df=2)],\n",
       "                          'vectorizer__max_features': [10000, 30000],\n",
       "                          'vectorizer__min_df': [1, 2, 3],\n",
       "                          'vectorizer__ngram_range': [(1, 1), (1, 2)]}],\n",
       "             scoring='f1_macro')"
      ]
     },
     "execution_count": 21,
     "metadata": {},
     "output_type": "execute_result"
    },
    {
     "name": "stdout",
     "output_type": "stream",
     "text": [
      "{'classifier': DecisionTreeClassifier(criterion='entropy', max_depth=10, min_samples_split=4), 'classifier__criterion': 'entropy', 'classifier__max_depth': 10, 'classifier__min_samples_split': 4, 'vectorizer': CountVectorizer(max_features=30000, min_df=2), 'vectorizer__max_features': 30000, 'vectorizer__min_df': 2, 'vectorizer__ngram_range': (1, 1)}\n",
      "0.5828333289675582\n"
     ]
    }
   ],
   "source": [
    "# Define pipeline\n",
    "pipeline_train = Pipeline([\n",
    "    ('vectorizer', CountVectorizer()),\n",
    "    ('classifier', DecisionTreeClassifier())\n",
    "])\n",
    "\n",
    "# Define parameter grid for grid search\n",
    "param_grid = [\n",
    "    {\n",
    "        'vectorizer': [CountVectorizer()],\n",
    "        'vectorizer__max_features': [10_000, 30_000],\n",
    "        'vectorizer__ngram_range': [(1,1), (1,2)],\n",
    "        'vectorizer__min_df': [1, 2, 3],\n",
    "        'classifier': [DecisionTreeClassifier()],\n",
    "        'classifier__max_depth': [5, 10],\n",
    "        'classifier__min_samples_split': [2, 4],\n",
    "        'classifier__criterion': ['gini', 'entropy']\n",
    "    }\n",
    "]\n",
    "# Perform grid search\n",
    "grid_search = GridSearchCV(pipeline_train, param_grid=param_grid, scoring='f1_macro', cv=5)\n",
    "grid_search.fit(df_train_tokenized['story'], df_train_tokenized['gender'])\n",
    "\n",
    "# Print best parameter combination and corresponding score\n",
    "print(grid_search.best_params_)\n",
    "print(grid_search.best_score_)"
   ]
  },
  {
   "attachments": {},
   "cell_type": "markdown",
   "metadata": {},
   "source": [
    "### Test 1 Results:\n",
    "* Average_f1 ≈ 0.582\n",
    "* Run-Time ≈ 5 minutes\n",
    "\n",
    "Well, our start is unfortunately not so good.</br>\n",
    "Seems like Countvectorizer and Decision Tree don't work that well with this paticulary dataset.</br>\n",
    "Despite that, we should try one more test with different values to see if we can get the model to produce us a reasonable <code>Average_f1</code> value."
   ]
  },
  {
   "attachments": {},
   "cell_type": "markdown",
   "metadata": {},
   "source": [
    "### Test 2:"
   ]
  },
  {
   "cell_type": "code",
   "execution_count": 22,
   "metadata": {},
   "outputs": [
    {
     "data": {
      "text/html": [
       "<style>#sk-container-id-6 {color: black;background-color: white;}#sk-container-id-6 pre{padding: 0;}#sk-container-id-6 div.sk-toggleable {background-color: white;}#sk-container-id-6 label.sk-toggleable__label {cursor: pointer;display: block;width: 100%;margin-bottom: 0;padding: 0.3em;box-sizing: border-box;text-align: center;}#sk-container-id-6 label.sk-toggleable__label-arrow:before {content: \"▸\";float: left;margin-right: 0.25em;color: #696969;}#sk-container-id-6 label.sk-toggleable__label-arrow:hover:before {color: black;}#sk-container-id-6 div.sk-estimator:hover label.sk-toggleable__label-arrow:before {color: black;}#sk-container-id-6 div.sk-toggleable__content {max-height: 0;max-width: 0;overflow: hidden;text-align: left;background-color: #f0f8ff;}#sk-container-id-6 div.sk-toggleable__content pre {margin: 0.2em;color: black;border-radius: 0.25em;background-color: #f0f8ff;}#sk-container-id-6 input.sk-toggleable__control:checked~div.sk-toggleable__content {max-height: 200px;max-width: 100%;overflow: auto;}#sk-container-id-6 input.sk-toggleable__control:checked~label.sk-toggleable__label-arrow:before {content: \"▾\";}#sk-container-id-6 div.sk-estimator input.sk-toggleable__control:checked~label.sk-toggleable__label {background-color: #d4ebff;}#sk-container-id-6 div.sk-label input.sk-toggleable__control:checked~label.sk-toggleable__label {background-color: #d4ebff;}#sk-container-id-6 input.sk-hidden--visually {border: 0;clip: rect(1px 1px 1px 1px);clip: rect(1px, 1px, 1px, 1px);height: 1px;margin: -1px;overflow: hidden;padding: 0;position: absolute;width: 1px;}#sk-container-id-6 div.sk-estimator {font-family: monospace;background-color: #f0f8ff;border: 1px dotted black;border-radius: 0.25em;box-sizing: border-box;margin-bottom: 0.5em;}#sk-container-id-6 div.sk-estimator:hover {background-color: #d4ebff;}#sk-container-id-6 div.sk-parallel-item::after {content: \"\";width: 100%;border-bottom: 1px solid gray;flex-grow: 1;}#sk-container-id-6 div.sk-label:hover label.sk-toggleable__label {background-color: #d4ebff;}#sk-container-id-6 div.sk-serial::before {content: \"\";position: absolute;border-left: 1px solid gray;box-sizing: border-box;top: 0;bottom: 0;left: 50%;z-index: 0;}#sk-container-id-6 div.sk-serial {display: flex;flex-direction: column;align-items: center;background-color: white;padding-right: 0.2em;padding-left: 0.2em;position: relative;}#sk-container-id-6 div.sk-item {position: relative;z-index: 1;}#sk-container-id-6 div.sk-parallel {display: flex;align-items: stretch;justify-content: center;background-color: white;position: relative;}#sk-container-id-6 div.sk-item::before, #sk-container-id-6 div.sk-parallel-item::before {content: \"\";position: absolute;border-left: 1px solid gray;box-sizing: border-box;top: 0;bottom: 0;left: 50%;z-index: -1;}#sk-container-id-6 div.sk-parallel-item {display: flex;flex-direction: column;z-index: 1;position: relative;background-color: white;}#sk-container-id-6 div.sk-parallel-item:first-child::after {align-self: flex-end;width: 50%;}#sk-container-id-6 div.sk-parallel-item:last-child::after {align-self: flex-start;width: 50%;}#sk-container-id-6 div.sk-parallel-item:only-child::after {width: 0;}#sk-container-id-6 div.sk-dashed-wrapped {border: 1px dashed gray;margin: 0 0.4em 0.5em 0.4em;box-sizing: border-box;padding-bottom: 0.4em;background-color: white;}#sk-container-id-6 div.sk-label label {font-family: monospace;font-weight: bold;display: inline-block;line-height: 1.2em;}#sk-container-id-6 div.sk-label-container {text-align: center;}#sk-container-id-6 div.sk-container {/* jupyter's `normalize.less` sets `[hidden] { display: none; }` but bootstrap.min.css set `[hidden] { display: none !important; }` so we also need the `!important` here to be able to override the default hidden behavior on the sphinx rendered scikit-learn.org. See: https://github.com/scikit-learn/scikit-learn/issues/21755 */display: inline-block !important;position: relative;}#sk-container-id-6 div.sk-text-repr-fallback {display: none;}</style><div id=\"sk-container-id-6\" class=\"sk-top-container\"><div class=\"sk-text-repr-fallback\"><pre>GridSearchCV(cv=10,\n",
       "             estimator=Pipeline(steps=[(&#x27;vectorizer&#x27;, CountVectorizer()),\n",
       "                                       (&#x27;classifier&#x27;,\n",
       "                                        DecisionTreeClassifier())]),\n",
       "             param_grid=[{&#x27;classifier&#x27;: [DecisionTreeClassifier(criterion=&#x27;entropy&#x27;,\n",
       "                                                                max_depth=10,\n",
       "                                                                min_samples_split=3)],\n",
       "                          &#x27;classifier__criterion&#x27;: [&#x27;entropy&#x27;],\n",
       "                          &#x27;classifier__max_depth&#x27;: [6, 10],\n",
       "                          &#x27;classifier__min_samples_leaf&#x27;: [1, 3],\n",
       "                          &#x27;classifier__min_samples_split&#x27;: [3, 4],\n",
       "                          &#x27;vectorizer&#x27;: [CountVectorizer(max_features=10000)],\n",
       "                          &#x27;vectorizer__max_features&#x27;: [10000, 30000],\n",
       "                          &#x27;vectorizer__min_df&#x27;: [1, 2],\n",
       "                          &#x27;vectorizer__ngram_range&#x27;: [(1, 1), (1, 2)]}],\n",
       "             scoring=&#x27;f1_macro&#x27;)</pre><b>In a Jupyter environment, please rerun this cell to show the HTML representation or trust the notebook. <br />On GitHub, the HTML representation is unable to render, please try loading this page with nbviewer.org.</b></div><div class=\"sk-container\" hidden><div class=\"sk-item sk-dashed-wrapped\"><div class=\"sk-label-container\"><div class=\"sk-label sk-toggleable\"><input class=\"sk-toggleable__control sk-hidden--visually\" id=\"sk-estimator-id-21\" type=\"checkbox\" ><label for=\"sk-estimator-id-21\" class=\"sk-toggleable__label sk-toggleable__label-arrow\">GridSearchCV</label><div class=\"sk-toggleable__content\"><pre>GridSearchCV(cv=10,\n",
       "             estimator=Pipeline(steps=[(&#x27;vectorizer&#x27;, CountVectorizer()),\n",
       "                                       (&#x27;classifier&#x27;,\n",
       "                                        DecisionTreeClassifier())]),\n",
       "             param_grid=[{&#x27;classifier&#x27;: [DecisionTreeClassifier(criterion=&#x27;entropy&#x27;,\n",
       "                                                                max_depth=10,\n",
       "                                                                min_samples_split=3)],\n",
       "                          &#x27;classifier__criterion&#x27;: [&#x27;entropy&#x27;],\n",
       "                          &#x27;classifier__max_depth&#x27;: [6, 10],\n",
       "                          &#x27;classifier__min_samples_leaf&#x27;: [1, 3],\n",
       "                          &#x27;classifier__min_samples_split&#x27;: [3, 4],\n",
       "                          &#x27;vectorizer&#x27;: [CountVectorizer(max_features=10000)],\n",
       "                          &#x27;vectorizer__max_features&#x27;: [10000, 30000],\n",
       "                          &#x27;vectorizer__min_df&#x27;: [1, 2],\n",
       "                          &#x27;vectorizer__ngram_range&#x27;: [(1, 1), (1, 2)]}],\n",
       "             scoring=&#x27;f1_macro&#x27;)</pre></div></div></div><div class=\"sk-parallel\"><div class=\"sk-parallel-item\"><div class=\"sk-item\"><div class=\"sk-label-container\"><div class=\"sk-label sk-toggleable\"><input class=\"sk-toggleable__control sk-hidden--visually\" id=\"sk-estimator-id-22\" type=\"checkbox\" ><label for=\"sk-estimator-id-22\" class=\"sk-toggleable__label sk-toggleable__label-arrow\">estimator: Pipeline</label><div class=\"sk-toggleable__content\"><pre>Pipeline(steps=[(&#x27;vectorizer&#x27;, CountVectorizer()),\n",
       "                (&#x27;classifier&#x27;, DecisionTreeClassifier())])</pre></div></div></div><div class=\"sk-serial\"><div class=\"sk-item\"><div class=\"sk-serial\"><div class=\"sk-item\"><div class=\"sk-estimator sk-toggleable\"><input class=\"sk-toggleable__control sk-hidden--visually\" id=\"sk-estimator-id-23\" type=\"checkbox\" ><label for=\"sk-estimator-id-23\" class=\"sk-toggleable__label sk-toggleable__label-arrow\">CountVectorizer</label><div class=\"sk-toggleable__content\"><pre>CountVectorizer()</pre></div></div></div><div class=\"sk-item\"><div class=\"sk-estimator sk-toggleable\"><input class=\"sk-toggleable__control sk-hidden--visually\" id=\"sk-estimator-id-24\" type=\"checkbox\" ><label for=\"sk-estimator-id-24\" class=\"sk-toggleable__label sk-toggleable__label-arrow\">DecisionTreeClassifier</label><div class=\"sk-toggleable__content\"><pre>DecisionTreeClassifier()</pre></div></div></div></div></div></div></div></div></div></div></div></div>"
      ],
      "text/plain": [
       "GridSearchCV(cv=10,\n",
       "             estimator=Pipeline(steps=[('vectorizer', CountVectorizer()),\n",
       "                                       ('classifier',\n",
       "                                        DecisionTreeClassifier())]),\n",
       "             param_grid=[{'classifier': [DecisionTreeClassifier(criterion='entropy',\n",
       "                                                                max_depth=10,\n",
       "                                                                min_samples_split=3)],\n",
       "                          'classifier__criterion': ['entropy'],\n",
       "                          'classifier__max_depth': [6, 10],\n",
       "                          'classifier__min_samples_leaf': [1, 3],\n",
       "                          'classifier__min_samples_split': [3, 4],\n",
       "                          'vectorizer': [CountVectorizer(max_features=10000)],\n",
       "                          'vectorizer__max_features': [10000, 30000],\n",
       "                          'vectorizer__min_df': [1, 2],\n",
       "                          'vectorizer__ngram_range': [(1, 1), (1, 2)]}],\n",
       "             scoring='f1_macro')"
      ]
     },
     "execution_count": 22,
     "metadata": {},
     "output_type": "execute_result"
    },
    {
     "name": "stdout",
     "output_type": "stream",
     "text": [
      "{'classifier': DecisionTreeClassifier(criterion='entropy', max_depth=10, min_samples_split=3), 'classifier__criterion': 'entropy', 'classifier__max_depth': 10, 'classifier__min_samples_leaf': 1, 'classifier__min_samples_split': 3, 'vectorizer': CountVectorizer(max_features=10000), 'vectorizer__max_features': 10000, 'vectorizer__min_df': 1, 'vectorizer__ngram_range': (1, 1)}\n",
      "0.5831007906488838\n"
     ]
    }
   ],
   "source": [
    "# Define pipeline\n",
    "pipeline_train = Pipeline([\n",
    "    ('vectorizer', CountVectorizer()),\n",
    "    ('classifier', DecisionTreeClassifier())\n",
    "])\n",
    "\n",
    "# Define parameter grid for grid search\n",
    "param_grid = [\n",
    "    {\n",
    "        'vectorizer': [CountVectorizer()],\n",
    "        'vectorizer__max_features': [10_000, 30_000],\n",
    "        'vectorizer__ngram_range': [(1,1), (1,2)],\n",
    "        'vectorizer__min_df': [1, 2],\n",
    "        'classifier': [DecisionTreeClassifier()],\n",
    "        'classifier__max_depth': [6, 10],\n",
    "        'classifier__min_samples_split': [3, 4],\n",
    "        'classifier__min_samples_leaf': [1, 3],\n",
    "        'classifier__criterion': ['entropy']\n",
    "    }\n",
    "]\n",
    "# Perform grid search\n",
    "grid_search = GridSearchCV(pipeline_train, param_grid=param_grid, scoring='f1_macro', cv=10)\n",
    "grid_search.fit(df_train_tokenized['story'], df_train_tokenized['gender'])\n",
    "\n",
    "# Print best parameter combination and corresponding score\n",
    "print(grid_search.best_params_)\n",
    "print(grid_search.best_score_)"
   ]
  },
  {
   "attachments": {},
   "cell_type": "markdown",
   "metadata": {},
   "source": [
    "### Test 2 Results:\n",
    "* Average_f1 ≈ 0.583\n",
    "* Run-Time ≈ 7.30 minutes\n",
    "\n",
    "Unfortunately, we only got minor changes for larger time spent that doesn't make the cut,</br>\n",
    "therefore it can be concluded that CountVectorizer and Decision Tree aren't fit for the dataset."
   ]
  },
  {
   "attachments": {},
   "cell_type": "markdown",
   "metadata": {},
   "source": [
    "## Step 2.3.1: Decision Tree and CountVectorizer - Conclusion:\n",
    "\n",
    "| Test no.              | Average_f1 | Run-Time(minutes) |\n",
    "|-----------------------|------------|-------------------|\n",
    "| 1                     | 0.582      | 5                 |  \n",
    "| 2                     | 0.583      | 7.30              |\n",
    "\n",
    "</br>"
   ]
  },
  {
   "attachments": {},
   "cell_type": "markdown",
   "metadata": {},
   "source": [
    "## Step 2.3.2: Decision Tree and TfidfVectorizer - Testing:"
   ]
  },
  {
   "attachments": {},
   "cell_type": "markdown",
   "metadata": {},
   "source": [
    "### Test 1:"
   ]
  },
  {
   "cell_type": "code",
   "execution_count": 23,
   "metadata": {},
   "outputs": [
    {
     "data": {
      "text/html": [
       "<style>#sk-container-id-7 {color: black;background-color: white;}#sk-container-id-7 pre{padding: 0;}#sk-container-id-7 div.sk-toggleable {background-color: white;}#sk-container-id-7 label.sk-toggleable__label {cursor: pointer;display: block;width: 100%;margin-bottom: 0;padding: 0.3em;box-sizing: border-box;text-align: center;}#sk-container-id-7 label.sk-toggleable__label-arrow:before {content: \"▸\";float: left;margin-right: 0.25em;color: #696969;}#sk-container-id-7 label.sk-toggleable__label-arrow:hover:before {color: black;}#sk-container-id-7 div.sk-estimator:hover label.sk-toggleable__label-arrow:before {color: black;}#sk-container-id-7 div.sk-toggleable__content {max-height: 0;max-width: 0;overflow: hidden;text-align: left;background-color: #f0f8ff;}#sk-container-id-7 div.sk-toggleable__content pre {margin: 0.2em;color: black;border-radius: 0.25em;background-color: #f0f8ff;}#sk-container-id-7 input.sk-toggleable__control:checked~div.sk-toggleable__content {max-height: 200px;max-width: 100%;overflow: auto;}#sk-container-id-7 input.sk-toggleable__control:checked~label.sk-toggleable__label-arrow:before {content: \"▾\";}#sk-container-id-7 div.sk-estimator input.sk-toggleable__control:checked~label.sk-toggleable__label {background-color: #d4ebff;}#sk-container-id-7 div.sk-label input.sk-toggleable__control:checked~label.sk-toggleable__label {background-color: #d4ebff;}#sk-container-id-7 input.sk-hidden--visually {border: 0;clip: rect(1px 1px 1px 1px);clip: rect(1px, 1px, 1px, 1px);height: 1px;margin: -1px;overflow: hidden;padding: 0;position: absolute;width: 1px;}#sk-container-id-7 div.sk-estimator {font-family: monospace;background-color: #f0f8ff;border: 1px dotted black;border-radius: 0.25em;box-sizing: border-box;margin-bottom: 0.5em;}#sk-container-id-7 div.sk-estimator:hover {background-color: #d4ebff;}#sk-container-id-7 div.sk-parallel-item::after {content: \"\";width: 100%;border-bottom: 1px solid gray;flex-grow: 1;}#sk-container-id-7 div.sk-label:hover label.sk-toggleable__label {background-color: #d4ebff;}#sk-container-id-7 div.sk-serial::before {content: \"\";position: absolute;border-left: 1px solid gray;box-sizing: border-box;top: 0;bottom: 0;left: 50%;z-index: 0;}#sk-container-id-7 div.sk-serial {display: flex;flex-direction: column;align-items: center;background-color: white;padding-right: 0.2em;padding-left: 0.2em;position: relative;}#sk-container-id-7 div.sk-item {position: relative;z-index: 1;}#sk-container-id-7 div.sk-parallel {display: flex;align-items: stretch;justify-content: center;background-color: white;position: relative;}#sk-container-id-7 div.sk-item::before, #sk-container-id-7 div.sk-parallel-item::before {content: \"\";position: absolute;border-left: 1px solid gray;box-sizing: border-box;top: 0;bottom: 0;left: 50%;z-index: -1;}#sk-container-id-7 div.sk-parallel-item {display: flex;flex-direction: column;z-index: 1;position: relative;background-color: white;}#sk-container-id-7 div.sk-parallel-item:first-child::after {align-self: flex-end;width: 50%;}#sk-container-id-7 div.sk-parallel-item:last-child::after {align-self: flex-start;width: 50%;}#sk-container-id-7 div.sk-parallel-item:only-child::after {width: 0;}#sk-container-id-7 div.sk-dashed-wrapped {border: 1px dashed gray;margin: 0 0.4em 0.5em 0.4em;box-sizing: border-box;padding-bottom: 0.4em;background-color: white;}#sk-container-id-7 div.sk-label label {font-family: monospace;font-weight: bold;display: inline-block;line-height: 1.2em;}#sk-container-id-7 div.sk-label-container {text-align: center;}#sk-container-id-7 div.sk-container {/* jupyter's `normalize.less` sets `[hidden] { display: none; }` but bootstrap.min.css set `[hidden] { display: none !important; }` so we also need the `!important` here to be able to override the default hidden behavior on the sphinx rendered scikit-learn.org. See: https://github.com/scikit-learn/scikit-learn/issues/21755 */display: inline-block !important;position: relative;}#sk-container-id-7 div.sk-text-repr-fallback {display: none;}</style><div id=\"sk-container-id-7\" class=\"sk-top-container\"><div class=\"sk-text-repr-fallback\"><pre>GridSearchCV(cv=5,\n",
       "             estimator=Pipeline(steps=[(&#x27;vectorizer&#x27;, TfidfVectorizer()),\n",
       "                                       (&#x27;classifier&#x27;,\n",
       "                                        DecisionTreeClassifier())]),\n",
       "             param_grid=[{&#x27;classifier&#x27;: [DecisionTreeClassifier(max_depth=10)],\n",
       "                          &#x27;classifier__criterion&#x27;: [&#x27;gini&#x27;, &#x27;entropy&#x27;],\n",
       "                          &#x27;classifier__max_depth&#x27;: [5, 10],\n",
       "                          &#x27;classifier__min_samples_split&#x27;: [2, 4],\n",
       "                          &#x27;vectorizer&#x27;: [TfidfVectorizer(max_features=30000,\n",
       "                                                         min_df=3,\n",
       "                                                         ngram_range=(1, 2))],\n",
       "                          &#x27;vectorizer__max_features&#x27;: [10000, 30000],\n",
       "                          &#x27;vectorizer__min_df&#x27;: [1, 2, 3],\n",
       "                          &#x27;vectorizer__ngram_range&#x27;: [(1, 1), (1, 2)]}],\n",
       "             scoring=&#x27;f1_macro&#x27;)</pre><b>In a Jupyter environment, please rerun this cell to show the HTML representation or trust the notebook. <br />On GitHub, the HTML representation is unable to render, please try loading this page with nbviewer.org.</b></div><div class=\"sk-container\" hidden><div class=\"sk-item sk-dashed-wrapped\"><div class=\"sk-label-container\"><div class=\"sk-label sk-toggleable\"><input class=\"sk-toggleable__control sk-hidden--visually\" id=\"sk-estimator-id-25\" type=\"checkbox\" ><label for=\"sk-estimator-id-25\" class=\"sk-toggleable__label sk-toggleable__label-arrow\">GridSearchCV</label><div class=\"sk-toggleable__content\"><pre>GridSearchCV(cv=5,\n",
       "             estimator=Pipeline(steps=[(&#x27;vectorizer&#x27;, TfidfVectorizer()),\n",
       "                                       (&#x27;classifier&#x27;,\n",
       "                                        DecisionTreeClassifier())]),\n",
       "             param_grid=[{&#x27;classifier&#x27;: [DecisionTreeClassifier(max_depth=10)],\n",
       "                          &#x27;classifier__criterion&#x27;: [&#x27;gini&#x27;, &#x27;entropy&#x27;],\n",
       "                          &#x27;classifier__max_depth&#x27;: [5, 10],\n",
       "                          &#x27;classifier__min_samples_split&#x27;: [2, 4],\n",
       "                          &#x27;vectorizer&#x27;: [TfidfVectorizer(max_features=30000,\n",
       "                                                         min_df=3,\n",
       "                                                         ngram_range=(1, 2))],\n",
       "                          &#x27;vectorizer__max_features&#x27;: [10000, 30000],\n",
       "                          &#x27;vectorizer__min_df&#x27;: [1, 2, 3],\n",
       "                          &#x27;vectorizer__ngram_range&#x27;: [(1, 1), (1, 2)]}],\n",
       "             scoring=&#x27;f1_macro&#x27;)</pre></div></div></div><div class=\"sk-parallel\"><div class=\"sk-parallel-item\"><div class=\"sk-item\"><div class=\"sk-label-container\"><div class=\"sk-label sk-toggleable\"><input class=\"sk-toggleable__control sk-hidden--visually\" id=\"sk-estimator-id-26\" type=\"checkbox\" ><label for=\"sk-estimator-id-26\" class=\"sk-toggleable__label sk-toggleable__label-arrow\">estimator: Pipeline</label><div class=\"sk-toggleable__content\"><pre>Pipeline(steps=[(&#x27;vectorizer&#x27;, TfidfVectorizer()),\n",
       "                (&#x27;classifier&#x27;, DecisionTreeClassifier())])</pre></div></div></div><div class=\"sk-serial\"><div class=\"sk-item\"><div class=\"sk-serial\"><div class=\"sk-item\"><div class=\"sk-estimator sk-toggleable\"><input class=\"sk-toggleable__control sk-hidden--visually\" id=\"sk-estimator-id-27\" type=\"checkbox\" ><label for=\"sk-estimator-id-27\" class=\"sk-toggleable__label sk-toggleable__label-arrow\">TfidfVectorizer</label><div class=\"sk-toggleable__content\"><pre>TfidfVectorizer()</pre></div></div></div><div class=\"sk-item\"><div class=\"sk-estimator sk-toggleable\"><input class=\"sk-toggleable__control sk-hidden--visually\" id=\"sk-estimator-id-28\" type=\"checkbox\" ><label for=\"sk-estimator-id-28\" class=\"sk-toggleable__label sk-toggleable__label-arrow\">DecisionTreeClassifier</label><div class=\"sk-toggleable__content\"><pre>DecisionTreeClassifier()</pre></div></div></div></div></div></div></div></div></div></div></div></div>"
      ],
      "text/plain": [
       "GridSearchCV(cv=5,\n",
       "             estimator=Pipeline(steps=[('vectorizer', TfidfVectorizer()),\n",
       "                                       ('classifier',\n",
       "                                        DecisionTreeClassifier())]),\n",
       "             param_grid=[{'classifier': [DecisionTreeClassifier(max_depth=10)],\n",
       "                          'classifier__criterion': ['gini', 'entropy'],\n",
       "                          'classifier__max_depth': [5, 10],\n",
       "                          'classifier__min_samples_split': [2, 4],\n",
       "                          'vectorizer': [TfidfVectorizer(max_features=30000,\n",
       "                                                         min_df=3,\n",
       "                                                         ngram_range=(1, 2))],\n",
       "                          'vectorizer__max_features': [10000, 30000],\n",
       "                          'vectorizer__min_df': [1, 2, 3],\n",
       "                          'vectorizer__ngram_range': [(1, 1), (1, 2)]}],\n",
       "             scoring='f1_macro')"
      ]
     },
     "execution_count": 23,
     "metadata": {},
     "output_type": "execute_result"
    },
    {
     "name": "stdout",
     "output_type": "stream",
     "text": [
      "{'classifier': DecisionTreeClassifier(max_depth=10), 'classifier__criterion': 'gini', 'classifier__max_depth': 10, 'classifier__min_samples_split': 2, 'vectorizer': TfidfVectorizer(max_features=30000, min_df=3, ngram_range=(1, 2)), 'vectorizer__max_features': 30000, 'vectorizer__min_df': 3, 'vectorizer__ngram_range': (1, 2)}\n",
      "0.6294751280010533\n"
     ]
    }
   ],
   "source": [
    "# Define pipeline\n",
    "pipeline_train = Pipeline([\n",
    "    ('vectorizer', TfidfVectorizer()),\n",
    "    ('classifier', DecisionTreeClassifier())\n",
    "])\n",
    "\n",
    "# Define parameter grid for grid search\n",
    "param_grid = [\n",
    "    {\n",
    "        'vectorizer': [TfidfVectorizer()],\n",
    "        'vectorizer__max_features': [10_000, 30_000],\n",
    "        'vectorizer__ngram_range': [(1,1), (1,2)],\n",
    "        'vectorizer__min_df': [1, 2, 3],\n",
    "        'classifier': [DecisionTreeClassifier()],\n",
    "        'classifier__max_depth': [5, 10],\n",
    "        'classifier__min_samples_split': [2, 4],\n",
    "        'classifier__criterion': ['gini', 'entropy']\n",
    "    }\n",
    "]\n",
    "# Perform grid search\n",
    "grid_search = GridSearchCV(pipeline_train, param_grid=param_grid, scoring='f1_macro', cv=5)\n",
    "grid_search.fit(df_train_tokenized['story'], df_train_tokenized['gender'])\n",
    "\n",
    "# Print best parameter combination and corresponding score\n",
    "print(grid_search.best_params_)\n",
    "print(grid_search.best_score_)"
   ]
  },
  {
   "attachments": {},
   "cell_type": "markdown",
   "metadata": {},
   "source": [
    "### Test 1 Results:\n",
    "* Average_f1 ≈ 0.629\n",
    "* Run-Time ≈ 5.30 minutes\n",
    "\n",
    "This is a much better result than what we ever got with the CountVectorizer.</br>\n",
    "Despite that, we should continue to see if we can still continue to improve the <code>Average_f1</code> value.</br>\n",
    "Let's try to increase the <code>cv value</code> and add more value to the hyperparameters."
   ]
  },
  {
   "attachments": {},
   "cell_type": "markdown",
   "metadata": {},
   "source": [
    "### Test 2:"
   ]
  },
  {
   "cell_type": "code",
   "execution_count": 27,
   "metadata": {},
   "outputs": [
    {
     "data": {
      "text/html": [
       "<style>#sk-container-id-9 {color: black;background-color: white;}#sk-container-id-9 pre{padding: 0;}#sk-container-id-9 div.sk-toggleable {background-color: white;}#sk-container-id-9 label.sk-toggleable__label {cursor: pointer;display: block;width: 100%;margin-bottom: 0;padding: 0.3em;box-sizing: border-box;text-align: center;}#sk-container-id-9 label.sk-toggleable__label-arrow:before {content: \"▸\";float: left;margin-right: 0.25em;color: #696969;}#sk-container-id-9 label.sk-toggleable__label-arrow:hover:before {color: black;}#sk-container-id-9 div.sk-estimator:hover label.sk-toggleable__label-arrow:before {color: black;}#sk-container-id-9 div.sk-toggleable__content {max-height: 0;max-width: 0;overflow: hidden;text-align: left;background-color: #f0f8ff;}#sk-container-id-9 div.sk-toggleable__content pre {margin: 0.2em;color: black;border-radius: 0.25em;background-color: #f0f8ff;}#sk-container-id-9 input.sk-toggleable__control:checked~div.sk-toggleable__content {max-height: 200px;max-width: 100%;overflow: auto;}#sk-container-id-9 input.sk-toggleable__control:checked~label.sk-toggleable__label-arrow:before {content: \"▾\";}#sk-container-id-9 div.sk-estimator input.sk-toggleable__control:checked~label.sk-toggleable__label {background-color: #d4ebff;}#sk-container-id-9 div.sk-label input.sk-toggleable__control:checked~label.sk-toggleable__label {background-color: #d4ebff;}#sk-container-id-9 input.sk-hidden--visually {border: 0;clip: rect(1px 1px 1px 1px);clip: rect(1px, 1px, 1px, 1px);height: 1px;margin: -1px;overflow: hidden;padding: 0;position: absolute;width: 1px;}#sk-container-id-9 div.sk-estimator {font-family: monospace;background-color: #f0f8ff;border: 1px dotted black;border-radius: 0.25em;box-sizing: border-box;margin-bottom: 0.5em;}#sk-container-id-9 div.sk-estimator:hover {background-color: #d4ebff;}#sk-container-id-9 div.sk-parallel-item::after {content: \"\";width: 100%;border-bottom: 1px solid gray;flex-grow: 1;}#sk-container-id-9 div.sk-label:hover label.sk-toggleable__label {background-color: #d4ebff;}#sk-container-id-9 div.sk-serial::before {content: \"\";position: absolute;border-left: 1px solid gray;box-sizing: border-box;top: 0;bottom: 0;left: 50%;z-index: 0;}#sk-container-id-9 div.sk-serial {display: flex;flex-direction: column;align-items: center;background-color: white;padding-right: 0.2em;padding-left: 0.2em;position: relative;}#sk-container-id-9 div.sk-item {position: relative;z-index: 1;}#sk-container-id-9 div.sk-parallel {display: flex;align-items: stretch;justify-content: center;background-color: white;position: relative;}#sk-container-id-9 div.sk-item::before, #sk-container-id-9 div.sk-parallel-item::before {content: \"\";position: absolute;border-left: 1px solid gray;box-sizing: border-box;top: 0;bottom: 0;left: 50%;z-index: -1;}#sk-container-id-9 div.sk-parallel-item {display: flex;flex-direction: column;z-index: 1;position: relative;background-color: white;}#sk-container-id-9 div.sk-parallel-item:first-child::after {align-self: flex-end;width: 50%;}#sk-container-id-9 div.sk-parallel-item:last-child::after {align-self: flex-start;width: 50%;}#sk-container-id-9 div.sk-parallel-item:only-child::after {width: 0;}#sk-container-id-9 div.sk-dashed-wrapped {border: 1px dashed gray;margin: 0 0.4em 0.5em 0.4em;box-sizing: border-box;padding-bottom: 0.4em;background-color: white;}#sk-container-id-9 div.sk-label label {font-family: monospace;font-weight: bold;display: inline-block;line-height: 1.2em;}#sk-container-id-9 div.sk-label-container {text-align: center;}#sk-container-id-9 div.sk-container {/* jupyter's `normalize.less` sets `[hidden] { display: none; }` but bootstrap.min.css set `[hidden] { display: none !important; }` so we also need the `!important` here to be able to override the default hidden behavior on the sphinx rendered scikit-learn.org. See: https://github.com/scikit-learn/scikit-learn/issues/21755 */display: inline-block !important;position: relative;}#sk-container-id-9 div.sk-text-repr-fallback {display: none;}</style><div id=\"sk-container-id-9\" class=\"sk-top-container\"><div class=\"sk-text-repr-fallback\"><pre>GridSearchCV(cv=7,\n",
       "             estimator=Pipeline(steps=[(&#x27;vectorizer&#x27;, TfidfVectorizer()),\n",
       "                                       (&#x27;classifier&#x27;,\n",
       "                                        DecisionTreeClassifier())]),\n",
       "             param_grid=[{&#x27;classifier&#x27;: [DecisionTreeClassifier(max_depth=10,\n",
       "                                                                max_features=200,\n",
       "                                                                min_samples_split=4)],\n",
       "                          &#x27;classifier__criterion&#x27;: [&#x27;gini&#x27;],\n",
       "                          &#x27;classifier__max_depth&#x27;: [5, 10],\n",
       "                          &#x27;classifier__max_features&#x27;: [100, 200],\n",
       "                          &#x27;classifier__min_samples_leaf&#x27;: [1, 3],\n",
       "                          &#x27;classifier__min_samples_split&#x27;: [2, 4],\n",
       "                          &#x27;vectorizer&#x27;: [TfidfVectorizer(max_features=20000,\n",
       "                                                         min_df=3)],\n",
       "                          &#x27;vectorizer__max_features&#x27;: [20000, 30000],\n",
       "                          &#x27;vectorizer__min_df&#x27;: [2, 3],\n",
       "                          &#x27;vectorizer__ngram_range&#x27;: [(1, 1), (1, 2)]}],\n",
       "             scoring=&#x27;f1_macro&#x27;)</pre><b>In a Jupyter environment, please rerun this cell to show the HTML representation or trust the notebook. <br />On GitHub, the HTML representation is unable to render, please try loading this page with nbviewer.org.</b></div><div class=\"sk-container\" hidden><div class=\"sk-item sk-dashed-wrapped\"><div class=\"sk-label-container\"><div class=\"sk-label sk-toggleable\"><input class=\"sk-toggleable__control sk-hidden--visually\" id=\"sk-estimator-id-33\" type=\"checkbox\" ><label for=\"sk-estimator-id-33\" class=\"sk-toggleable__label sk-toggleable__label-arrow\">GridSearchCV</label><div class=\"sk-toggleable__content\"><pre>GridSearchCV(cv=7,\n",
       "             estimator=Pipeline(steps=[(&#x27;vectorizer&#x27;, TfidfVectorizer()),\n",
       "                                       (&#x27;classifier&#x27;,\n",
       "                                        DecisionTreeClassifier())]),\n",
       "             param_grid=[{&#x27;classifier&#x27;: [DecisionTreeClassifier(max_depth=10,\n",
       "                                                                max_features=200,\n",
       "                                                                min_samples_split=4)],\n",
       "                          &#x27;classifier__criterion&#x27;: [&#x27;gini&#x27;],\n",
       "                          &#x27;classifier__max_depth&#x27;: [5, 10],\n",
       "                          &#x27;classifier__max_features&#x27;: [100, 200],\n",
       "                          &#x27;classifier__min_samples_leaf&#x27;: [1, 3],\n",
       "                          &#x27;classifier__min_samples_split&#x27;: [2, 4],\n",
       "                          &#x27;vectorizer&#x27;: [TfidfVectorizer(max_features=20000,\n",
       "                                                         min_df=3)],\n",
       "                          &#x27;vectorizer__max_features&#x27;: [20000, 30000],\n",
       "                          &#x27;vectorizer__min_df&#x27;: [2, 3],\n",
       "                          &#x27;vectorizer__ngram_range&#x27;: [(1, 1), (1, 2)]}],\n",
       "             scoring=&#x27;f1_macro&#x27;)</pre></div></div></div><div class=\"sk-parallel\"><div class=\"sk-parallel-item\"><div class=\"sk-item\"><div class=\"sk-label-container\"><div class=\"sk-label sk-toggleable\"><input class=\"sk-toggleable__control sk-hidden--visually\" id=\"sk-estimator-id-34\" type=\"checkbox\" ><label for=\"sk-estimator-id-34\" class=\"sk-toggleable__label sk-toggleable__label-arrow\">estimator: Pipeline</label><div class=\"sk-toggleable__content\"><pre>Pipeline(steps=[(&#x27;vectorizer&#x27;, TfidfVectorizer()),\n",
       "                (&#x27;classifier&#x27;, DecisionTreeClassifier())])</pre></div></div></div><div class=\"sk-serial\"><div class=\"sk-item\"><div class=\"sk-serial\"><div class=\"sk-item\"><div class=\"sk-estimator sk-toggleable\"><input class=\"sk-toggleable__control sk-hidden--visually\" id=\"sk-estimator-id-35\" type=\"checkbox\" ><label for=\"sk-estimator-id-35\" class=\"sk-toggleable__label sk-toggleable__label-arrow\">TfidfVectorizer</label><div class=\"sk-toggleable__content\"><pre>TfidfVectorizer()</pre></div></div></div><div class=\"sk-item\"><div class=\"sk-estimator sk-toggleable\"><input class=\"sk-toggleable__control sk-hidden--visually\" id=\"sk-estimator-id-36\" type=\"checkbox\" ><label for=\"sk-estimator-id-36\" class=\"sk-toggleable__label sk-toggleable__label-arrow\">DecisionTreeClassifier</label><div class=\"sk-toggleable__content\"><pre>DecisionTreeClassifier()</pre></div></div></div></div></div></div></div></div></div></div></div></div>"
      ],
      "text/plain": [
       "GridSearchCV(cv=7,\n",
       "             estimator=Pipeline(steps=[('vectorizer', TfidfVectorizer()),\n",
       "                                       ('classifier',\n",
       "                                        DecisionTreeClassifier())]),\n",
       "             param_grid=[{'classifier': [DecisionTreeClassifier(max_depth=10,\n",
       "                                                                max_features=200,\n",
       "                                                                min_samples_split=4)],\n",
       "                          'classifier__criterion': ['gini'],\n",
       "                          'classifier__max_depth': [5, 10],\n",
       "                          'classifier__max_features': [100, 200],\n",
       "                          'classifier__min_samples_leaf': [1, 3],\n",
       "                          'classifier__min_samples_split': [2, 4],\n",
       "                          'vectorizer': [TfidfVectorizer(max_features=20000,\n",
       "                                                         min_df=3)],\n",
       "                          'vectorizer__max_features': [20000, 30000],\n",
       "                          'vectorizer__min_df': [2, 3],\n",
       "                          'vectorizer__ngram_range': [(1, 1), (1, 2)]}],\n",
       "             scoring='f1_macro')"
      ]
     },
     "execution_count": 27,
     "metadata": {},
     "output_type": "execute_result"
    },
    {
     "name": "stdout",
     "output_type": "stream",
     "text": [
      "{'classifier': DecisionTreeClassifier(max_depth=10, max_features=200, min_samples_split=4), 'classifier__criterion': 'gini', 'classifier__max_depth': 10, 'classifier__max_features': 200, 'classifier__min_samples_leaf': 1, 'classifier__min_samples_split': 4, 'vectorizer': TfidfVectorizer(max_features=20000, min_df=3), 'vectorizer__max_features': 20000, 'vectorizer__min_df': 3, 'vectorizer__ngram_range': (1, 1)}\n",
      "0.5855723897114294\n"
     ]
    }
   ],
   "source": [
    "# Define pipeline\n",
    "pipeline_train = Pipeline([\n",
    "    ('vectorizer', TfidfVectorizer()),\n",
    "    ('classifier', DecisionTreeClassifier())\n",
    "])\n",
    "\n",
    "# Define parameter grid for grid search\n",
    "param_grid = [\n",
    "    {\n",
    "        'vectorizer': [TfidfVectorizer()],\n",
    "        'vectorizer__max_features': [20_000, 30_000],\n",
    "        'vectorizer__ngram_range': [(1,1), (1,2)],\n",
    "        'vectorizer__min_df': [2, 3],\n",
    "        'classifier': [DecisionTreeClassifier()],\n",
    "        'classifier__max_depth': [5, 10],\n",
    "        'classifier__max_features': [100, 200],\n",
    "        'classifier__min_samples_split': [2, 4],\n",
    "        'classifier__min_samples_leaf': [1, 3],\n",
    "        'classifier__criterion': ['gini']\n",
    "    }\n",
    "]\n",
    "# Perform grid search\n",
    "grid_search = GridSearchCV(pipeline_train, param_grid=param_grid, scoring='f1_macro', cv=7)\n",
    "grid_search.fit(df_train_tokenized['story'], df_train_tokenized['gender'])\n",
    "\n",
    "# Print best parameter combination and corresponding score\n",
    "print(grid_search.best_params_)\n",
    "print(grid_search.best_score_)"
   ]
  },
  {
   "attachments": {},
   "cell_type": "markdown",
   "metadata": {},
   "source": [
    "### Test 2 Results:\n",
    "* Average_f1 ≈ 0.585\n",
    "* Run-Time ≈ 7.40 minutes\n",
    "\n",
    "Seems like increasing the <code>cv value</code> didn't do good for our classifier.</br>\n",
    "Let's decrease the <code>cv value</code> back to 5 and see if can tune more the hyperparameters."
   ]
  },
  {
   "attachments": {},
   "cell_type": "markdown",
   "metadata": {},
   "source": [
    "### Test 3:"
   ]
  },
  {
   "cell_type": "code",
   "execution_count": 16,
   "metadata": {},
   "outputs": [
    {
     "data": {
      "text/html": [
       "<style>#sk-container-id-2 {color: black;background-color: white;}#sk-container-id-2 pre{padding: 0;}#sk-container-id-2 div.sk-toggleable {background-color: white;}#sk-container-id-2 label.sk-toggleable__label {cursor: pointer;display: block;width: 100%;margin-bottom: 0;padding: 0.3em;box-sizing: border-box;text-align: center;}#sk-container-id-2 label.sk-toggleable__label-arrow:before {content: \"▸\";float: left;margin-right: 0.25em;color: #696969;}#sk-container-id-2 label.sk-toggleable__label-arrow:hover:before {color: black;}#sk-container-id-2 div.sk-estimator:hover label.sk-toggleable__label-arrow:before {color: black;}#sk-container-id-2 div.sk-toggleable__content {max-height: 0;max-width: 0;overflow: hidden;text-align: left;background-color: #f0f8ff;}#sk-container-id-2 div.sk-toggleable__content pre {margin: 0.2em;color: black;border-radius: 0.25em;background-color: #f0f8ff;}#sk-container-id-2 input.sk-toggleable__control:checked~div.sk-toggleable__content {max-height: 200px;max-width: 100%;overflow: auto;}#sk-container-id-2 input.sk-toggleable__control:checked~label.sk-toggleable__label-arrow:before {content: \"▾\";}#sk-container-id-2 div.sk-estimator input.sk-toggleable__control:checked~label.sk-toggleable__label {background-color: #d4ebff;}#sk-container-id-2 div.sk-label input.sk-toggleable__control:checked~label.sk-toggleable__label {background-color: #d4ebff;}#sk-container-id-2 input.sk-hidden--visually {border: 0;clip: rect(1px 1px 1px 1px);clip: rect(1px, 1px, 1px, 1px);height: 1px;margin: -1px;overflow: hidden;padding: 0;position: absolute;width: 1px;}#sk-container-id-2 div.sk-estimator {font-family: monospace;background-color: #f0f8ff;border: 1px dotted black;border-radius: 0.25em;box-sizing: border-box;margin-bottom: 0.5em;}#sk-container-id-2 div.sk-estimator:hover {background-color: #d4ebff;}#sk-container-id-2 div.sk-parallel-item::after {content: \"\";width: 100%;border-bottom: 1px solid gray;flex-grow: 1;}#sk-container-id-2 div.sk-label:hover label.sk-toggleable__label {background-color: #d4ebff;}#sk-container-id-2 div.sk-serial::before {content: \"\";position: absolute;border-left: 1px solid gray;box-sizing: border-box;top: 0;bottom: 0;left: 50%;z-index: 0;}#sk-container-id-2 div.sk-serial {display: flex;flex-direction: column;align-items: center;background-color: white;padding-right: 0.2em;padding-left: 0.2em;position: relative;}#sk-container-id-2 div.sk-item {position: relative;z-index: 1;}#sk-container-id-2 div.sk-parallel {display: flex;align-items: stretch;justify-content: center;background-color: white;position: relative;}#sk-container-id-2 div.sk-item::before, #sk-container-id-2 div.sk-parallel-item::before {content: \"\";position: absolute;border-left: 1px solid gray;box-sizing: border-box;top: 0;bottom: 0;left: 50%;z-index: -1;}#sk-container-id-2 div.sk-parallel-item {display: flex;flex-direction: column;z-index: 1;position: relative;background-color: white;}#sk-container-id-2 div.sk-parallel-item:first-child::after {align-self: flex-end;width: 50%;}#sk-container-id-2 div.sk-parallel-item:last-child::after {align-self: flex-start;width: 50%;}#sk-container-id-2 div.sk-parallel-item:only-child::after {width: 0;}#sk-container-id-2 div.sk-dashed-wrapped {border: 1px dashed gray;margin: 0 0.4em 0.5em 0.4em;box-sizing: border-box;padding-bottom: 0.4em;background-color: white;}#sk-container-id-2 div.sk-label label {font-family: monospace;font-weight: bold;display: inline-block;line-height: 1.2em;}#sk-container-id-2 div.sk-label-container {text-align: center;}#sk-container-id-2 div.sk-container {/* jupyter's `normalize.less` sets `[hidden] { display: none; }` but bootstrap.min.css set `[hidden] { display: none !important; }` so we also need the `!important` here to be able to override the default hidden behavior on the sphinx rendered scikit-learn.org. See: https://github.com/scikit-learn/scikit-learn/issues/21755 */display: inline-block !important;position: relative;}#sk-container-id-2 div.sk-text-repr-fallback {display: none;}</style><div id=\"sk-container-id-2\" class=\"sk-top-container\"><div class=\"sk-text-repr-fallback\"><pre>GridSearchCV(cv=5,\n",
       "             estimator=Pipeline(steps=[(&#x27;vectorizer&#x27;, TfidfVectorizer()),\n",
       "                                       (&#x27;classifier&#x27;,\n",
       "                                        DecisionTreeClassifier())]),\n",
       "             param_grid=[{&#x27;classifier&#x27;: [DecisionTreeClassifier(max_depth=10)],\n",
       "                          &#x27;classifier__criterion&#x27;: [&#x27;gini&#x27;],\n",
       "                          &#x27;classifier__max_depth&#x27;: [5, 10],\n",
       "                          &#x27;classifier__min_samples_leaf&#x27;: [1, 3],\n",
       "                          &#x27;classifier__min_samples_split&#x27;: [2, 4],\n",
       "                          &#x27;vectorizer&#x27;: [TfidfVectorizer(max_df=0.9,\n",
       "                                                         max_features=10000,\n",
       "                                                         min_df=3)],\n",
       "                          &#x27;vectorizer__max_df&#x27;: [0.7, 0.9],\n",
       "                          &#x27;vectorizer__max_features&#x27;: [10000, 30000],\n",
       "                          &#x27;vectorizer__min_df&#x27;: [1, 2, 3],\n",
       "                          &#x27;vectorizer__ngram_range&#x27;: [(1, 1)]}],\n",
       "             scoring=&#x27;f1_macro&#x27;)</pre><b>In a Jupyter environment, please rerun this cell to show the HTML representation or trust the notebook. <br />On GitHub, the HTML representation is unable to render, please try loading this page with nbviewer.org.</b></div><div class=\"sk-container\" hidden><div class=\"sk-item sk-dashed-wrapped\"><div class=\"sk-label-container\"><div class=\"sk-label sk-toggleable\"><input class=\"sk-toggleable__control sk-hidden--visually\" id=\"sk-estimator-id-5\" type=\"checkbox\" ><label for=\"sk-estimator-id-5\" class=\"sk-toggleable__label sk-toggleable__label-arrow\">GridSearchCV</label><div class=\"sk-toggleable__content\"><pre>GridSearchCV(cv=5,\n",
       "             estimator=Pipeline(steps=[(&#x27;vectorizer&#x27;, TfidfVectorizer()),\n",
       "                                       (&#x27;classifier&#x27;,\n",
       "                                        DecisionTreeClassifier())]),\n",
       "             param_grid=[{&#x27;classifier&#x27;: [DecisionTreeClassifier(max_depth=10)],\n",
       "                          &#x27;classifier__criterion&#x27;: [&#x27;gini&#x27;],\n",
       "                          &#x27;classifier__max_depth&#x27;: [5, 10],\n",
       "                          &#x27;classifier__min_samples_leaf&#x27;: [1, 3],\n",
       "                          &#x27;classifier__min_samples_split&#x27;: [2, 4],\n",
       "                          &#x27;vectorizer&#x27;: [TfidfVectorizer(max_df=0.9,\n",
       "                                                         max_features=10000,\n",
       "                                                         min_df=3)],\n",
       "                          &#x27;vectorizer__max_df&#x27;: [0.7, 0.9],\n",
       "                          &#x27;vectorizer__max_features&#x27;: [10000, 30000],\n",
       "                          &#x27;vectorizer__min_df&#x27;: [1, 2, 3],\n",
       "                          &#x27;vectorizer__ngram_range&#x27;: [(1, 1)]}],\n",
       "             scoring=&#x27;f1_macro&#x27;)</pre></div></div></div><div class=\"sk-parallel\"><div class=\"sk-parallel-item\"><div class=\"sk-item\"><div class=\"sk-label-container\"><div class=\"sk-label sk-toggleable\"><input class=\"sk-toggleable__control sk-hidden--visually\" id=\"sk-estimator-id-6\" type=\"checkbox\" ><label for=\"sk-estimator-id-6\" class=\"sk-toggleable__label sk-toggleable__label-arrow\">estimator: Pipeline</label><div class=\"sk-toggleable__content\"><pre>Pipeline(steps=[(&#x27;vectorizer&#x27;, TfidfVectorizer()),\n",
       "                (&#x27;classifier&#x27;, DecisionTreeClassifier())])</pre></div></div></div><div class=\"sk-serial\"><div class=\"sk-item\"><div class=\"sk-serial\"><div class=\"sk-item\"><div class=\"sk-estimator sk-toggleable\"><input class=\"sk-toggleable__control sk-hidden--visually\" id=\"sk-estimator-id-7\" type=\"checkbox\" ><label for=\"sk-estimator-id-7\" class=\"sk-toggleable__label sk-toggleable__label-arrow\">TfidfVectorizer</label><div class=\"sk-toggleable__content\"><pre>TfidfVectorizer()</pre></div></div></div><div class=\"sk-item\"><div class=\"sk-estimator sk-toggleable\"><input class=\"sk-toggleable__control sk-hidden--visually\" id=\"sk-estimator-id-8\" type=\"checkbox\" ><label for=\"sk-estimator-id-8\" class=\"sk-toggleable__label sk-toggleable__label-arrow\">DecisionTreeClassifier</label><div class=\"sk-toggleable__content\"><pre>DecisionTreeClassifier()</pre></div></div></div></div></div></div></div></div></div></div></div></div>"
      ],
      "text/plain": [
       "GridSearchCV(cv=5,\n",
       "             estimator=Pipeline(steps=[('vectorizer', TfidfVectorizer()),\n",
       "                                       ('classifier',\n",
       "                                        DecisionTreeClassifier())]),\n",
       "             param_grid=[{'classifier': [DecisionTreeClassifier(max_depth=10)],\n",
       "                          'classifier__criterion': ['gini'],\n",
       "                          'classifier__max_depth': [5, 10],\n",
       "                          'classifier__min_samples_leaf': [1, 3],\n",
       "                          'classifier__min_samples_split': [2, 4],\n",
       "                          'vectorizer': [TfidfVectorizer(max_df=0.9,\n",
       "                                                         max_features=10000,\n",
       "                                                         min_df=3)],\n",
       "                          'vectorizer__max_df': [0.7, 0.9],\n",
       "                          'vectorizer__max_features': [10000, 30000],\n",
       "                          'vectorizer__min_df': [1, 2, 3],\n",
       "                          'vectorizer__ngram_range': [(1, 1)]}],\n",
       "             scoring='f1_macro')"
      ]
     },
     "execution_count": 16,
     "metadata": {},
     "output_type": "execute_result"
    },
    {
     "name": "stdout",
     "output_type": "stream",
     "text": [
      "{'classifier': DecisionTreeClassifier(max_depth=10), 'classifier__criterion': 'gini', 'classifier__max_depth': 10, 'classifier__min_samples_leaf': 1, 'classifier__min_samples_split': 2, 'vectorizer': TfidfVectorizer(max_df=0.9, max_features=10000, min_df=3), 'vectorizer__max_df': 0.9, 'vectorizer__max_features': 10000, 'vectorizer__min_df': 3, 'vectorizer__ngram_range': (1, 1)}\n",
      "0.6259716448970621\n"
     ]
    }
   ],
   "source": [
    "# Define pipeline\n",
    "pipeline_train = Pipeline([\n",
    "    ('vectorizer', TfidfVectorizer()),\n",
    "    ('classifier', DecisionTreeClassifier())\n",
    "])\n",
    "\n",
    "# Define parameter grid for grid search\n",
    "param_grid = [\n",
    "    {\n",
    "        'vectorizer': [TfidfVectorizer()],\n",
    "        'vectorizer__max_features': [10_000, 30_000],\n",
    "        'vectorizer__ngram_range': [(1,1)],\n",
    "        'vectorizer__min_df': [1, 2, 3],\n",
    "        'vectorizer__max_df': [0.7, 0.9],\n",
    "        'classifier': [DecisionTreeClassifier()],\n",
    "        'classifier__max_depth': [5, 10],\n",
    "        'classifier__min_samples_split': [2, 4],\n",
    "        'classifier__min_samples_leaf': [1, 3],\n",
    "        'classifier__criterion': ['gini']\n",
    "    }\n",
    "]\n",
    "# Perform grid search\n",
    "grid_search = GridSearchCV(pipeline_train, param_grid=param_grid, scoring='f1_macro', cv=5)\n",
    "grid_search.fit(df_train_tokenized['story'], df_train_tokenized['gender'])\n",
    "\n",
    "# Print best parameter combination and corresponding score\n",
    "print(grid_search.best_params_)\n",
    "print(grid_search.best_score_)"
   ]
  },
  {
   "attachments": {},
   "cell_type": "markdown",
   "metadata": {},
   "source": [
    "### Test 3 Results:\n",
    "* Average_f1 ≈ 0.625\n",
    "* Run-Time ≈ 3 minutes\n",
    "\n",
    "Compared to previous tests, our <code>Run-Time</code> is much more better, but alas, We can't seem to get past 0.62</br>\n",
    "in the <code>Average_f1</code>.\n",
    "Let's try one more test with different values in hyperparameters and see if we can make any progress."
   ]
  },
  {
   "attachments": {},
   "cell_type": "markdown",
   "metadata": {},
   "source": [
    "### Test 4:"
   ]
  },
  {
   "cell_type": "code",
   "execution_count": 18,
   "metadata": {},
   "outputs": [
    {
     "data": {
      "text/html": [
       "<style>#sk-container-id-3 {color: black;background-color: white;}#sk-container-id-3 pre{padding: 0;}#sk-container-id-3 div.sk-toggleable {background-color: white;}#sk-container-id-3 label.sk-toggleable__label {cursor: pointer;display: block;width: 100%;margin-bottom: 0;padding: 0.3em;box-sizing: border-box;text-align: center;}#sk-container-id-3 label.sk-toggleable__label-arrow:before {content: \"▸\";float: left;margin-right: 0.25em;color: #696969;}#sk-container-id-3 label.sk-toggleable__label-arrow:hover:before {color: black;}#sk-container-id-3 div.sk-estimator:hover label.sk-toggleable__label-arrow:before {color: black;}#sk-container-id-3 div.sk-toggleable__content {max-height: 0;max-width: 0;overflow: hidden;text-align: left;background-color: #f0f8ff;}#sk-container-id-3 div.sk-toggleable__content pre {margin: 0.2em;color: black;border-radius: 0.25em;background-color: #f0f8ff;}#sk-container-id-3 input.sk-toggleable__control:checked~div.sk-toggleable__content {max-height: 200px;max-width: 100%;overflow: auto;}#sk-container-id-3 input.sk-toggleable__control:checked~label.sk-toggleable__label-arrow:before {content: \"▾\";}#sk-container-id-3 div.sk-estimator input.sk-toggleable__control:checked~label.sk-toggleable__label {background-color: #d4ebff;}#sk-container-id-3 div.sk-label input.sk-toggleable__control:checked~label.sk-toggleable__label {background-color: #d4ebff;}#sk-container-id-3 input.sk-hidden--visually {border: 0;clip: rect(1px 1px 1px 1px);clip: rect(1px, 1px, 1px, 1px);height: 1px;margin: -1px;overflow: hidden;padding: 0;position: absolute;width: 1px;}#sk-container-id-3 div.sk-estimator {font-family: monospace;background-color: #f0f8ff;border: 1px dotted black;border-radius: 0.25em;box-sizing: border-box;margin-bottom: 0.5em;}#sk-container-id-3 div.sk-estimator:hover {background-color: #d4ebff;}#sk-container-id-3 div.sk-parallel-item::after {content: \"\";width: 100%;border-bottom: 1px solid gray;flex-grow: 1;}#sk-container-id-3 div.sk-label:hover label.sk-toggleable__label {background-color: #d4ebff;}#sk-container-id-3 div.sk-serial::before {content: \"\";position: absolute;border-left: 1px solid gray;box-sizing: border-box;top: 0;bottom: 0;left: 50%;z-index: 0;}#sk-container-id-3 div.sk-serial {display: flex;flex-direction: column;align-items: center;background-color: white;padding-right: 0.2em;padding-left: 0.2em;position: relative;}#sk-container-id-3 div.sk-item {position: relative;z-index: 1;}#sk-container-id-3 div.sk-parallel {display: flex;align-items: stretch;justify-content: center;background-color: white;position: relative;}#sk-container-id-3 div.sk-item::before, #sk-container-id-3 div.sk-parallel-item::before {content: \"\";position: absolute;border-left: 1px solid gray;box-sizing: border-box;top: 0;bottom: 0;left: 50%;z-index: -1;}#sk-container-id-3 div.sk-parallel-item {display: flex;flex-direction: column;z-index: 1;position: relative;background-color: white;}#sk-container-id-3 div.sk-parallel-item:first-child::after {align-self: flex-end;width: 50%;}#sk-container-id-3 div.sk-parallel-item:last-child::after {align-self: flex-start;width: 50%;}#sk-container-id-3 div.sk-parallel-item:only-child::after {width: 0;}#sk-container-id-3 div.sk-dashed-wrapped {border: 1px dashed gray;margin: 0 0.4em 0.5em 0.4em;box-sizing: border-box;padding-bottom: 0.4em;background-color: white;}#sk-container-id-3 div.sk-label label {font-family: monospace;font-weight: bold;display: inline-block;line-height: 1.2em;}#sk-container-id-3 div.sk-label-container {text-align: center;}#sk-container-id-3 div.sk-container {/* jupyter's `normalize.less` sets `[hidden] { display: none; }` but bootstrap.min.css set `[hidden] { display: none !important; }` so we also need the `!important` here to be able to override the default hidden behavior on the sphinx rendered scikit-learn.org. See: https://github.com/scikit-learn/scikit-learn/issues/21755 */display: inline-block !important;position: relative;}#sk-container-id-3 div.sk-text-repr-fallback {display: none;}</style><div id=\"sk-container-id-3\" class=\"sk-top-container\"><div class=\"sk-text-repr-fallback\"><pre>GridSearchCV(cv=5,\n",
       "             estimator=Pipeline(steps=[(&#x27;vectorizer&#x27;, TfidfVectorizer()),\n",
       "                                       (&#x27;classifier&#x27;,\n",
       "                                        DecisionTreeClassifier())]),\n",
       "             param_grid=[{&#x27;classifier&#x27;: [DecisionTreeClassifier(max_depth=10,\n",
       "                                                                min_samples_leaf=2,\n",
       "                                                                min_samples_split=3)],\n",
       "                          &#x27;classifier__criterion&#x27;: [&#x27;gini&#x27;],\n",
       "                          &#x27;classifier__max_depth&#x27;: [10],\n",
       "                          &#x27;classifier__min_samples_leaf&#x27;: [2, 3],\n",
       "                          &#x27;classifier__min_samples_split&#x27;: [3, 5],\n",
       "                          &#x27;vectorizer&#x27;: [TfidfVectorizer(max_df=0.9,\n",
       "                                                         max_features=40000,\n",
       "                                                         min_df=3)],\n",
       "                          &#x27;vectorizer__max_df&#x27;: [0.9],\n",
       "                          &#x27;vectorizer__max_features&#x27;: [10000, 15000, 40000],\n",
       "                          &#x27;vectorizer__min_df&#x27;: [1, 2, 3],\n",
       "                          &#x27;vectorizer__ngram_range&#x27;: [(1, 1), (1, 2)]}],\n",
       "             scoring=&#x27;f1_macro&#x27;)</pre><b>In a Jupyter environment, please rerun this cell to show the HTML representation or trust the notebook. <br />On GitHub, the HTML representation is unable to render, please try loading this page with nbviewer.org.</b></div><div class=\"sk-container\" hidden><div class=\"sk-item sk-dashed-wrapped\"><div class=\"sk-label-container\"><div class=\"sk-label sk-toggleable\"><input class=\"sk-toggleable__control sk-hidden--visually\" id=\"sk-estimator-id-9\" type=\"checkbox\" ><label for=\"sk-estimator-id-9\" class=\"sk-toggleable__label sk-toggleable__label-arrow\">GridSearchCV</label><div class=\"sk-toggleable__content\"><pre>GridSearchCV(cv=5,\n",
       "             estimator=Pipeline(steps=[(&#x27;vectorizer&#x27;, TfidfVectorizer()),\n",
       "                                       (&#x27;classifier&#x27;,\n",
       "                                        DecisionTreeClassifier())]),\n",
       "             param_grid=[{&#x27;classifier&#x27;: [DecisionTreeClassifier(max_depth=10,\n",
       "                                                                min_samples_leaf=2,\n",
       "                                                                min_samples_split=3)],\n",
       "                          &#x27;classifier__criterion&#x27;: [&#x27;gini&#x27;],\n",
       "                          &#x27;classifier__max_depth&#x27;: [10],\n",
       "                          &#x27;classifier__min_samples_leaf&#x27;: [2, 3],\n",
       "                          &#x27;classifier__min_samples_split&#x27;: [3, 5],\n",
       "                          &#x27;vectorizer&#x27;: [TfidfVectorizer(max_df=0.9,\n",
       "                                                         max_features=40000,\n",
       "                                                         min_df=3)],\n",
       "                          &#x27;vectorizer__max_df&#x27;: [0.9],\n",
       "                          &#x27;vectorizer__max_features&#x27;: [10000, 15000, 40000],\n",
       "                          &#x27;vectorizer__min_df&#x27;: [1, 2, 3],\n",
       "                          &#x27;vectorizer__ngram_range&#x27;: [(1, 1), (1, 2)]}],\n",
       "             scoring=&#x27;f1_macro&#x27;)</pre></div></div></div><div class=\"sk-parallel\"><div class=\"sk-parallel-item\"><div class=\"sk-item\"><div class=\"sk-label-container\"><div class=\"sk-label sk-toggleable\"><input class=\"sk-toggleable__control sk-hidden--visually\" id=\"sk-estimator-id-10\" type=\"checkbox\" ><label for=\"sk-estimator-id-10\" class=\"sk-toggleable__label sk-toggleable__label-arrow\">estimator: Pipeline</label><div class=\"sk-toggleable__content\"><pre>Pipeline(steps=[(&#x27;vectorizer&#x27;, TfidfVectorizer()),\n",
       "                (&#x27;classifier&#x27;, DecisionTreeClassifier())])</pre></div></div></div><div class=\"sk-serial\"><div class=\"sk-item\"><div class=\"sk-serial\"><div class=\"sk-item\"><div class=\"sk-estimator sk-toggleable\"><input class=\"sk-toggleable__control sk-hidden--visually\" id=\"sk-estimator-id-11\" type=\"checkbox\" ><label for=\"sk-estimator-id-11\" class=\"sk-toggleable__label sk-toggleable__label-arrow\">TfidfVectorizer</label><div class=\"sk-toggleable__content\"><pre>TfidfVectorizer()</pre></div></div></div><div class=\"sk-item\"><div class=\"sk-estimator sk-toggleable\"><input class=\"sk-toggleable__control sk-hidden--visually\" id=\"sk-estimator-id-12\" type=\"checkbox\" ><label for=\"sk-estimator-id-12\" class=\"sk-toggleable__label sk-toggleable__label-arrow\">DecisionTreeClassifier</label><div class=\"sk-toggleable__content\"><pre>DecisionTreeClassifier()</pre></div></div></div></div></div></div></div></div></div></div></div></div>"
      ],
      "text/plain": [
       "GridSearchCV(cv=5,\n",
       "             estimator=Pipeline(steps=[('vectorizer', TfidfVectorizer()),\n",
       "                                       ('classifier',\n",
       "                                        DecisionTreeClassifier())]),\n",
       "             param_grid=[{'classifier': [DecisionTreeClassifier(max_depth=10,\n",
       "                                                                min_samples_leaf=2,\n",
       "                                                                min_samples_split=3)],\n",
       "                          'classifier__criterion': ['gini'],\n",
       "                          'classifier__max_depth': [10],\n",
       "                          'classifier__min_samples_leaf': [2, 3],\n",
       "                          'classifier__min_samples_split': [3, 5],\n",
       "                          'vectorizer': [TfidfVectorizer(max_df=0.9,\n",
       "                                                         max_features=40000,\n",
       "                                                         min_df=3)],\n",
       "                          'vectorizer__max_df': [0.9],\n",
       "                          'vectorizer__max_features': [10000, 15000, 40000],\n",
       "                          'vectorizer__min_df': [1, 2, 3],\n",
       "                          'vectorizer__ngram_range': [(1, 1), (1, 2)]}],\n",
       "             scoring='f1_macro')"
      ]
     },
     "execution_count": 18,
     "metadata": {},
     "output_type": "execute_result"
    },
    {
     "name": "stdout",
     "output_type": "stream",
     "text": [
      "{'classifier': DecisionTreeClassifier(max_depth=10, min_samples_leaf=2, min_samples_split=3), 'classifier__criterion': 'gini', 'classifier__max_depth': 10, 'classifier__min_samples_leaf': 2, 'classifier__min_samples_split': 3, 'vectorizer': TfidfVectorizer(max_df=0.9, max_features=40000, min_df=3), 'vectorizer__max_df': 0.9, 'vectorizer__max_features': 40000, 'vectorizer__min_df': 3, 'vectorizer__ngram_range': (1, 1)}\n",
      "0.6339780010154564\n"
     ]
    }
   ],
   "source": [
    "# Define pipeline\n",
    "pipeline_train = Pipeline([\n",
    "    ('vectorizer', TfidfVectorizer()),\n",
    "    ('classifier', DecisionTreeClassifier())\n",
    "])\n",
    "\n",
    "# Define parameter grid for grid search\n",
    "param_grid = [\n",
    "    {\n",
    "        'vectorizer': [TfidfVectorizer()],\n",
    "        'vectorizer__max_features': [10_000, 15_000, 40_000],\n",
    "        'vectorizer__ngram_range': [(1,1), (1,2)],\n",
    "        'vectorizer__min_df': [1, 2, 3],\n",
    "        'vectorizer__max_df': [0.9],\n",
    "        'classifier': [DecisionTreeClassifier()],\n",
    "        'classifier__max_depth': [10],\n",
    "        'classifier__min_samples_split': [3, 5],\n",
    "        'classifier__min_samples_leaf': [2, 3],\n",
    "        'classifier__criterion': ['gini']\n",
    "    }\n",
    "]\n",
    "# Perform grid search\n",
    "grid_search = GridSearchCV(pipeline_train, param_grid=param_grid, scoring='f1_macro', cv=5)\n",
    "grid_search.fit(df_train_tokenized['story'], df_train_tokenized['gender'])\n",
    "\n",
    "# Print best parameter combination and corresponding score\n",
    "print(grid_search.best_params_)\n",
    "print(grid_search.best_score_)"
   ]
  },
  {
   "attachments": {},
   "cell_type": "markdown",
   "metadata": {},
   "source": [
    "### Test 4 Results:\n",
    "* Average_f1 ≈ 0.633\n",
    "* Run-Time ≈ 4.20 minutes\n",
    "\n",
    "Finally, we managed to improve the <code>Average_f1</code> value, even if by a little.</br>\n",
    "I don't believe there is anything more to be done to improve the <code>Average_f1</code> value."
   ]
  },
  {
   "attachments": {},
   "cell_type": "markdown",
   "metadata": {},
   "source": [
    "## Step 2.3.2: Decision Tree and TfidfVectorizer - Conclusion:\n",
    "\n",
    "| Test no.              | Average_f1 | Run-Time(minutes) |\n",
    "|-----------------------|------------|-------------------|\n",
    "| 1                     | 0.629      | 5.30              |  \n",
    "| 2                     | 0.585      | 7.40              |\n",
    "| 3                     | 0.625      | 3                 | \n",
    "| <code>4</code>        | 0.633      | 4.20              |\n",
    "\n",
    "</br>"
   ]
  },
  {
   "attachments": {},
   "cell_type": "markdown",
   "metadata": {},
   "source": [
    "# <u>Step 2.3: Decision Tree - Conclusion:</u>\n",
    "\n",
    "| Vectorizer                                | Best Average_f1 | Run-Time(minutes) |\n",
    "|-------------------------------------------|-----------------|-------------------|\n",
    "| CountVectorizer                           | 0.583           | 7.30              |  \n",
    "| <code>**TfidfVectorizer**</code>          | 0.633           | 4.20              |\n",
    "\n",
    "</br></br>"
   ]
  },
  {
   "attachments": {},
   "cell_type": "markdown",
   "metadata": {},
   "source": [
    "# <u>Step 3: Testing Conclusion:</u>\n",
    "\n",
    "At this stage we will examine the different results we received from different models</br>\n",
    "and present the best results from each model in several ways.</br>\n",
    "The model & vectorizer with the highest <code>Average_f1</code> will be used on the <code>test dataframe</code> for prediction."
   ]
  },
  {
   "attachments": {},
   "cell_type": "markdown",
   "metadata": {},
   "source": [
    "## Step 3.1: Table:\n",
    "\n",
    "Model                                       | Vectorizer                                | Best Average_f1 | Run-Time(minutes) |\n",
    "--------------------------------------------|-------------------------------------------|-----------------|-------------------|\n",
    "<code>**MultinomialNB**</code>              | <code>**CountVectorizer**</code>          | 0.703           | 4                 |  \n",
    "MultinomialNB                               | TfidfVectorizer                           | 0.525           | 4                 |\n",
    "LinearSVC                                   | CountVectorizer                           | 0.702           | 2                 |  \n",
    "LinearSVC                                   | TfidfVectorizer                           | 0.673           | 5                 |\n",
    "Decision Tree                               | CountVectorizer                           | 0.583           | 7.30              |  \n",
    "Decision Tree                               | TfidfVectorizer                           | 0.633           | 4.20              |"
   ]
  },
  {
   "attachments": {},
   "cell_type": "markdown",
   "metadata": {},
   "source": [
    "## Step 3.2: EDA:"
   ]
  },
  {
   "cell_type": "code",
   "execution_count": 31,
   "metadata": {},
   "outputs": [
    {
     "data": {
      "text/plain": [
       "<seaborn.axisgrid.FacetGrid at 0x2b4585f77f0>"
      ]
     },
     "execution_count": 31,
     "metadata": {},
     "output_type": "execute_result"
    },
    {
     "data": {
      "text/plain": [
       "<seaborn.axisgrid.FacetGrid at 0x2b4585f77f0>"
      ]
     },
     "execution_count": 31,
     "metadata": {},
     "output_type": "execute_result"
    },
    {
     "data": {
      "text/plain": [
       "Text(0.5, 1.0, 'Best Average_f1 for Text Classification Models')"
      ]
     },
     "execution_count": 31,
     "metadata": {},
     "output_type": "execute_result"
    },
    {
     "data": {
      "text/plain": [
       "<matplotlib.legend.Legend at 0x2b4587bb280>"
      ]
     },
     "execution_count": 31,
     "metadata": {},
     "output_type": "execute_result"
    },
    {
     "data": {
      "image/png": "[encoded data removed]",
      "text/plain": [
       "<Figure size 900x600 with 1 Axes>"
      ]
     },
     "metadata": {},
     "output_type": "display_data"
    }
   ],
   "source": [
    "import seaborn as sns\n",
    "\n",
    "# create a dataframe for the best results (as seen in the table above)\n",
    "best_results_df = pd.DataFrame({\n",
    "    'Model': ['MultinomialNB', 'MultinomialNB', 'LinearSVC', 'LinearSVC', 'Decision Tree', 'Decision Tree'],\n",
    "    'Vectorizer': ['CountVectorizer', 'TfidfVectorizer', 'CountVectorizer', 'TfidfVectorizer', 'CountVectorizer', 'TfidfVectorizer'],\n",
    "    'Best Average_f1': [0.703, 0.525, 0.702, 0.673, 0.583, 0.633],\n",
    "    'Run-Time': [4, 4, 2, 5, 7.30, 4.20]\n",
    "})\n",
    "\n",
    "# set the style for the plot\n",
    "sns.set_style('darkgrid')\n",
    "sns.set_context(\"notebook\", font_scale=1.5, rc={\"lines.linewidth\": 2.5})\n",
    "\n",
    "# create the bar plot\n",
    "best_results_bar = sns.catplot(\n",
    "    x='Model', \n",
    "    y='Best Average_f1', \n",
    "    hue='Vectorizer', \n",
    "    data=best_results_df, \n",
    "    kind='bar', \n",
    "    legend=False, \n",
    "    palette='deep', \n",
    "    alpha=1, \n",
    "    height=6, \n",
    "    aspect=1.5\n",
    ")\n",
    "\n",
    "# set the labels for the plot\n",
    "best_results_bar.set_xlabels(\"Models\", fontsize=15)\n",
    "best_results_bar.set_ylabels(\"Best Average_f1\", fontsize=15)\n",
    "\n",
    "# set the title for the plot\n",
    "plt.title('Best Average_f1 for Text Classification Models', fontsize=18)\n",
    "\n",
    "# adjust the legend position\n",
    "plt.legend(title=\"Vectorizer\", bbox_to_anchor=(1.05, 1), loc='upper left', borderaxespad=0)\n",
    "        \n",
    "# show the plot\n",
    "plt.show()"
   ]
  },
  {
   "attachments": {},
   "cell_type": "markdown",
   "metadata": {},
   "source": [
    "# <u>Step 4: Prediction:</u>\n",
    "\n",
    "We found in the previous step that the model that produced the highest <code>Average_f1</code> value is the MultinomialNB model with the CountVectorizer.</br>\n",
    "Now, all we have left to do is make a prediction on the <code>df_test</code> and display the first and last 5 rows."
   ]
  },
  {
   "attachments": {},
   "cell_type": "markdown",
   "metadata": {},
   "source": [
    "## Step 4.1: Tokenization"
   ]
  },
  {
   "cell_type": "code",
   "execution_count": 13,
   "metadata": {},
   "outputs": [],
   "source": [
    "df_test_tokenized = df_test.copy()\n",
    "df_test_tokenized['story'] = df_test_tokenized['story'].apply(preprocess_text)"
   ]
  },
  {
   "attachments": {},
   "cell_type": "markdown",
   "metadata": {},
   "source": [
    "## Step 4.2: Setting a <code>MultinomialNB and CountVectorizer</code> Pipeline"
   ]
  },
  {
   "cell_type": "code",
   "execution_count": 17,
   "metadata": {},
   "outputs": [
    {
     "data": {
      "text/html": [
       "<style>#sk-container-id-2 {color: black;background-color: white;}#sk-container-id-2 pre{padding: 0;}#sk-container-id-2 div.sk-toggleable {background-color: white;}#sk-container-id-2 label.sk-toggleable__label {cursor: pointer;display: block;width: 100%;margin-bottom: 0;padding: 0.3em;box-sizing: border-box;text-align: center;}#sk-container-id-2 label.sk-toggleable__label-arrow:before {content: \"▸\";float: left;margin-right: 0.25em;color: #696969;}#sk-container-id-2 label.sk-toggleable__label-arrow:hover:before {color: black;}#sk-container-id-2 div.sk-estimator:hover label.sk-toggleable__label-arrow:before {color: black;}#sk-container-id-2 div.sk-toggleable__content {max-height: 0;max-width: 0;overflow: hidden;text-align: left;background-color: #f0f8ff;}#sk-container-id-2 div.sk-toggleable__content pre {margin: 0.2em;color: black;border-radius: 0.25em;background-color: #f0f8ff;}#sk-container-id-2 input.sk-toggleable__control:checked~div.sk-toggleable__content {max-height: 200px;max-width: 100%;overflow: auto;}#sk-container-id-2 input.sk-toggleable__control:checked~label.sk-toggleable__label-arrow:before {content: \"▾\";}#sk-container-id-2 div.sk-estimator input.sk-toggleable__control:checked~label.sk-toggleable__label {background-color: #d4ebff;}#sk-container-id-2 div.sk-label input.sk-toggleable__control:checked~label.sk-toggleable__label {background-color: #d4ebff;}#sk-container-id-2 input.sk-hidden--visually {border: 0;clip: rect(1px 1px 1px 1px);clip: rect(1px, 1px, 1px, 1px);height: 1px;margin: -1px;overflow: hidden;padding: 0;position: absolute;width: 1px;}#sk-container-id-2 div.sk-estimator {font-family: monospace;background-color: #f0f8ff;border: 1px dotted black;border-radius: 0.25em;box-sizing: border-box;margin-bottom: 0.5em;}#sk-container-id-2 div.sk-estimator:hover {background-color: #d4ebff;}#sk-container-id-2 div.sk-parallel-item::after {content: \"\";width: 100%;border-bottom: 1px solid gray;flex-grow: 1;}#sk-container-id-2 div.sk-label:hover label.sk-toggleable__label {background-color: #d4ebff;}#sk-container-id-2 div.sk-serial::before {content: \"\";position: absolute;border-left: 1px solid gray;box-sizing: border-box;top: 0;bottom: 0;left: 50%;z-index: 0;}#sk-container-id-2 div.sk-serial {display: flex;flex-direction: column;align-items: center;background-color: white;padding-right: 0.2em;padding-left: 0.2em;position: relative;}#sk-container-id-2 div.sk-item {position: relative;z-index: 1;}#sk-container-id-2 div.sk-parallel {display: flex;align-items: stretch;justify-content: center;background-color: white;position: relative;}#sk-container-id-2 div.sk-item::before, #sk-container-id-2 div.sk-parallel-item::before {content: \"\";position: absolute;border-left: 1px solid gray;box-sizing: border-box;top: 0;bottom: 0;left: 50%;z-index: -1;}#sk-container-id-2 div.sk-parallel-item {display: flex;flex-direction: column;z-index: 1;position: relative;background-color: white;}#sk-container-id-2 div.sk-parallel-item:first-child::after {align-self: flex-end;width: 50%;}#sk-container-id-2 div.sk-parallel-item:last-child::after {align-self: flex-start;width: 50%;}#sk-container-id-2 div.sk-parallel-item:only-child::after {width: 0;}#sk-container-id-2 div.sk-dashed-wrapped {border: 1px dashed gray;margin: 0 0.4em 0.5em 0.4em;box-sizing: border-box;padding-bottom: 0.4em;background-color: white;}#sk-container-id-2 div.sk-label label {font-family: monospace;font-weight: bold;display: inline-block;line-height: 1.2em;}#sk-container-id-2 div.sk-label-container {text-align: center;}#sk-container-id-2 div.sk-container {/* jupyter's `normalize.less` sets `[hidden] { display: none; }` but bootstrap.min.css set `[hidden] { display: none !important; }` so we also need the `!important` here to be able to override the default hidden behavior on the sphinx rendered scikit-learn.org. See: https://github.com/scikit-learn/scikit-learn/issues/21755 */display: inline-block !important;position: relative;}#sk-container-id-2 div.sk-text-repr-fallback {display: none;}</style><div id=\"sk-container-id-2\" class=\"sk-top-container\"><div class=\"sk-text-repr-fallback\"><pre>Pipeline(steps=[(&#x27;vectorizer&#x27;,\n",
       "                 CountVectorizer(max_df=0.7, max_features=10000, min_df=3,\n",
       "                                 ngram_range=(1, 2))),\n",
       "                (&#x27;classifier&#x27;, MultinomialNB(alpha=0.5))])</pre><b>In a Jupyter environment, please rerun this cell to show the HTML representation or trust the notebook. <br />On GitHub, the HTML representation is unable to render, please try loading this page with nbviewer.org.</b></div><div class=\"sk-container\" hidden><div class=\"sk-item sk-dashed-wrapped\"><div class=\"sk-label-container\"><div class=\"sk-label sk-toggleable\"><input class=\"sk-toggleable__control sk-hidden--visually\" id=\"sk-estimator-id-4\" type=\"checkbox\" ><label for=\"sk-estimator-id-4\" class=\"sk-toggleable__label sk-toggleable__label-arrow\">Pipeline</label><div class=\"sk-toggleable__content\"><pre>Pipeline(steps=[(&#x27;vectorizer&#x27;,\n",
       "                 CountVectorizer(max_df=0.7, max_features=10000, min_df=3,\n",
       "                                 ngram_range=(1, 2))),\n",
       "                (&#x27;classifier&#x27;, MultinomialNB(alpha=0.5))])</pre></div></div></div><div class=\"sk-serial\"><div class=\"sk-item\"><div class=\"sk-estimator sk-toggleable\"><input class=\"sk-toggleable__control sk-hidden--visually\" id=\"sk-estimator-id-5\" type=\"checkbox\" ><label for=\"sk-estimator-id-5\" class=\"sk-toggleable__label sk-toggleable__label-arrow\">CountVectorizer</label><div class=\"sk-toggleable__content\"><pre>CountVectorizer(max_df=0.7, max_features=10000, min_df=3, ngram_range=(1, 2))</pre></div></div></div><div class=\"sk-item\"><div class=\"sk-estimator sk-toggleable\"><input class=\"sk-toggleable__control sk-hidden--visually\" id=\"sk-estimator-id-6\" type=\"checkbox\" ><label for=\"sk-estimator-id-6\" class=\"sk-toggleable__label sk-toggleable__label-arrow\">MultinomialNB</label><div class=\"sk-toggleable__content\"><pre>MultinomialNB(alpha=0.5)</pre></div></div></div></div></div></div></div>"
      ],
      "text/plain": [
       "Pipeline(steps=[('vectorizer',\n",
       "                 CountVectorizer(max_df=0.7, max_features=10000, min_df=3,\n",
       "                                 ngram_range=(1, 2))),\n",
       "                ('classifier', MultinomialNB(alpha=0.5))])"
      ]
     },
     "execution_count": 17,
     "metadata": {},
     "output_type": "execute_result"
    }
   ],
   "source": [
    "pipeline_train = Pipeline([\n",
    "    ('vectorizer', CountVectorizer(max_df=0.7, max_features=10000, min_df=3, ngram_range=(1, 2))),\n",
    "    ('classifier', MultinomialNB(alpha=0.5))\n",
    "])\n",
    "\n",
    "pipeline_train.fit(df_train_tokenized['story'], df_train_tokenized['gender'])"
   ]
  },
  {
   "attachments": {},
   "cell_type": "markdown",
   "metadata": {},
   "source": [
    "## Step 4.3: It's Time To Predict!"
   ]
  },
  {
   "cell_type": "code",
   "execution_count": 22,
   "metadata": {},
   "outputs": [],
   "source": [
    "prediction = pipeline_train.predict(df_test_tokenized['story'])"
   ]
  },
  {
   "attachments": {},
   "cell_type": "markdown",
   "metadata": {},
   "source": [
    "## Step 4.4: Display The First and Last 5 Rows"
   ]
  },
  {
   "cell_type": "code",
   "execution_count": 24,
   "metadata": {},
   "outputs": [
    {
     "data": {
      "text/html": [
       "<div>\n",
       "<style scoped>\n",
       "    .dataframe tbody tr th:only-of-type {\n",
       "        vertical-align: middle;\n",
       "    }\n",
       "\n",
       "    .dataframe tbody tr th {\n",
       "        vertical-align: top;\n",
       "    }\n",
       "\n",
       "    .dataframe thead th {\n",
       "        text-align: right;\n",
       "    }\n",
       "</style>\n",
       "<table border=\"1\" class=\"dataframe\">\n",
       "  <thead>\n",
       "    <tr style=\"text-align: right;\">\n",
       "      <th></th>\n",
       "      <th>test_example_id</th>\n",
       "      <th>predicted_gender</th>\n",
       "    </tr>\n",
       "  </thead>\n",
       "  <tbody>\n",
       "    <tr>\n",
       "      <th>0</th>\n",
       "      <td>0</td>\n",
       "      <td>m</td>\n",
       "    </tr>\n",
       "    <tr>\n",
       "      <th>1</th>\n",
       "      <td>1</td>\n",
       "      <td>m</td>\n",
       "    </tr>\n",
       "    <tr>\n",
       "      <th>2</th>\n",
       "      <td>2</td>\n",
       "      <td>m</td>\n",
       "    </tr>\n",
       "    <tr>\n",
       "      <th>3</th>\n",
       "      <td>3</td>\n",
       "      <td>m</td>\n",
       "    </tr>\n",
       "    <tr>\n",
       "      <th>4</th>\n",
       "      <td>4</td>\n",
       "      <td>m</td>\n",
       "    </tr>\n",
       "    <tr>\n",
       "      <th>318</th>\n",
       "      <td>318</td>\n",
       "      <td>m</td>\n",
       "    </tr>\n",
       "    <tr>\n",
       "      <th>319</th>\n",
       "      <td>319</td>\n",
       "      <td>m</td>\n",
       "    </tr>\n",
       "    <tr>\n",
       "      <th>320</th>\n",
       "      <td>320</td>\n",
       "      <td>m</td>\n",
       "    </tr>\n",
       "    <tr>\n",
       "      <th>321</th>\n",
       "      <td>321</td>\n",
       "      <td>m</td>\n",
       "    </tr>\n",
       "    <tr>\n",
       "      <th>322</th>\n",
       "      <td>322</td>\n",
       "      <td>m</td>\n",
       "    </tr>\n",
       "  </tbody>\n",
       "</table>\n",
       "</div>"
      ],
      "text/plain": [
       "     test_example_id predicted_gender\n",
       "0                  0                m\n",
       "1                  1                m\n",
       "2                  2                m\n",
       "3                  3                m\n",
       "4                  4                m\n",
       "318              318                m\n",
       "319              319                m\n",
       "320              320                m\n",
       "321              321                m\n",
       "322              322                m"
      ]
     },
     "execution_count": 24,
     "metadata": {},
     "output_type": "execute_result"
    }
   ],
   "source": [
    "df_predicted = pd.DataFrame({\n",
    "    'test_example_id': df_test_tokenized['test_example_id'],\n",
    "    'predicted_gender': prediction\n",
    "})\n",
    "\n",
    "pd.concat([df_predicted.head(5), df_predicted.tail(5)])"
   ]
  },
  {
   "cell_type": "markdown",
   "metadata": {},
   "source": [
    "### Save output to csv (optional)\n",
    "After you're done save your output to the 'classification_results.csv' csv file.<br/>\n",
    "We assume that the dataframe with your results contain the following columns:\n",
    "* column 1 (left column): 'test_example_id'  - the same id associated to each of the test stories to be predicted.\n",
    "* column 2 (right column): 'predicted_category' - the predicted gender value for each of the associated story. \n",
    "\n",
    "Assuming your predicted values are in the `df_predicted` dataframe, you should save you're results as following:"
   ]
  },
  {
   "cell_type": "code",
   "execution_count": 25,
   "metadata": {},
   "outputs": [],
   "source": [
    "df_predicted.to_csv('classification_results.csv',index=False)"
   ]
  }
 ],
 "metadata": {
  "celltoolbar": "Create Assignment",
  "kernelspec": {
   "display_name": "Python 3 (ipykernel)",
   "language": "python",
   "name": "python3"
  },
  "language_info": {
   "codemirror_mode": {
    "name": "ipython",
    "version": 3
   },
   "file_extension": ".py",
   "mimetype": "text/x-python",
   "name": "python",
   "nbconvert_exporter": "python",
   "pygments_lexer": "ipython3",
   "version": "3.10.6"
  }
 },
 "nbformat": 4,
 "nbformat_minor": 4
}
